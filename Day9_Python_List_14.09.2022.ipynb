{
 "cells": [
  {
   "cell_type": "markdown",
   "id": "35b42a0d",
   "metadata": {},
   "source": [
    "# List ma kasari values haru lai upgrade garne or hataune( Delete, Pop, Remove)"
   ]
  },
  {
   "cell_type": "code",
   "execution_count": 1,
   "id": "cc70fb16",
   "metadata": {},
   "outputs": [
    {
     "data": {
      "text/plain": [
       "0"
      ]
     },
     "execution_count": 1,
     "metadata": {},
     "output_type": "execute_result"
    }
   ],
   "source": [
    "a=['Zebra','Apple','Ball','Xray','Apple']\n",
    "a.index('Zebra')"
   ]
  },
  {
   "cell_type": "code",
   "execution_count": 3,
   "id": "f96a8815",
   "metadata": {},
   "outputs": [
    {
     "name": "stdout",
     "output_type": "stream",
     "text": [
      "1\n",
      "4\n"
     ]
    }
   ],
   "source": [
    "a=['Zebra','Apple','Ball','Xray','Apple']\n",
    "for i in range (len(a)):\n",
    "    if a[i]==\"Apple\":\n",
    "        print (i)"
   ]
  },
  {
   "cell_type": "code",
   "execution_count": 2,
   "id": "e9d23826",
   "metadata": {},
   "outputs": [
    {
     "name": "stdout",
     "output_type": "stream",
     "text": [
      "2\n"
     ]
    }
   ],
   "source": [
    "a=['Zebra','Apple','Ball','Xray','Apple']\n",
    "for i in range(len(a)):\n",
    "    if a [i]==\"Ball\":\n",
    "        print(i)"
   ]
  },
  {
   "cell_type": "code",
   "execution_count": 3,
   "id": "f2699353",
   "metadata": {},
   "outputs": [
    {
     "name": "stdout",
     "output_type": "stream",
     "text": [
      "3\n"
     ]
    }
   ],
   "source": [
    "a=['Zebra','Apple','Ball','Xray','Apple']\n",
    "for i in range(len(a)):\n",
    "    if a [i]==\"Xray\":\n",
    "        print(i)"
   ]
  },
  {
   "cell_type": "code",
   "execution_count": 7,
   "id": "c15c5ac7",
   "metadata": {},
   "outputs": [
    {
     "name": "stdout",
     "output_type": "stream",
     "text": [
      "['zebra', 'apple', 'Ball', 'Xray', 'Apple']\n"
     ]
    }
   ],
   "source": [
    "# Update values\n",
    "a=['Zebra','Apple','Ball','Xray','Apple']\n",
    "a[0:2]=['zebra', 'apple']\n",
    "print(a)"
   ]
  },
  {
   "cell_type": "markdown",
   "id": "b36042ed",
   "metadata": {},
   "source": [
    "# HW(??)"
   ]
  },
  {
   "cell_type": "code",
   "execution_count": 7,
   "id": "bfd1e0b1",
   "metadata": {},
   "outputs": [
    {
     "name": "stdout",
     "output_type": "stream",
     "text": [
      "['zebra', 'apple', 'mango', 'Xray', 'Apple']\n"
     ]
    }
   ],
   "source": [
    "# Update values\n",
    "a=['Zebra','Apple','Ball','Xray','Apple']\n",
    "a[0:3]=['zebra', 'apple','mango']\n",
    "print(a)"
   ]
  },
  {
   "cell_type": "code",
   "execution_count": 5,
   "id": "351cd9a2",
   "metadata": {},
   "outputs": [
    {
     "name": "stdout",
     "output_type": "stream",
     "text": [
      "['Zebra', 'zebra', 'apple', 'Ball', 'Xray', 'Apple']\n"
     ]
    }
   ],
   "source": [
    "a=['Zebra','Apple','Ball', 'Xray','Apple']\n",
    "a[1:2]=['zebra','apple']\n",
    "print(a)"
   ]
  },
  {
   "cell_type": "code",
   "execution_count": 6,
   "id": "bffa1f9f",
   "metadata": {},
   "outputs": [
    {
     "name": "stdout",
     "output_type": "stream",
     "text": [
      "['Zebra', 'apple', 'Ball', 'Xray', 'Apple']\n"
     ]
    }
   ],
   "source": [
    "a=['Zebra','Apple','Ball', 'Xray','Apple']\n",
    "a[1:2]=['apple']\n",
    "print(a)"
   ]
  },
  {
   "cell_type": "code",
   "execution_count": 8,
   "id": "5acd5628",
   "metadata": {},
   "outputs": [
    {
     "name": "stdout",
     "output_type": "stream",
     "text": [
      "['Ball', 'Xray', 'Apple']\n"
     ]
    }
   ],
   "source": [
    "#del remove() pop()\n",
    "a=['Zebra','Apple','Ball','Xray','Apple']\n",
    "del a[0:2]\n",
    "print (a)"
   ]
  },
  {
   "cell_type": "markdown",
   "id": "aee06d3f",
   "metadata": {},
   "source": [
    "# PoP()"
   ]
  },
  {
   "cell_type": "code",
   "execution_count": 9,
   "id": "33623232",
   "metadata": {},
   "outputs": [
    {
     "name": "stdout",
     "output_type": "stream",
     "text": [
      "['Apple', 'Ball', 'Xray', 'Apple']\n"
     ]
    }
   ],
   "source": [
    "a=['Zebra','Apple','Ball','Xray','Apple']\n",
    "a.pop(0)\n",
    "print(a)"
   ]
  },
  {
   "cell_type": "code",
   "execution_count": 10,
   "id": "67d863ce",
   "metadata": {},
   "outputs": [
    {
     "name": "stdout",
     "output_type": "stream",
     "text": [
      "Zebra\n",
      "['Apple', 'Ball', 'Xray', 'Apple']\n"
     ]
    }
   ],
   "source": [
    "a=['Zebra','Apple','Ball','Xray','Apple']\n",
    "b=a.pop(0)\n",
    "print(b)\n",
    "print(a)\n"
   ]
  },
  {
   "cell_type": "code",
   "execution_count": 2,
   "id": "bdadab10",
   "metadata": {},
   "outputs": [
    {
     "name": "stdout",
     "output_type": "stream",
     "text": [
      "Guava\n",
      "['Zebra', 'Apple', 'Ball', 'Xray', 'Apple']\n"
     ]
    }
   ],
   "source": [
    "a=['Zebra','Guava','Apple','Ball','Xray','Apple']\n",
    "b=a.pop(1)\n",
    "print(b)\n",
    "print(a)"
   ]
  },
  {
   "cell_type": "markdown",
   "id": "f2bf2415",
   "metadata": {},
   "source": [
    "# Remove"
   ]
  },
  {
   "cell_type": "code",
   "execution_count": null,
   "id": "5b743bbd",
   "metadata": {},
   "outputs": [],
   "source": []
  },
  {
   "cell_type": "code",
   "execution_count": 12,
   "id": "0694412c",
   "metadata": {},
   "outputs": [
    {
     "name": "stdout",
     "output_type": "stream",
     "text": [
      "['Zebra', 'Ball', 'Xray', 'Apple']\n"
     ]
    }
   ],
   "source": [
    "a=['Zebra','Apple','Ball','Xray','Apple']\n",
    "a.remove('Apple')\n",
    "print(a)"
   ]
  },
  {
   "cell_type": "code",
   "execution_count": 13,
   "id": "b55cf024",
   "metadata": {},
   "outputs": [
    {
     "name": "stdout",
     "output_type": "stream",
     "text": [
      "['Apple', 'Ball', 'Xray', 'Apple']\n"
     ]
    }
   ],
   "source": [
    "a=['Zebra','Apple','Ball','Xray','Apple']\n",
    "a.remove('Zebra')\n",
    "print(a)"
   ]
  },
  {
   "cell_type": "code",
   "execution_count": 17,
   "id": "54d59824",
   "metadata": {},
   "outputs": [
    {
     "name": "stdout",
     "output_type": "stream",
     "text": [
      "['Zebra', 'Ball', 'Xray']\n"
     ]
    }
   ],
   "source": [
    "a=['Zebra','Apple','Ball','Xray','Apple']\n",
    "l=a.count('Apple')\n",
    "for i in range(l):\n",
    "    a.remove('Apple')\n",
    "print(a)"
   ]
  },
  {
   "cell_type": "markdown",
   "id": "09fc5573",
   "metadata": {},
   "source": [
    "# Nested list (List inside List)"
   ]
  },
  {
   "cell_type": "code",
   "execution_count": 20,
   "id": "e93c5034",
   "metadata": {},
   "outputs": [
    {
     "name": "stdout",
     "output_type": "stream",
     "text": [
      "3\n"
     ]
    }
   ],
   "source": [
    "# Neted List (List inside List)\n",
    "a=[[1,2,3],\n",
    "  [4,5,6],\n",
    "  [7,8,9]]\n",
    "print(len(a))"
   ]
  },
  {
   "cell_type": "code",
   "execution_count": 1,
   "id": "546e9587",
   "metadata": {},
   "outputs": [
    {
     "name": "stdout",
     "output_type": "stream",
     "text": [
      "[['Ram', 34, 'Kathmandu'], ['Shyam', 21, 'Lalitpur'], ['Hari', 67, 'Bhaktapur']]\n"
     ]
    }
   ],
   "source": [
    "a=[['Ram',34,'Kathmandu'],\n",
    "  ['Shyam',21,'Lalitpur'],\n",
    "  ['Hari',67,'Bhaktapur']]\n",
    "print(a)"
   ]
  },
  {
   "cell_type": "code",
   "execution_count": 2,
   "id": "1133a074",
   "metadata": {},
   "outputs": [
    {
     "name": "stdout",
     "output_type": "stream",
     "text": [
      "['Hari', 67, 'Bhaktapur']\n"
     ]
    }
   ],
   "source": [
    "print(a[2])"
   ]
  },
  {
   "cell_type": "code",
   "execution_count": 3,
   "id": "1e755413",
   "metadata": {},
   "outputs": [
    {
     "name": "stdout",
     "output_type": "stream",
     "text": [
      "Hari\n"
     ]
    }
   ],
   "source": [
    "print(a[2][0])"
   ]
  },
  {
   "cell_type": "code",
   "execution_count": 4,
   "id": "7e9f3864",
   "metadata": {},
   "outputs": [
    {
     "name": "stdout",
     "output_type": "stream",
     "text": [
      "['Ram', 34, 'Kathmandu']\n"
     ]
    }
   ],
   "source": [
    "print(a[0])"
   ]
  },
  {
   "cell_type": "code",
   "execution_count": 5,
   "id": "93b75a78",
   "metadata": {},
   "outputs": [
    {
     "name": "stdout",
     "output_type": "stream",
     "text": [
      "Ram\n"
     ]
    }
   ],
   "source": [
    "print(a[0][0])"
   ]
  },
  {
   "cell_type": "code",
   "execution_count": 6,
   "id": "0219de4d",
   "metadata": {},
   "outputs": [
    {
     "name": "stdout",
     "output_type": "stream",
     "text": [
      "['Shyam', 21, 'Lalitpur']\n"
     ]
    }
   ],
   "source": [
    "print(a[1])"
   ]
  },
  {
   "cell_type": "code",
   "execution_count": 11,
   "id": "8628c3e8",
   "metadata": {},
   "outputs": [
    {
     "name": "stdout",
     "output_type": "stream",
     "text": [
      "Shyam\n"
     ]
    }
   ],
   "source": [
    "print(a[1][0])"
   ]
  },
  {
   "cell_type": "code",
   "execution_count": 14,
   "id": "7c9c52c8",
   "metadata": {},
   "outputs": [
    {
     "name": "stdout",
     "output_type": "stream",
     "text": [
      "Enter n=2\n",
      "Enter name=Ram\n",
      "Enter age=23\n",
      "Enter add=Kathmandu\n",
      "Enter name=Shyam\n",
      "Enter age=45\n",
      "Enter add=Lalitpur\n"
     ]
    }
   ],
   "source": [
    "a=list()\n",
    "n=int(input(\"Enter n=\"))\n",
    "for i in range(n):\n",
    "    name=input(\"Enter name=\")\n",
    "    age=input(\"Enter age=\")\n",
    "    add=input(\"Enter add=\")\n",
    "    a.append([name,age,add])"
   ]
  },
  {
   "cell_type": "code",
   "execution_count": 15,
   "id": "f161dc62",
   "metadata": {},
   "outputs": [
    {
     "name": "stdout",
     "output_type": "stream",
     "text": [
      "[['Ram', '23', 'Kathmandu'], ['Shyam', '45', 'Lalitpur']]\n"
     ]
    }
   ],
   "source": [
    "print(a)"
   ]
  },
  {
   "cell_type": "code",
   "execution_count": 17,
   "id": "3065eaac",
   "metadata": {},
   "outputs": [
    {
     "name": "stdout",
     "output_type": "stream",
     "text": [
      "[['Ram', '23', 'Kathmandu'], ['Shyam', '45', 'Lalitpur'], ['Hari', 45, 'Kathmandu']]\n"
     ]
    }
   ],
   "source": [
    "a=[['Ram', '23', 'Kathmandu'], ['Shyam', '45', 'Lalitpur']]\n",
    "a.append(['Hari',45,'Kathmandu'])\n",
    "print(a)"
   ]
  },
  {
   "cell_type": "code",
   "execution_count": 3,
   "id": "644438c2",
   "metadata": {},
   "outputs": [
    {
     "name": "stdout",
     "output_type": "stream",
     "text": [
      "Yes\n"
     ]
    }
   ],
   "source": [
    "a=[['Ram',34,'Kathmandu'],\n",
    "  ['Shyam',21,'Lalitpur'],\n",
    "  ['Hari',67,'Bhaktapur']]\n",
    "for i in a:\n",
    "    if 'Ram' in i:\n",
    "        print(\"Yes\")"
   ]
  },
  {
   "cell_type": "code",
   "execution_count": 2,
   "id": "0beb0ccc",
   "metadata": {},
   "outputs": [
    {
     "name": "stdout",
     "output_type": "stream",
     "text": [
      "Enter name=Ram\n",
      "Yes\n"
     ]
    }
   ],
   "source": [
    "a=[['Ram',34,'Kathmandu'],\n",
    "  ['Shyam',21,'Lalitpur'],\n",
    "  ['Hari',67,'Bhaktapur']]\n",
    "name=input(\"Enter name=\")\n",
    "for i in a:\n",
    "    if name in i:\n",
    "        print(\"Yes\")"
   ]
  },
  {
   "cell_type": "code",
   "execution_count": 3,
   "id": "9c274f8f",
   "metadata": {},
   "outputs": [
    {
     "name": "stdout",
     "output_type": "stream",
     "text": [
      "Enter name=Ram\n",
      "['Ram', 34, 'Kathmandu']\n"
     ]
    }
   ],
   "source": [
    "a=[['Ram',34,'Kathmandu'],\n",
    "  ['Shyam',21,'Lalitpur'],\n",
    "  ['Hari',67,'Bhaktapur']]\n",
    "name=input(\"Enter name=\")\n",
    "for i in a:\n",
    "    if name in i:\n",
    "        print(i)"
   ]
  },
  {
   "cell_type": "markdown",
   "id": "8fe22eeb",
   "metadata": {},
   "source": [
    "# Update"
   ]
  },
  {
   "cell_type": "code",
   "execution_count": 4,
   "id": "1621deef",
   "metadata": {},
   "outputs": [
    {
     "data": {
      "text/plain": [
       "[['Ram', 34, 'Kathmandu'],\n",
       " ['Shyam', 21, 'Lalitpur'],\n",
       " ['Hari', 67, 'Bhaktapur']]"
      ]
     },
     "execution_count": 4,
     "metadata": {},
     "output_type": "execute_result"
    }
   ],
   "source": [
    "a=a=[['Ram',34,'Kathmandu'],\n",
    "  ['Shyam',21,'Lalitpur'],\n",
    "  ['Hari',67,'Bhaktapur']]\n",
    "a"
   ]
  },
  {
   "cell_type": "code",
   "execution_count": 5,
   "id": "69519a91",
   "metadata": {},
   "outputs": [
    {
     "data": {
      "text/plain": [
       "['Ram', 34, 'Kathmandu']"
      ]
     },
     "execution_count": 5,
     "metadata": {},
     "output_type": "execute_result"
    }
   ],
   "source": [
    "a=a=[['Ram',34,'Kathmandu'],\n",
    "  ['Shyam',21,'Lalitpur'],\n",
    "  ['Hari',67,'Bhaktapur']]\n",
    "a[0]"
   ]
  },
  {
   "cell_type": "code",
   "execution_count": 3,
   "id": "0b065246",
   "metadata": {},
   "outputs": [
    {
     "name": "stdout",
     "output_type": "stream",
     "text": [
      "[['Ramesh', 34, 'Kathmandu'], ['Shyam', 21, 'Lalitpur'], ['Hari', 67, 'Bhaktapur']]\n"
     ]
    }
   ],
   "source": [
    "a=[['Ram',34,'Kathmandu'],['Shyam',21,'Lalitpur'],['Hari',67,'Bhaktapur']]\n",
    "a[0][0]='Ramesh'\n",
    "print(a)"
   ]
  },
  {
   "cell_type": "code",
   "execution_count": 7,
   "id": "0ea54673",
   "metadata": {},
   "outputs": [
    {
     "name": "stdout",
     "output_type": "stream",
     "text": [
      "Enter NameRamesh\n",
      "Ramesh\n"
     ]
    }
   ],
   "source": [
    "a=[['Ram',34,'Kathmandu'],['Shyam',21,'Lalitpur'],['Hari',67,'Bhaktapur']]\n",
    "a=[a][0]=input(\"Enter Name\")\n",
    "print(a)"
   ]
  },
  {
   "cell_type": "code",
   "execution_count": 2,
   "id": "7b13c0c7",
   "metadata": {},
   "outputs": [
    {
     "name": "stdout",
     "output_type": "stream",
     "text": [
      "[['Rama', 56, 'Bara'], ['Shyam', 21, 'Lalitpur'], ['Hari', 67, 'Bhaktapur']]\n"
     ]
    }
   ],
   "source": [
    "a=[['Ram',34,'Kathmandu'],['Shyam',21,'Lalitpur'],['Hari',67,'Bhaktapur']]\n",
    "a[0]=['Rama',56,'Bara']\n",
    "print(a)"
   ]
  },
  {
   "cell_type": "code",
   "execution_count": 6,
   "id": "653e9fef",
   "metadata": {},
   "outputs": [
    {
     "name": "stdout",
     "output_type": "stream",
     "text": [
      "Enter index=1\n",
      "Enter NameShyam Sunder\n",
      "Enter age=23\n",
      "Enter add=Lalitpur\n"
     ]
    }
   ],
   "source": [
    "a=[['Ram',34,'Kathmandu'],['Shyam',21,'Lalitpur'],['Hari',67,'Bhaktapur']]\n",
    "index=int(input(\"Enter index=\"))\n",
    "a[index][0]=input(\"Enter Name\")\n",
    "a[index][1]=int(input(\"Enter age=\"))\n",
    "a[index][2]=input(\"Enter add=\")"
   ]
  },
  {
   "cell_type": "markdown",
   "id": "eb182279",
   "metadata": {},
   "source": [
    "# Convert List to String"
   ]
  },
  {
   "cell_type": "code",
   "execution_count": null,
   "id": "e434348d",
   "metadata": {},
   "outputs": [],
   "source": []
  },
  {
   "cell_type": "code",
   "execution_count": 7,
   "id": "7fbde124",
   "metadata": {},
   "outputs": [
    {
     "name": "stdout",
     "output_type": "stream",
     "text": [
      "Enter n=2\n",
      "Enter name=name\n",
      "Enter product price=299\n",
      "Enter quantity=4\n",
      "name 299 4 1196\n",
      "\n",
      "All total= 1196\n",
      "Enter name=raja\n",
      "Enter product price=455\n",
      "Enter quantity=4\n",
      "name 299 4 1196\n",
      "raja 455 4 1820\n",
      "\n",
      "All total= 3016\n"
     ]
    }
   ],
   "source": [
    "s=str()\n",
    "all_total=0\n",
    "i=0\n",
    "n=int(input(\"Enter n=\"))\n",
    "while i<n:\n",
    "    product=input(\"Enter name=\")\n",
    "    price= int(input(\"Enter product price=\"))\n",
    "    quantity=int(input(\"Enter quantity=\"))\n",
    "    total=price*quantity\n",
    "    all_total=all_total+total\n",
    "    s=s+f\"{product} {price} {quantity} {total}\\n\"\n",
    "    i=i+1\n",
    "    print(s)\n",
    "    print(\"All total=\",all_total)\n",
    "\n"
   ]
  },
  {
   "cell_type": "code",
   "execution_count": 8,
   "id": "1b432639",
   "metadata": {},
   "outputs": [
    {
     "data": {
      "text/plain": [
       "'name 299 4 1196\\nraja 455 4 1820\\n'"
      ]
     },
     "execution_count": 8,
     "metadata": {},
     "output_type": "execute_result"
    }
   ],
   "source": [
    "s"
   ]
  },
  {
   "cell_type": "code",
   "execution_count": 9,
   "id": "eb271307",
   "metadata": {},
   "outputs": [
    {
     "data": {
      "text/plain": [
       "'Apple 300 3 600\\nBanana 200 3 600\\n'"
      ]
     },
     "execution_count": 9,
     "metadata": {},
     "output_type": "execute_result"
    }
   ],
   "source": [
    "'Apple 300 3 600\\nBanana 200 3 600\\n'"
   ]
  },
  {
   "cell_type": "markdown",
   "id": "5ebad033",
   "metadata": {},
   "source": [
    "# Split"
   ]
  },
  {
   "cell_type": "code",
   "execution_count": 10,
   "id": "a8de3e17",
   "metadata": {},
   "outputs": [
    {
     "data": {
      "text/plain": [
       "['name 299 4 1196', 'raja 455 4 1820', '']"
      ]
     },
     "execution_count": 10,
     "metadata": {},
     "output_type": "execute_result"
    }
   ],
   "source": [
    "s.split('\\n')   "
   ]
  },
  {
   "cell_type": "code",
   "execution_count": null,
   "id": "0622586f",
   "metadata": {},
   "outputs": [],
   "source": [
    "s='Apple 300 2 600', 'Banana 200 3 600'"
   ]
  },
  {
   "cell_type": "code",
   "execution_count": 12,
   "id": "ea6ff0f0",
   "metadata": {},
   "outputs": [
    {
     "name": "stdout",
     "output_type": "stream",
     "text": [
      "['Apple', '300', '2', '600']\n",
      "['Banana', '200', '3', '600']\n"
     ]
    },
    {
     "data": {
      "text/plain": [
       "[['Apple', '300', '2', '600'], ['Banana', '200', '3', '600']]"
      ]
     },
     "execution_count": 12,
     "metadata": {},
     "output_type": "execute_result"
    }
   ],
   "source": [
    "bill=[]\n",
    "s='Apple 300 2 600\\nBanana 200 3 600\\n'\n",
    "a=s.split('\\n')[0:-1]\n",
    "for i in a:\n",
    "    x=i.split()\n",
    "    print(x)\n",
    "    bill.append(x)\n",
    "bill"
   ]
  },
  {
   "cell_type": "code",
   "execution_count": 13,
   "id": "f78f7553",
   "metadata": {},
   "outputs": [
    {
     "name": "stdout",
     "output_type": "stream",
     "text": [
      "['Apple', '300', '2', '600']\n",
      "[['Apple', '300', '2', '600']]\n",
      "['Banana', '200', '3', '600']\n",
      "[['Apple', '300', '2', '600'], ['Banana', '200', '3', '600']]\n"
     ]
    }
   ],
   "source": [
    "bill=[]\n",
    "s='Apple 300 2 600\\nBanana 200 3 600\\n'\n",
    "a=s.split('\\n')[0:-1]\n",
    "for i in a:\n",
    "    x=i.split()\n",
    "    print(x)\n",
    "    bill.append(x)\n",
    "    print(bill)"
   ]
  },
  {
   "cell_type": "code",
   "execution_count": null,
   "id": "652e5a9b",
   "metadata": {},
   "outputs": [],
   "source": []
  }
 ],
 "metadata": {
  "kernelspec": {
   "display_name": "Python 3 (ipykernel)",
   "language": "python",
   "name": "python3"
  },
  "language_info": {
   "codemirror_mode": {
    "name": "ipython",
    "version": 3
   },
   "file_extension": ".py",
   "mimetype": "text/x-python",
   "name": "python",
   "nbconvert_exporter": "python",
   "pygments_lexer": "ipython3",
   "version": "3.10.7"
  }
 },
 "nbformat": 4,
 "nbformat_minor": 5
}
