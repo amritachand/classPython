{
 "cells": [
  {
   "cell_type": "code",
   "execution_count": null,
   "id": "54ea62df",
   "metadata": {},
   "outputs": [],
   "source": [
    "# Comprehensions: List, Dictionery"
   ]
  },
  {
   "cell_type": "code",
   "execution_count": 2,
   "id": "2fc11179",
   "metadata": {},
   "outputs": [
    {
     "data": {
      "text/plain": [
       "[0, 1, 2, 3, 4]"
      ]
     },
     "execution_count": 2,
     "metadata": {},
     "output_type": "execute_result"
    }
   ],
   "source": [
    "data=[i for i in range (5)]\n",
    "data"
   ]
  },
  {
   "cell_type": "code",
   "execution_count": 3,
   "id": "26dccc8a",
   "metadata": {},
   "outputs": [
    {
     "name": "stdout",
     "output_type": "stream",
     "text": [
      "Enter value=4\n",
      "Enter value=3\n",
      "Enter value=5\n",
      "Enter value=3\n",
      "Enter value=5\n"
     ]
    },
    {
     "data": {
      "text/plain": [
       "[4, 3, 5, 3, 5]"
      ]
     },
     "execution_count": 3,
     "metadata": {},
     "output_type": "execute_result"
    }
   ],
   "source": [
    "data=[int(input(\"Enter value=\")) for i in range(5)]"
   ]
  },
  {
   "cell_type": "code",
   "execution_count": 4,
   "id": "4dd2de78",
   "metadata": {},
   "outputs": [
    {
     "name": "stdout",
     "output_type": "stream",
     "text": [
      "Enter value=Apple\n",
      "Enter value=Ball\n",
      "Enter value=Cat\n",
      "Enter value=Dog\n",
      "Enter value=Fish\n"
     ]
    },
    {
     "data": {
      "text/plain": [
       "['Apple', 'Ball', 'Cat', 'Dog', 'Fish']"
      ]
     },
     "execution_count": 4,
     "metadata": {},
     "output_type": "execute_result"
    }
   ],
   "source": [
    "data=[input(\"Enter value=\") for i in range(5)]\n",
    "data"
   ]
  },
  {
   "cell_type": "code",
   "execution_count": 6,
   "id": "f702f795",
   "metadata": {},
   "outputs": [
    {
     "data": {
      "text/plain": [
       "[2, 4, 6, 2, 0, 6]"
      ]
     },
     "execution_count": 6,
     "metadata": {},
     "output_type": "execute_result"
    }
   ],
   "source": [
    "l=[2,4,5,6,2,7,9,0,1,3,6]\n",
    "data=[i for i in l if i%2==0]\n",
    "data"
   ]
  },
  {
   "cell_type": "code",
   "execution_count": 7,
   "id": "21c5ddc6",
   "metadata": {},
   "outputs": [
    {
     "data": {
      "text/plain": [
       "['Apple', 'Bus', 'Fish']"
      ]
     },
     "execution_count": 7,
     "metadata": {},
     "output_type": "execute_result"
    }
   ],
   "source": [
    "l=['Apple','ball','cat',\"Bus\",\"Fish\"]\n",
    "data=[i for i in l if i[0].isupper()]\n",
    "data"
   ]
  },
  {
   "cell_type": "code",
   "execution_count": 10,
   "id": "3384a70d",
   "metadata": {},
   "outputs": [
    {
     "data": {
      "text/plain": [
       "{1: 1, 2: 4, 3: 9, 4: 16, 5: 25}"
      ]
     },
     "execution_count": 10,
     "metadata": {},
     "output_type": "execute_result"
    }
   ],
   "source": [
    "d={i:i**2 for i in range(1,6)}\n",
    "d"
   ]
  },
  {
   "cell_type": "code",
   "execution_count": 11,
   "id": "5ab52caf",
   "metadata": {},
   "outputs": [
    {
     "data": {
      "text/plain": [
       "{'Apple': 'apple', 'ball': 'ball', 'cat': 'cat', 'Bus': 'bus', 'Fish': 'fish'}"
      ]
     },
     "execution_count": 11,
     "metadata": {},
     "output_type": "execute_result"
    }
   ],
   "source": [
    "l=['Apple','ball','cat',\"Bus\",\"Fish\"]\n",
    "d={i:i.lower() for i in l}\n",
    "d"
   ]
  },
  {
   "cell_type": "code",
   "execution_count": 13,
   "id": "4afa11a8",
   "metadata": {},
   "outputs": [
    {
     "name": "stdout",
     "output_type": "stream",
     "text": [
      "Enter name=Ram\n",
      "Enter phone=9851014275\n",
      "Enter name=Shyam\n",
      "Enter phone=9851014675\n"
     ]
    },
    {
     "data": {
      "text/plain": [
       "{'Ram': 9851014275, 'Shyam': 9851014675}"
      ]
     },
     "execution_count": 13,
     "metadata": {},
     "output_type": "execute_result"
    }
   ],
   "source": [
    "d={input(\"Enter name=\"):int(input(\"Enter phone=\")) for i in range(2)}\n",
    "d"
   ]
  },
  {
   "cell_type": "markdown",
   "id": "ad8cb2cb",
   "metadata": {},
   "source": [
    "### Python_Date and Time"
   ]
  },
  {
   "cell_type": "code",
   "execution_count": 22,
   "id": "13f882cb",
   "metadata": {},
   "outputs": [
    {
     "name": "stdout",
     "output_type": "stream",
     "text": [
      "2022-10-19 07:39:36.181369\n"
     ]
    }
   ],
   "source": [
    "import datetime as d\n",
    "\n",
    "x=d.datetime.now()\n",
    "print(x)"
   ]
  },
  {
   "cell_type": "code",
   "execution_count": 20,
   "id": "e572a024",
   "metadata": {},
   "outputs": [
    {
     "name": "stdout",
     "output_type": "stream",
     "text": [
      "Enter name=Amrita\n",
      "0:00:02.075226\n"
     ]
    }
   ],
   "source": [
    "import datetime\n",
    "\n",
    "x=datetime.datetime.now()\n",
    "name=input(\"Enter name=\")\n",
    "y=datetime.datetime.now()\n",
    "print(y-x)"
   ]
  },
  {
   "cell_type": "code",
   "execution_count": 23,
   "id": "15421976",
   "metadata": {},
   "outputs": [
    {
     "name": "stdout",
     "output_type": "stream",
     "text": [
      "Enter name=Amrita\n",
      "0:00:02.494356\n"
     ]
    }
   ],
   "source": [
    "import datetime as d\n",
    "\n",
    "x=d.datetime.now()\n",
    "name=input(\"Enter name=\")\n",
    "y=datetime.datetime.now()\n",
    "print(y-x)"
   ]
  },
  {
   "cell_type": "code",
   "execution_count": 24,
   "id": "b99d588e",
   "metadata": {},
   "outputs": [
    {
     "name": "stdout",
     "output_type": "stream",
     "text": [
      "Wed Oct 19 07:44:43 2022\n"
     ]
    }
   ],
   "source": [
    "import datetime\n",
    "\n",
    "x=datetime.datetime.now()\n",
    "\n",
    "print(x.strftime(\"%c\"))"
   ]
  },
  {
   "cell_type": "code",
   "execution_count": 25,
   "id": "c23930fd",
   "metadata": {},
   "outputs": [
    {
     "name": "stdout",
     "output_type": "stream",
     "text": [
      "Wed Oct 19 07:45:00 2022\n"
     ]
    }
   ],
   "source": [
    "import datetime as d\n",
    "\n",
    "x=d.datetime.now()\n",
    "\n",
    "print(x.strftime(\"%c\"))"
   ]
  },
  {
   "cell_type": "code",
   "execution_count": 26,
   "id": "83025561",
   "metadata": {},
   "outputs": [
    {
     "name": "stdout",
     "output_type": "stream",
     "text": [
      "Wed\n"
     ]
    }
   ],
   "source": [
    "import datetime\n",
    "\n",
    "x=datetime.datetime.now()\n",
    "\n",
    "print(x.strftime(\"%a\"))"
   ]
  },
  {
   "cell_type": "code",
   "execution_count": 27,
   "id": "21fd3e70",
   "metadata": {},
   "outputs": [
    {
     "name": "stdout",
     "output_type": "stream",
     "text": [
      "Oct\n"
     ]
    }
   ],
   "source": [
    "import datetime\n",
    "\n",
    "x=datetime.datetime.now()\n",
    "\n",
    "print(x.strftime(\"%b\"))"
   ]
  },
  {
   "cell_type": "markdown",
   "id": "f365b825",
   "metadata": {},
   "source": [
    "### OS package"
   ]
  },
  {
   "cell_type": "code",
   "execution_count": 28,
   "id": "3037fa5e",
   "metadata": {},
   "outputs": [
    {
     "data": {
      "text/plain": [
       "['.ipynb_checkpoints',\n",
       " 'Assignment.docx',\n",
       " 'bill.csv',\n",
       " 'bill.txt',\n",
       " 'covid.csv',\n",
       " 'data. txt',\n",
       " 'data.csv',\n",
       " 'data.txt',\n",
       " 'Day 16_Python_Pandas_22.09.2022_Thursday.ipynb',\n",
       " 'Day 17_Python_XAMPP_23.09.2022 (Friday).ipynb',\n",
       " 'Day 18_Python_XAMPP_10 Oct 2022 _Monday.ipynb',\n",
       " 'Day 19_Python_Python+MySql_11 Oct 2022_Tuesday.ipynb',\n",
       " 'Day 20_Python_OOP(Object Oriented Programming) in Python_12 Oct 2022_(Wednesday).ipynb',\n",
       " 'Day 21_Python_Inheritance, Method_13, 14 Oct 2022_Thursday.ipynb',\n",
       " 'Day 21_Python_OOP-Object Oriented Programming _13 Oct 2022_Thursday.ipynb',\n",
       " 'Day 23_Python_Inheritance & Method _16 Oct 2022_Sunday.ipynb',\n",
       " 'Day 24_covid_17 Oct 2022.csv',\n",
       " 'Day 24_Python_Beautiful Soup1_17 Oct 2022_Monday.ipynb',\n",
       " 'Day 25_Python_Beautiful Soup2_18 Oct 2022_Tuesday.ipynb',\n",
       " 'Day 26_Python_Bonus-Tools_19 Oct 2022_Wednesday.ipynb',\n",
       " 'Day10_Python_Tuple and Set_15.09.2022.ipynb',\n",
       " 'Day11_Python_Dictionary_16.09.2022_Friday.ipynb',\n",
       " 'Day12_Python_Dictionery inside Dictionery_18.09.2022_Sunday.ipynb',\n",
       " 'Day12_Python_Set(Dataset)_18.09.2022(Sunday).ipynb',\n",
       " 'Day13_Python_ Function _19.09.2022(Monday).ipynb',\n",
       " 'Day14_Python_Function_20.09.2022(Tuesday).ipynb',\n",
       " 'Day15_Python_Function_File_21.09.2022(Wednesday).ipynb',\n",
       " 'Day6 _Python_Loop_11.09.2022.ipynb',\n",
       " 'Day7_Python_String _12.09.2022.ipynb',\n",
       " 'Day8_Python_List_13.09.2022.ipynb',\n",
       " 'Day9_Python_List_14.09.2022.ipynb',\n",
       " 'new_data.csv',\n",
       " 'new_data1.csv',\n",
       " 'Online study with friends_15.09.2022.ipynb',\n",
       " 'Python + MySql.pptx',\n",
       " 'Python Lambda Function.pdf',\n",
       " 'Tuesday_Mysql_Jupyter Notebook_XAMPP _11 Oct 2022_VVI.docx',\n",
       " 'Untitled.ipynb',\n",
       " 'XAMPP 11 Oct 2022.docx',\n",
       " '~$esday_Mysql_Jupyter Notebook_XAMPP _11 Oct 2022_VVI.docx',\n",
       " '~$MPP 11 Oct 2022.docx']"
      ]
     },
     "execution_count": 28,
     "metadata": {},
     "output_type": "execute_result"
    }
   ],
   "source": [
    "import os\n",
    "os.listdir()"
   ]
  },
  {
   "cell_type": "code",
   "execution_count": 32,
   "id": "abcc37d8",
   "metadata": {},
   "outputs": [
    {
     "data": {
      "text/plain": [
       "['.ipynb_checkpoints',\n",
       " 'Assignment.docx',\n",
       " 'covid.csv',\n",
       " 'data. txt',\n",
       " 'data.csv',\n",
       " 'data.txt',\n",
       " 'Day 16_Python_Pandas_22.09.2022_Thursday.ipynb',\n",
       " 'Day 17_Python_XAMPP_23.09.2022 (Friday).ipynb',\n",
       " 'Day 18_Python_XAMPP_10 Oct 2022 _Monday.ipynb',\n",
       " 'Day 19_Python_Python+MySql_11 Oct 2022_Tuesday.ipynb',\n",
       " 'Day 20_Python_OOP(Object Oriented Programming) in Python_12 Oct 2022_(Wednesday).ipynb',\n",
       " 'Day 21_Python_Inheritance, Method_13, 14 Oct 2022_Thursday.ipynb',\n",
       " 'Day 21_Python_OOP-Object Oriented Programming _13 Oct 2022_Thursday.ipynb',\n",
       " 'Day 23_Python_Inheritance & Method _16 Oct 2022_Sunday.ipynb',\n",
       " 'Day 24_covid_17 Oct 2022.csv',\n",
       " 'Day 24_Python_Beautiful Soup1_17 Oct 2022_Monday.ipynb',\n",
       " 'Day 25_Python_Beautiful Soup2_18 Oct 2022_Tuesday.ipynb',\n",
       " 'Day 26_Python_Bonus-Tools_19 Oct 2022_Wednesday.ipynb',\n",
       " 'Day10_Python_Tuple and Set_15.09.2022.ipynb',\n",
       " 'Day11_Python_Dictionary_16.09.2022_Friday.ipynb',\n",
       " 'Day12_Python_Dictionery inside Dictionery_18.09.2022_Sunday.ipynb',\n",
       " 'Day12_Python_Set(Dataset)_18.09.2022(Sunday).ipynb',\n",
       " 'Day13_Python_ Function _19.09.2022(Monday).ipynb',\n",
       " 'Day14_Python_Function_20.09.2022(Tuesday).ipynb',\n",
       " 'Day15_Python_Function_File_21.09.2022(Wednesday).ipynb',\n",
       " 'Day6 _Python_Loop_11.09.2022.ipynb',\n",
       " 'Day7_Python_String _12.09.2022.ipynb',\n",
       " 'Day8_Python_List_13.09.2022.ipynb',\n",
       " 'Day9_Python_List_14.09.2022.ipynb',\n",
       " 'new_data.csv',\n",
       " 'new_data1.csv',\n",
       " 'Online study with friends_15.09.2022.ipynb',\n",
       " 'Python + MySql.pptx',\n",
       " 'Python Lambda Function.pdf',\n",
       " 'Tuesday_Mysql_Jupyter Notebook_XAMPP _11 Oct 2022_VVI.docx',\n",
       " 'Untitled.ipynb',\n",
       " 'XAMPP 11 Oct 2022.docx',\n",
       " '~$esday_Mysql_Jupyter Notebook_XAMPP _11 Oct 2022_VVI.docx',\n",
       " '~$MPP 11 Oct 2022.docx']"
      ]
     },
     "execution_count": 32,
     "metadata": {},
     "output_type": "execute_result"
    }
   ],
   "source": [
    "os.remove('bill.csv')\n",
    "os.listdir()"
   ]
  },
  {
   "cell_type": "code",
   "execution_count": 33,
   "id": "6ab8fdb3",
   "metadata": {},
   "outputs": [
    {
     "data": {
      "text/plain": [
       "['.ipynb_checkpoints',\n",
       " 'Assignment.docx',\n",
       " 'covid.csv',\n",
       " 'data. txt',\n",
       " 'data.csv',\n",
       " 'data.txt',\n",
       " 'Day 16_Python_Pandas_22.09.2022_Thursday.ipynb',\n",
       " 'Day 17_Python_XAMPP_23.09.2022 (Friday).ipynb',\n",
       " 'Day 18_Python_XAMPP_10 Oct 2022 _Monday.ipynb',\n",
       " 'Day 19_Python_Python+MySql_11 Oct 2022_Tuesday.ipynb',\n",
       " 'Day 20_Python_OOP(Object Oriented Programming) in Python_12 Oct 2022_(Wednesday).ipynb',\n",
       " 'Day 21_Python_Inheritance, Method_13, 14 Oct 2022_Thursday.ipynb',\n",
       " 'Day 21_Python_OOP-Object Oriented Programming _13 Oct 2022_Thursday.ipynb',\n",
       " 'Day 23_Python_Inheritance & Method _16 Oct 2022_Sunday.ipynb',\n",
       " 'Day 24_covid_17 Oct 2022.csv',\n",
       " 'Day 24_Python_Beautiful Soup1_17 Oct 2022_Monday.ipynb',\n",
       " 'Day 25_Python_Beautiful Soup2_18 Oct 2022_Tuesday.ipynb',\n",
       " 'Day 26_Python_Bonus-Tools_19 Oct 2022_Wednesday.ipynb',\n",
       " 'Day10_Python_Tuple and Set_15.09.2022.ipynb',\n",
       " 'Day11_Python_Dictionary_16.09.2022_Friday.ipynb',\n",
       " 'Day12_Python_Dictionery inside Dictionery_18.09.2022_Sunday.ipynb',\n",
       " 'Day12_Python_Set(Dataset)_18.09.2022(Sunday).ipynb',\n",
       " 'Day13_Python_ Function _19.09.2022(Monday).ipynb',\n",
       " 'Day14_Python_Function_20.09.2022(Tuesday).ipynb',\n",
       " 'Day15_Python_Function_File_21.09.2022(Wednesday).ipynb',\n",
       " 'Day6 _Python_Loop_11.09.2022.ipynb',\n",
       " 'Day7_Python_String _12.09.2022.ipynb',\n",
       " 'Day8_Python_List_13.09.2022.ipynb',\n",
       " 'Day9_Python_List_14.09.2022.ipynb',\n",
       " 'newFolder',\n",
       " 'new_data.csv',\n",
       " 'new_data1.csv',\n",
       " 'Online study with friends_15.09.2022.ipynb',\n",
       " 'Python + MySql.pptx',\n",
       " 'Python Lambda Function.pdf',\n",
       " 'Tuesday_Mysql_Jupyter Notebook_XAMPP _11 Oct 2022_VVI.docx',\n",
       " 'Untitled.ipynb',\n",
       " 'XAMPP 11 Oct 2022.docx',\n",
       " '~$esday_Mysql_Jupyter Notebook_XAMPP _11 Oct 2022_VVI.docx',\n",
       " '~$MPP 11 Oct 2022.docx']"
      ]
     },
     "execution_count": 33,
     "metadata": {},
     "output_type": "execute_result"
    }
   ],
   "source": [
    "os.mkdir('newFolder')\n",
    "os.listdir()"
   ]
  }
 ],
 "metadata": {
  "kernelspec": {
   "display_name": "Python 3 (ipykernel)",
   "language": "python",
   "name": "python3"
  },
  "language_info": {
   "codemirror_mode": {
    "name": "ipython",
    "version": 3
   },
   "file_extension": ".py",
   "mimetype": "text/x-python",
   "name": "python",
   "nbconvert_exporter": "python",
   "pygments_lexer": "ipython3",
   "version": "3.10.7"
  }
 },
 "nbformat": 4,
 "nbformat_minor": 5
}
