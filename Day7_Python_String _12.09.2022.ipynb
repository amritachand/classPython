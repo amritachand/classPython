{
 "cells": [
  {
   "cell_type": "markdown",
   "id": "2e683a88",
   "metadata": {},
   "source": [
    "# String"
   ]
  },
  {
   "cell_type": "code",
   "execution_count": 1,
   "id": "046a90f2",
   "metadata": {},
   "outputs": [
    {
     "name": "stdout",
     "output_type": "stream",
     "text": [
      "<class 'str'>\n",
      "<class 'str'>\n",
      "<class 'str'>\n"
     ]
    }
   ],
   "source": [
    "a='Python'\n",
    "b=\"python\"\n",
    "c='''python'''\n",
    "print(type(a))\n",
    "print(type(b))\n",
    "print(type(c))"
   ]
  },
  {
   "cell_type": "code",
   "execution_count": 2,
   "id": "e1f0b1c1",
   "metadata": {},
   "outputs": [
    {
     "data": {
      "text/plain": [
       "'Ram said \"He is a good teacher\"'"
      ]
     },
     "execution_count": 2,
     "metadata": {},
     "output_type": "execute_result"
    }
   ],
   "source": [
    "'''Ram said \"He is a good teacher\"'''"
   ]
  },
  {
   "cell_type": "code",
   "execution_count": 3,
   "id": "b78d80a4",
   "metadata": {},
   "outputs": [
    {
     "name": "stdout",
     "output_type": "stream",
     "text": [
      "Hello World\n",
      "Hello World\n",
      "\n"
     ]
    }
   ],
   "source": [
    "a=\"Hello World\\n\"\n",
    "print(a*2)"
   ]
  },
  {
   "cell_type": "code",
   "execution_count": 4,
   "id": "683502ca",
   "metadata": {},
   "outputs": [
    {
     "data": {
      "text/plain": [
       "'l'"
      ]
     },
     "execution_count": 4,
     "metadata": {},
     "output_type": "execute_result"
    }
   ],
   "source": [
    "a=\"Hello World\"\n",
    "a[2]"
   ]
  },
  {
   "cell_type": "code",
   "execution_count": 5,
   "id": "8e79bef3",
   "metadata": {},
   "outputs": [
    {
     "name": "stdout",
     "output_type": "stream",
     "text": [
      "Hello\n",
      " World\n"
     ]
    }
   ],
   "source": [
    "a=\"Hello World\"\n",
    "b=a[0:5]\n",
    "c=a[5:]\n",
    "print(b)\n",
    "print(c)"
   ]
  },
  {
   "cell_type": "code",
   "execution_count": 7,
   "id": "8add9c5a",
   "metadata": {},
   "outputs": [
    {
     "name": "stdout",
     "output_type": "stream",
     "text": [
      "HloWr\n"
     ]
    }
   ],
   "source": [
    "a=\"Hello World\"\n",
    "b=a[0:10:2]\n",
    "print(b)"
   ]
  },
  {
   "cell_type": "markdown",
   "id": "963771a8",
   "metadata": {},
   "source": [
    "# String Slicing (Break garnu/Tukryaunu)"
   ]
  },
  {
   "cell_type": "code",
   "execution_count": 8,
   "id": "bee3dfe8",
   "metadata": {},
   "outputs": [
    {
     "name": "stdout",
     "output_type": "stream",
     "text": [
      "HloWrd\n"
     ]
    }
   ],
   "source": [
    "a=\"Hello World\"\n",
    "b=a[0:12:2]\n",
    "print(b)"
   ]
  },
  {
   "cell_type": "code",
   "execution_count": 9,
   "id": "9e420ff1",
   "metadata": {},
   "outputs": [
    {
     "name": "stdout",
     "output_type": "stream",
     "text": [
      "HloWr\n"
     ]
    }
   ],
   "source": [
    "a=\"Hello World\"\n",
    "b=a[0:10:2]\n",
    "print(b)"
   ]
  },
  {
   "cell_type": "code",
   "execution_count": 10,
   "id": "de90ffc8",
   "metadata": {},
   "outputs": [
    {
     "name": "stdout",
     "output_type": "stream",
     "text": [
      "Hello\n",
      " World\n"
     ]
    }
   ],
   "source": [
    "a=\"Hello World\"\n",
    "b=a[0:5]\n",
    "c=a[5:]\n",
    "print(b)\n",
    "print(c)"
   ]
  },
  {
   "cell_type": "code",
   "execution_count": 2,
   "id": "71c99713",
   "metadata": {},
   "outputs": [
    {
     "name": "stdout",
     "output_type": "stream",
     "text": [
      "Hello World I am Ram I am from Kathmandu I am 34\n"
     ]
    }
   ],
   "source": [
    "name= \"Ram\"\n",
    "age=34\n",
    "add=\"Kathmandu\"\n",
    "info=\"Hello World I am \"+name+\" I am from \"+add+\" I am \"+str(age)\n",
    "print(info)"
   ]
  },
  {
   "cell_type": "markdown",
   "id": "38627b18",
   "metadata": {},
   "source": [
    "# String formatting"
   ]
  },
  {
   "cell_type": "markdown",
   "id": "4f486b5c",
   "metadata": {},
   "source": [
    "# info matra garnu bhaneko view garne matra ho"
   ]
  },
  {
   "cell_type": "code",
   "execution_count": 3,
   "id": "121bf551",
   "metadata": {},
   "outputs": [
    {
     "data": {
      "text/plain": [
       "'Hello world I am {name}. I am from {add}. I am {age}'"
      ]
     },
     "execution_count": 3,
     "metadata": {},
     "output_type": "execute_result"
    }
   ],
   "source": [
    "name=\"Ram\"\n",
    "age=34\n",
    "add=\"Kathmandu\"\n",
    "info=\"Hello world I am {name}. I am from {add}. I am {age}\"\n",
    "info"
   ]
  },
  {
   "cell_type": "code",
   "execution_count": null,
   "id": "8bb31222",
   "metadata": {},
   "outputs": [],
   "source": []
  },
  {
   "cell_type": "code",
   "execution_count": 4,
   "id": "33302274",
   "metadata": {},
   "outputs": [
    {
     "data": {
      "text/plain": [
       "'Hello world I am Ram. I am from Kathmandu. I am 34'"
      ]
     },
     "execution_count": 4,
     "metadata": {},
     "output_type": "execute_result"
    }
   ],
   "source": [
    "name=\"Ram\"\n",
    "age=34\n",
    "add=\"Kathmandu\"\n",
    "info=f\"Hello world I am {name}. I am from {add}. I am {age}\"\n",
    "info"
   ]
  },
  {
   "cell_type": "markdown",
   "id": "6e33dbe1",
   "metadata": {},
   "source": [
    "# Print (info) garnu bhaneko view garera output nikalne ho"
   ]
  },
  {
   "cell_type": "code",
   "execution_count": 5,
   "id": "05f13a26",
   "metadata": {},
   "outputs": [
    {
     "name": "stdout",
     "output_type": "stream",
     "text": [
      "Hello world I am {name}. I am from {add}. I am {age}\n"
     ]
    }
   ],
   "source": [
    "name=\"Ram\"\n",
    "age=34\n",
    "add=\"Kathmandu\"\n",
    "info=\"Hello world I am {name}. I am from {add}. I am {age}\"\n",
    "print(info)"
   ]
  },
  {
   "cell_type": "code",
   "execution_count": 6,
   "id": "d7076d03",
   "metadata": {},
   "outputs": [
    {
     "name": "stdout",
     "output_type": "stream",
     "text": [
      "Hello world I am Ram. I am from Kathmandu. I am 34\n"
     ]
    }
   ],
   "source": [
    "name=\"Ram\"\n",
    "age=34\n",
    "add=\"Kathmandu\"\n",
    "info=f\"Hello world I am {name}. I am from {add}. I am {age}\"\n",
    "print(info)"
   ]
  },
  {
   "cell_type": "markdown",
   "id": "f18eb730",
   "metadata": {},
   "source": [
    "# String formatting"
   ]
  },
  {
   "cell_type": "code",
   "execution_count": 10,
   "id": "aac8753d",
   "metadata": {},
   "outputs": [
    {
     "name": "stdout",
     "output_type": "stream",
     "text": [
      "Enter n=1\n",
      "Enter name=Apple\n",
      "Enter product price=444\n",
      "Enter quantity=2\n",
      "Apple 444 2 888\n",
      "\n",
      "All total= 888\n"
     ]
    }
   ],
   "source": [
    "s=str()\n",
    "all_total=0\n",
    "i=0\n",
    "n=int(input(\"Enter n=\"))\n",
    "while i<n:\n",
    "    product=input(\"Enter name=\")\n",
    "    price= int(input(\"Enter product price=\"))\n",
    "    quantity=int(input(\"Enter quantity=\"))\n",
    "    total=price*quantity\n",
    "    all_total=all_total+total\n",
    "    s=s+f\"{product} {price} {quantity} {total}\\n\"\n",
    "    i=i+1\n",
    "    print(s)\n",
    "    print(\"All total=\",all_total)"
   ]
  },
  {
   "cell_type": "markdown",
   "id": "96260cf1",
   "metadata": {},
   "source": [
    "# String formatting( for i in range)"
   ]
  },
  {
   "cell_type": "code",
   "execution_count": 6,
   "id": "fa697ed8",
   "metadata": {},
   "outputs": [
    {
     "name": "stdout",
     "output_type": "stream",
     "text": [
      "Yes\n"
     ]
    }
   ],
   "source": [
    "a=\"Ram Shyam Hari Nita Ram\"\n",
    "if \"Ram\" in a:\n",
    "    print(\"Yes\")\n",
    "else:\n",
    "    print(\"No\")"
   ]
  },
  {
   "cell_type": "code",
   "execution_count": 3,
   "id": "60db3f49",
   "metadata": {},
   "outputs": [
    {
     "name": "stdout",
     "output_type": "stream",
     "text": [
      "Enter name=Ram\n",
      "Yes 2\n"
     ]
    }
   ],
   "source": [
    "a=\"Ram Shyam Hari Nita Ram\"\n",
    "name=input(\"Enter name=\")\n",
    "if \"Ram\" in a:\n",
    "    print(\"Yes\",a.count(\"Ram\"))\n",
    "else:\n",
    "    print(\"No\")"
   ]
  },
  {
   "cell_type": "code",
   "execution_count": 18,
   "id": "574f8a6f",
   "metadata": {},
   "outputs": [
    {
     "name": "stdout",
     "output_type": "stream",
     "text": [
      "Enter name=Ram\n",
      "Yes 2\n"
     ]
    }
   ],
   "source": [
    "a=\"Ram Shyam Hari Nita Ram\"\n",
    "name=input(\"Enter name=\")\n",
    "if name in a:\n",
    "    print(\"Yes\",a.count(name))\n",
    "else:\n",
    "    print(\"No\")"
   ]
  },
  {
   "cell_type": "markdown",
   "id": "5cd791e8",
   "metadata": {},
   "source": [
    "# String formatting\n",
    "# String is imutable datatype"
   ]
  },
  {
   "cell_type": "code",
   "execution_count": 19,
   "id": "54e4a239",
   "metadata": {},
   "outputs": [
    {
     "name": "stdout",
     "output_type": "stream",
     "text": [
      "ram shyam hari nita ram\n",
      "Ram Shyam Hari Nita Ram\n"
     ]
    }
   ],
   "source": [
    "a=\"Ram Shyam Hari Nita Ram\"\n",
    "print(a.lower())\n",
    "print(a)"
   ]
  },
  {
   "cell_type": "code",
   "execution_count": 20,
   "id": "3b622816",
   "metadata": {},
   "outputs": [
    {
     "data": {
      "text/plain": [
       "'RAM SHYAM HARI NITA RAM'"
      ]
     },
     "execution_count": 20,
     "metadata": {},
     "output_type": "execute_result"
    }
   ],
   "source": [
    "a=\"Ram Shyam Hari Nita Ram\"\n",
    "a=a.upper()\n",
    "a"
   ]
  },
  {
   "cell_type": "code",
   "execution_count": 5,
   "id": "c45b8b47",
   "metadata": {},
   "outputs": [
    {
     "name": "stdout",
     "output_type": "stream",
     "text": [
      "Enter name=ram\n",
      "Yes 2\n"
     ]
    }
   ],
   "source": [
    "a=\"Ram Shyam Hari Nita Ram\".lower()\n",
    "name=input(\"Enter name=\").lower()\n",
    "if name in a:\n",
    "    print(\"Yes\",a.count(name))\n",
    "else:\n",
    "    print(\"No\")"
   ]
  },
  {
   "cell_type": "markdown",
   "id": "dc1e52c6",
   "metadata": {},
   "source": [
    "# String ma kehi kura hataunuparya ra rakhnu bhane ko (replace)"
   ]
  },
  {
   "cell_type": "code",
   "execution_count": 7,
   "id": "505129a1",
   "metadata": {},
   "outputs": [
    {
     "data": {
      "text/plain": [
       "'Rama Shyam Hari Nita Rama'"
      ]
     },
     "execution_count": 7,
     "metadata": {},
     "output_type": "execute_result"
    }
   ],
   "source": [
    "a=\"Ram Shyam Hari Nita Ram\"\n",
    "a.replace('Ram','Rama')"
   ]
  },
  {
   "cell_type": "code",
   "execution_count": 11,
   "id": "f9bad9b9",
   "metadata": {},
   "outputs": [
    {
     "name": "stdout",
     "output_type": "stream",
     "text": [
      "Rama Shyam Hari Sita Nita Rama\n"
     ]
    }
   ],
   "source": [
    "a=\"Ram Shyam Hari Sita Nita Ram\"\n",
    "a=a.replace('Ram','Rama')\n",
    "print(a)"
   ]
  },
  {
   "cell_type": "code",
   "execution_count": 12,
   "id": "4dbe6eb1",
   "metadata": {},
   "outputs": [
    {
     "name": "stdout",
     "output_type": "stream",
     "text": [
      " Shyam Hari Sita Nita \n"
     ]
    }
   ],
   "source": [
    "a=\"Ram Shyam Hari Sita Nita Ram\"\n",
    "a=a.replace('Ram','')\n",
    "print(a)"
   ]
  },
  {
   "cell_type": "markdown",
   "id": "21ff3a61",
   "metadata": {},
   "source": [
    "# Home Work \n",
    "# WAP to search any value in a string and replace it by using replace function [In 5] ma"
   ]
  }
 ],
 "metadata": {
  "kernelspec": {
   "display_name": "Python 3 (ipykernel)",
   "language": "python",
   "name": "python3"
  },
  "language_info": {
   "codemirror_mode": {
    "name": "ipython",
    "version": 3
   },
   "file_extension": ".py",
   "mimetype": "text/x-python",
   "name": "python",
   "nbconvert_exporter": "python",
   "pygments_lexer": "ipython3",
   "version": "3.10.7"
  }
 },
 "nbformat": 4,
 "nbformat_minor": 5
}
