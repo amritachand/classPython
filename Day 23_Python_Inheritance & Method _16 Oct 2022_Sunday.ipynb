{
 "cells": [
  {
   "cell_type": "markdown",
   "id": "d9843f7f",
   "metadata": {},
   "source": [
    "### Inheritance\n",
    "\n",
    "Inheritance is the capability of one class to derive or inherit the properties from some another class\n",
    "\n",
    "It provides reusability of a code. We dont' have to write the same code again and again. Also, it allows us to add more features to a class without modifying it.\n",
    "\n",
    "If class B inherits from another class A, then all the subclasses of B would automatically inherit from class A.\n",
    "\n",
    "Parent class is the class being inheited form, also callsed base class.\n",
    "\n",
    "Child class is the class that inherits from another class, also called derived class."
   ]
  },
  {
   "cell_type": "markdown",
   "id": "7b5a8fe4",
   "metadata": {},
   "source": [
    "### Python-public,private and protected Access\n",
    "\n",
    "Public Access: Public members(generally methods declared in a class)are accessible from outside the class.The object of the same class is required to invoke a public method.\n",
    "\n",
    "Protected Access : Protected members of a class are accessible from within the class and are also available to its sub-classes.A variable that is protected can only be accessed by its own class and any classes derived from it.\n",
    "\n",
    "Private Access: Private members of a class are denied access from the enviornment outside the class. They  can be handeled only form within the class."
   ]
  },
  {
   "cell_type": "code",
   "execution_count": null,
   "id": "0786698d",
   "metadata": {},
   "outputs": [],
   "source": [
    "class A:\n",
    "    pass\n",
    "\n",
    "class B(A):\n",
    "    pass\n",
    "\n",
    "obj=B()"
   ]
  },
  {
   "cell_type": "markdown",
   "id": "d94945ad",
   "metadata": {},
   "source": [
    "### Multi-Class Inheritance"
   ]
  },
  {
   "cell_type": "code",
   "execution_count": null,
   "id": "7a644d07",
   "metadata": {},
   "outputs": [],
   "source": [
    "class A:\n",
    "    pass\n",
    "\n",
    "class B:\n",
    "    pass\n",
    "\n",
    "class C(A,B):\n",
    "    pass\n",
    "\n",
    "obj=C()"
   ]
  },
  {
   "cell_type": "markdown",
   "id": "cbfaafba",
   "metadata": {},
   "source": [
    "### Multi-Label Inheritance"
   ]
  },
  {
   "cell_type": "code",
   "execution_count": null,
   "id": "85f60f58",
   "metadata": {},
   "outputs": [],
   "source": [
    "class A:\n",
    "    pass\n",
    "\n",
    "class B(A):\n",
    "    pass\n",
    "\n",
    "class C(B):\n",
    "    pass\n",
    "\n",
    "obj=C()"
   ]
  },
  {
   "cell_type": "code",
   "execution_count": 2,
   "id": "c2f67fe6",
   "metadata": {},
   "outputs": [
    {
     "name": "stdout",
     "output_type": "stream",
     "text": [
      "Hello I am Ram. I am from Kathmandu. I am 34\n"
     ]
    }
   ],
   "source": [
    "class Info:\n",
    "    def  __init__(self):\n",
    "        self.name=\"Ram\"\n",
    "        self.age=34\n",
    "        self.add=\"Kathmandu\"\n",
    "        \n",
    "class Data(Info):\n",
    "    def data(self):\n",
    "        print(f\"Hello I am {self.name}. I am from {self.add}. I am {self.age}\")\n",
    "        \n",
    "obj=Data()\n",
    "obj.data()"
   ]
  },
  {
   "cell_type": "code",
   "execution_count": 3,
   "id": "2f95d1d5",
   "metadata": {},
   "outputs": [
    {
     "name": "stdout",
     "output_type": "stream",
     "text": [
      "Hello I am Ram. I am from Kathmandu. I am 34\n"
     ]
    }
   ],
   "source": [
    "class Info:\n",
    "    def  __init__(self,name,age,add):\n",
    "        self.name=name\n",
    "        self.age=age\n",
    "        self.add=add\n",
    "        \n",
    "class Data(Info):\n",
    "    def data(self):\n",
    "        print(f\"Hello I am {self.name}. I am from {self.add}. I am {self.age}\")\n",
    "        \n",
    "obj=Data(\"Ram\",34,\"Kathmandu\")\n",
    "obj.data()"
   ]
  },
  {
   "cell_type": "code",
   "execution_count": 6,
   "id": "ba1a18fd",
   "metadata": {},
   "outputs": [
    {
     "name": "stdout",
     "output_type": "stream",
     "text": [
      "Hello I am Ram. I am from Kathmandu. I am 34\n"
     ]
    },
    {
     "data": {
      "text/plain": [
       "'Hello World I am Info class and this is my attributes are Ram 34 Kathmandu'"
      ]
     },
     "execution_count": 6,
     "metadata": {},
     "output_type": "execute_result"
    }
   ],
   "source": [
    "class Info:\n",
    "    def  __init__(self,name,age,add):\n",
    "        self.name=name\n",
    "        self.age=age\n",
    "        self.add=add\n",
    "    def details(self):\n",
    "        return f\"Hello World I am Info class and this is my attributes are {self.name} {self.age} {self.add}\" \n",
    "        \n",
    "class Data(Info):\n",
    "    def data(self):\n",
    "        print(f\"Hello I am {self.name}. I am from {self.add}. I am {self.age}\")\n",
    "        \n",
    "obj=Data(\"Ram\",34,\"Kathmandu\")\n",
    "obj.data()\n",
    "obj.details()"
   ]
  },
  {
   "cell_type": "code",
   "execution_count": 8,
   "id": "dfc25bde",
   "metadata": {},
   "outputs": [
    {
     "name": "stdout",
     "output_type": "stream",
     "text": [
      "Hello I am Ram. I am from Kathmandu. I am 34\n",
      "Hello World I am Info class and this is my attributes are Ram 34 Kathmandu\n"
     ]
    }
   ],
   "source": [
    "class Info:\n",
    "    def  __init__(self,name,age,add):                      #Parent class\n",
    "        self.name=name\n",
    "        self.age=age\n",
    "        self.add=add\n",
    "    def details(self):\n",
    "        return f\"Hello World I am Info class and this is my attributes are {self.name} {self.age} {self.add}\" \n",
    "        \n",
    "class Data(Info):\n",
    "    def data(self):\n",
    "        print(f\"Hello I am {self.name}. I am from {self.add}. I am {self.age}\")\n",
    "        print(super().details())\n",
    "        \n",
    "obj=Data(\"Ram\",34,\"Kathmandu\")\n",
    "obj.data()"
   ]
  },
  {
   "cell_type": "code",
   "execution_count": 12,
   "id": "0c9ba880",
   "metadata": {},
   "outputs": [
    {
     "name": "stdout",
     "output_type": "stream",
     "text": [
      "Hello I am Ram. I am from Kathmandu. I am 34\n",
      "Hello World I am Info class and this is my attributes are 34 Kathmandu\n"
     ]
    }
   ],
   "source": [
    "class Info:\n",
    "    def  __init__(self,age,add):                      #Parent class\n",
    "        self.age=age\n",
    "        self.add=add\n",
    "    def details(self):\n",
    "        return f\"Hello World I am Info class and this is my attributes are {self.age} {self.add}\" \n",
    "        \n",
    "class Data(Info):\n",
    "    def __init__(self,name,age,add):\n",
    "        self.name=name\n",
    "        Info.__init__(self,age,add)\n",
    "            \n",
    "    def data(self):\n",
    "        print(f\"Hello I am {self.name}. I am from {self.add}. I am {self.age}\")\n",
    "        print(super().details())\n",
    "        \n",
    "obj=Data(\"Ram\",34,\"Kathmandu\")\n",
    "obj.data()"
   ]
  },
  {
   "cell_type": "code",
   "execution_count": 13,
   "id": "59a1f706",
   "metadata": {},
   "outputs": [
    {
     "name": "stdout",
     "output_type": "stream",
     "text": [
      "Hello I am Ram. I am from Kathmandu. I am 34\n"
     ]
    }
   ],
   "source": [
    "class Age:\n",
    "    def  __init__(self,age):                      #Parent class\n",
    "        self.age=age\n",
    "                  \n",
    "class Add:\n",
    "    def __init__(self,add):\n",
    "        self.add=add\n",
    "                  \n",
    "class Data(Age,Add):\n",
    "    def __init__(self,name,age,add):\n",
    "        self.name=name\n",
    "        Age.__init__(self,age)\n",
    "        Add.__init__(self,add)\n",
    "        \n",
    "    def data(self):\n",
    "        print(f\"Hello I am {self.name}. I am from {self.add}. I am {self.age}\")\n",
    "                \n",
    "obj=Data(\"Ram\",34,\"Kathmandu\")\n",
    "obj1=Age(40)\n",
    "obj.data()"
   ]
  },
  {
   "cell_type": "code",
   "execution_count": 15,
   "id": "cd37f52e",
   "metadata": {},
   "outputs": [
    {
     "name": "stdout",
     "output_type": "stream",
     "text": [
      "Hello I am Ram. I am from Kathmandu. I am 34\n",
      "34\n"
     ]
    }
   ],
   "source": [
    "class Age:\n",
    "    def  __init__(self,age):                      #Parent class\n",
    "        self.age=age\n",
    "                  \n",
    "class Add:\n",
    "    def __init__(self,add):\n",
    "        self.add=add\n",
    "                  \n",
    "class Data(Age,Add):\n",
    "    def __init__(self,name,age,add):\n",
    "        self.name=name\n",
    "        Age.__init__(self,age)\n",
    "        Add.__init__(self,add)\n",
    "        \n",
    "    def data(self):\n",
    "        print(f\"Hello I am {self.name}. I am from {self.add}. I am {self.age}\")\n",
    "                \n",
    "obj=Data(\"Ram\",34,\"Kathmandu\")\n",
    "obj1=Age(40)\n",
    "obj.data()\n",
    "print(obj.age)"
   ]
  },
  {
   "cell_type": "code",
   "execution_count": 16,
   "id": "1c9e9e58",
   "metadata": {},
   "outputs": [
    {
     "name": "stdout",
     "output_type": "stream",
     "text": [
      "Hello I am Ram. I am from Kathmandu. I am 34\n",
      "40\n"
     ]
    }
   ],
   "source": [
    "class Age:\n",
    "    def  __init__(self,age):                      #Parent class\n",
    "        self.age=age\n",
    "                  \n",
    "class Add:\n",
    "    def __init__(self,add):\n",
    "        self.add=add\n",
    "                  \n",
    "class Data(Age,Add):\n",
    "    def __init__(self,name,age,add):\n",
    "        self.name=name\n",
    "        Age.__init__(self,age)\n",
    "        Add.__init__(self,add)\n",
    "        \n",
    "    def data(self):\n",
    "        print(f\"Hello I am {self.name}. I am from {self.add}. I am {self.age}\")\n",
    "                \n",
    "obj=Data(\"Ram\",34,\"Kathmandu\")\n",
    "obj1=Age(40)\n",
    "obj.data()\n",
    "print(obj1.age)"
   ]
  },
  {
   "cell_type": "code",
   "execution_count": 38,
   "id": "2faa8c3d",
   "metadata": {},
   "outputs": [
    {
     "name": "stdout",
     "output_type": "stream",
     "text": [
      "Hello I am Ram. I am from Kathmandu. I am 34\n",
      "40\n",
      "Bara\n"
     ]
    }
   ],
   "source": [
    "class Age:\n",
    "    def  __init__(self,age):                      #Parent class\n",
    "        self.age=age\n",
    "                  \n",
    "class Add(Age):\n",
    "    def __init__(self,age,add):\n",
    "        self.add=add\n",
    "        Age.__init__(self,age)\n",
    "    def add(self):\n",
    "        return self.add\n",
    "                  \n",
    "class Data(Add):\n",
    "    def __init__(self,name,age,add):\n",
    "        self.name=name\n",
    "        Add.__init__(self,age,add)\n",
    "        \n",
    "    def data(self):\n",
    "        print(f\"Hello I am {self.name}. I am from {self.add}. I am {self.age}\")\n",
    "                \n",
    "obj=Data(\"Ram\",34,\"Kathmandu\")\n",
    "obj1=Age(40)\n",
    "obj2=Add(34,\"Bara\")\n",
    "obj.data()\n",
    "print(obj1.age)\n",
    "print(obj2.add)"
   ]
  },
  {
   "cell_type": "code",
   "execution_count": 26,
   "id": "7c097f4c",
   "metadata": {},
   "outputs": [
    {
     "name": "stdout",
     "output_type": "stream",
     "text": [
      "Hello I am Ram. I am from 34. I am Kathmandu\n"
     ]
    }
   ],
   "source": [
    "class Age:\n",
    "    def  __init__(self,age):                      #Parent class\n",
    "        self.age=age\n",
    "    def age(self):\n",
    "        return age\n",
    "                  \n",
    "class Add(Age):\n",
    "    def __init__(self,add,age):\n",
    "        self.add=add\n",
    "        Age.__init__(self,age)\n",
    "    def add(self):\n",
    "        return self.add\n",
    "                          \n",
    "class Data(Add):\n",
    "    def __init__(self,name,age,add):\n",
    "        self.name=name\n",
    "        Add.__init__(self,age,add)\n",
    "        \n",
    "    def data(self):\n",
    "        print(f\"Hello I am {self.name}. I am from {self.add}. I am {self.age}\")\n",
    "                \n",
    "obj=Data(\"Ram\",34,\"Kathmandu\")\n",
    "obj.data()"
   ]
  },
  {
   "cell_type": "markdown",
   "id": "4bc2a76a",
   "metadata": {},
   "source": [
    "### Python-public,private and protected Access"
   ]
  },
  {
   "cell_type": "code",
   "execution_count": 28,
   "id": "57d0d13b",
   "metadata": {},
   "outputs": [
    {
     "name": "stdout",
     "output_type": "stream",
     "text": [
      "Ram\n",
      "Bara\n",
      "45\n"
     ]
    }
   ],
   "source": [
    "# Public attributes\n",
    "\n",
    "class Info:\n",
    "    def __init__(self):\n",
    "        self.name=\"Ram\"\n",
    "        self.add=\"Bara\"\n",
    "        self.age=45\n",
    "        \n",
    "obj=Info()\n",
    "print(obj.name)\n",
    "print(obj.add)\n",
    "print(obj.age)"
   ]
  },
  {
   "cell_type": "code",
   "execution_count": 29,
   "id": "ac48eab6",
   "metadata": {},
   "outputs": [
    {
     "ename": "AttributeError",
     "evalue": "'Info' object has no attribute 'name'",
     "output_type": "error",
     "traceback": [
      "\u001b[1;31m---------------------------------------------------------------------------\u001b[0m",
      "\u001b[1;31mAttributeError\u001b[0m                            Traceback (most recent call last)",
      "Cell \u001b[1;32mIn [29], line 10\u001b[0m\n\u001b[0;32m      7\u001b[0m         \u001b[38;5;28mself\u001b[39m\u001b[38;5;241m.\u001b[39m_age\u001b[38;5;241m=\u001b[39m\u001b[38;5;241m45\u001b[39m\n\u001b[0;32m      9\u001b[0m obj\u001b[38;5;241m=\u001b[39mInfo()\n\u001b[1;32m---> 10\u001b[0m \u001b[38;5;28mprint\u001b[39m(\u001b[43mobj\u001b[49m\u001b[38;5;241;43m.\u001b[39;49m\u001b[43mname\u001b[49m)\n\u001b[0;32m     11\u001b[0m \u001b[38;5;28mprint\u001b[39m(obj\u001b[38;5;241m.\u001b[39madd)\n\u001b[0;32m     12\u001b[0m \u001b[38;5;28mprint\u001b[39m(obj\u001b[38;5;241m.\u001b[39mage)\n",
      "\u001b[1;31mAttributeError\u001b[0m: 'Info' object has no attribute 'name'"
     ]
    }
   ],
   "source": [
    "# Proteced attributes\n",
    "\n",
    "class Info:\n",
    "    def __init__(self):\n",
    "        self._name=\"Ram\"\n",
    "        self._add=\"Bara\"\n",
    "        self._age=45\n",
    "        \n",
    "obj=Info()\n",
    "print(obj.name)\n",
    "print(obj.add)\n",
    "print(obj.age)"
   ]
  },
  {
   "cell_type": "code",
   "execution_count": 30,
   "id": "56dfb4f8",
   "metadata": {},
   "outputs": [
    {
     "name": "stdout",
     "output_type": "stream",
     "text": [
      "Ram\n",
      "Bara\n",
      "45\n"
     ]
    }
   ],
   "source": [
    "# Proteced attributes\n",
    "\n",
    "class Info:\n",
    "    def __init__(self):\n",
    "        self._name=\"Ram\"\n",
    "        self._add=\"Bara\"\n",
    "        self._age=45\n",
    "        \n",
    "obj=Info()\n",
    "print(obj._name)\n",
    "print(obj._add)\n",
    "print(obj._age)"
   ]
  },
  {
   "cell_type": "code",
   "execution_count": 31,
   "id": "453f81c9",
   "metadata": {},
   "outputs": [
    {
     "ename": "AttributeError",
     "evalue": "'Info' object has no attribute '_name'",
     "output_type": "error",
     "traceback": [
      "\u001b[1;31m---------------------------------------------------------------------------\u001b[0m",
      "\u001b[1;31mAttributeError\u001b[0m                            Traceback (most recent call last)",
      "Cell \u001b[1;32mIn [31], line 10\u001b[0m\n\u001b[0;32m      7\u001b[0m         \u001b[38;5;28mself\u001b[39m\u001b[38;5;241m.\u001b[39m__age\u001b[38;5;241m=\u001b[39m\u001b[38;5;241m45\u001b[39m\n\u001b[0;32m      9\u001b[0m obj\u001b[38;5;241m=\u001b[39mInfo()\n\u001b[1;32m---> 10\u001b[0m \u001b[38;5;28mprint\u001b[39m(\u001b[43mobj\u001b[49m\u001b[38;5;241;43m.\u001b[39;49m\u001b[43m_name\u001b[49m)\n\u001b[0;32m     11\u001b[0m \u001b[38;5;28mprint\u001b[39m(obj\u001b[38;5;241m.\u001b[39m_add)\n\u001b[0;32m     12\u001b[0m \u001b[38;5;28mprint\u001b[39m(obj\u001b[38;5;241m.\u001b[39m_age)\n",
      "\u001b[1;31mAttributeError\u001b[0m: 'Info' object has no attribute '_name'"
     ]
    }
   ],
   "source": [
    "# Private attributes (single_underscore in print(obj._name............add......age))\n",
    "\n",
    "class Info:\n",
    "    def __init__(self):\n",
    "        self.__name=\"Ram\"\n",
    "        self.__add=\"Bara\"\n",
    "        self.__age=45\n",
    "        \n",
    "obj=Info()\n",
    "print(obj._name)\n",
    "print(obj._add)\n",
    "print(obj._age)"
   ]
  },
  {
   "cell_type": "code",
   "execution_count": 32,
   "id": "a3057659",
   "metadata": {},
   "outputs": [
    {
     "ename": "AttributeError",
     "evalue": "'Info' object has no attribute '__name'",
     "output_type": "error",
     "traceback": [
      "\u001b[1;31m---------------------------------------------------------------------------\u001b[0m",
      "\u001b[1;31mAttributeError\u001b[0m                            Traceback (most recent call last)",
      "Cell \u001b[1;32mIn [32], line 10\u001b[0m\n\u001b[0;32m      7\u001b[0m         \u001b[38;5;28mself\u001b[39m\u001b[38;5;241m.\u001b[39m__age\u001b[38;5;241m=\u001b[39m\u001b[38;5;241m45\u001b[39m\n\u001b[0;32m      9\u001b[0m obj\u001b[38;5;241m=\u001b[39mInfo()\n\u001b[1;32m---> 10\u001b[0m \u001b[38;5;28mprint\u001b[39m(\u001b[43mobj\u001b[49m\u001b[38;5;241;43m.\u001b[39;49m\u001b[43m__name\u001b[49m)         \u001b[38;5;66;03m#even __double underscore give error/here data fully protected\u001b[39;00m\n\u001b[0;32m     11\u001b[0m \u001b[38;5;28mprint\u001b[39m(obj\u001b[38;5;241m.\u001b[39m__add)\n\u001b[0;32m     12\u001b[0m \u001b[38;5;28mprint\u001b[39m(obj\u001b[38;5;241m.\u001b[39m__age)\n",
      "\u001b[1;31mAttributeError\u001b[0m: 'Info' object has no attribute '__name'"
     ]
    }
   ],
   "source": [
    "# Private attributes\n",
    "\n",
    "class Info:\n",
    "    def __init__(self):\n",
    "        self.__name=\"Ram\"\n",
    "        self.__add=\"Bara\"\n",
    "        self.__age=45\n",
    "        \n",
    "obj=Info()\n",
    "print(obj.__name)         #even __double underscore give error/here data fully protected\n",
    "print(obj.__add)\n",
    "print(obj.__age)"
   ]
  },
  {
   "cell_type": "code",
   "execution_count": 33,
   "id": "c517d1a8",
   "metadata": {},
   "outputs": [
    {
     "name": "stdout",
     "output_type": "stream",
     "text": [
      "Ram\n",
      "Bara\n",
      "45\n"
     ]
    }
   ],
   "source": [
    "# Private attributes\n",
    "\n",
    "class Info:\n",
    "    def __init__(self):\n",
    "        self.__name=\"Ram\"\n",
    "        self.__add=\"Bara\"\n",
    "        self.__age=45\n",
    "        \n",
    "obj=Info()\n",
    "print(obj._Info__name)            # here no error coz we put print(obj._Info__name......add........age) a trick\n",
    "print(obj._Info__add)\n",
    "print(obj._Info__age)"
   ]
  },
  {
   "cell_type": "code",
   "execution_count": 36,
   "id": "3db75e1c",
   "metadata": {},
   "outputs": [
    {
     "name": "stdout",
     "output_type": "stream",
     "text": [
      "Hello I am Ram. I am 34\n",
      "Hello world I am Info class and this is my attributes are Ram 34 Kathmandu\n"
     ]
    }
   ],
   "source": [
    "class Info:\n",
    "    def __init__(self,name,age,add):\n",
    "        self.name=name\n",
    "        self._age=age\n",
    "        self.__add=add\n",
    "    def details(self):\n",
    "        return f\"Hello world I am Info class and this is my attributes are {self.name} {self._age} {self.__add}\"\n",
    "    \n",
    "class Data(Info):\n",
    "    def data(self):\n",
    "        print(f\"Hello I am {self.name}. I am {self._age}\")\n",
    "        print(super().details())\n",
    "        \n",
    "obj=Data(\"Ram\",34,\"Kathmandu\")\n",
    "obj.data()"
   ]
  }
 ],
 "metadata": {
  "kernelspec": {
   "display_name": "Python 3 (ipykernel)",
   "language": "python",
   "name": "python3"
  },
  "language_info": {
   "codemirror_mode": {
    "name": "ipython",
    "version": 3
   },
   "file_extension": ".py",
   "mimetype": "text/x-python",
   "name": "python",
   "nbconvert_exporter": "python",
   "pygments_lexer": "ipython3",
   "version": "3.10.7"
  }
 },
 "nbformat": 4,
 "nbformat_minor": 5
}
