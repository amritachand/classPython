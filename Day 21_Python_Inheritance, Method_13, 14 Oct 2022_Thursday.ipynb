{
 "cells": [
  {
   "cell_type": "markdown",
   "id": "4ecc181d",
   "metadata": {},
   "source": [
    "### Inheritance\n",
    "\n",
    "* Inheritance is the capability of one class to derive or inherit the properties from some another class\n",
    "\n",
    "* It provides reusability of a code. We dont' have to write the same code again and again. Also, it allows us to add more features to a class without modifying it.\n",
    "* If class B inherits from another class A, then all the subclasses of B would automatically inherit from class A.\n",
    "* Parent class is the class being inheited form, also callsed base class.\n",
    "* Child class is the class that inherits from another class, also called derived class."
   ]
  },
  {
   "cell_type": "code",
   "execution_count": null,
   "id": "5b9f2650",
   "metadata": {},
   "outputs": [],
   "source": [
    "class A:\n",
    "    pass\n",
    "\n",
    "class B(A):\n",
    "    pass\n",
    "\n",
    "obj=B()\n",
    "    "
   ]
  },
  {
   "cell_type": "markdown",
   "id": "5fe2ceeb",
   "metadata": {},
   "source": [
    "### Multi-class Inheritance"
   ]
  },
  {
   "cell_type": "code",
   "execution_count": null,
   "id": "dcadc8bc",
   "metadata": {},
   "outputs": [],
   "source": [
    "class A:\n",
    "    pass\n",
    "\n",
    "class B:\n",
    "    pass\n",
    "\n",
    "class C(A,B):\n",
    "    pass\n",
    "\n",
    "obj=C()\n",
    "    "
   ]
  },
  {
   "cell_type": "markdown",
   "id": "ddff5e67",
   "metadata": {},
   "source": [
    "### Multi-Label Inheritance"
   ]
  },
  {
   "cell_type": "code",
   "execution_count": null,
   "id": "35b1f516",
   "metadata": {},
   "outputs": [],
   "source": [
    "class A:\n",
    "    pass\n",
    "\n",
    "class B(A):\n",
    "    pass\n",
    "\n",
    "class C(B):\n",
    "    pass\n",
    "\n",
    "obj=C()\n",
    "    "
   ]
  }
 ],
 "metadata": {
  "kernelspec": {
   "display_name": "Python 3 (ipykernel)",
   "language": "python",
   "name": "python3"
  },
  "language_info": {
   "codemirror_mode": {
    "name": "ipython",
    "version": 3
   },
   "file_extension": ".py",
   "mimetype": "text/x-python",
   "name": "python",
   "nbconvert_exporter": "python",
   "pygments_lexer": "ipython3",
   "version": "3.10.7"
  }
 },
 "nbformat": 4,
 "nbformat_minor": 5
}
