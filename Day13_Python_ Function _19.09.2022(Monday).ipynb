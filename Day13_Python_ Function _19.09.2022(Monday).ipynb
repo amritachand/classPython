{
 "cells": [
  {
   "cell_type": "markdown",
   "id": "c469157f",
   "metadata": {},
   "source": [
    "# Function (user define function)\n",
    "function le memory save pani garauchha"
   ]
  },
  {
   "cell_type": "code",
   "execution_count": null,
   "id": "541b7794",
   "metadata": {},
   "outputs": [],
   "source": [
    "pre defined\n",
    "input() intr() str() print() sort() list() tuple() dict()"
   ]
  },
  {
   "cell_type": "code",
   "execution_count": null,
   "id": "2e312fca",
   "metadata": {},
   "outputs": [],
   "source": [
    "def<function_name>():\n",
    "    <opertation>\n",
    "    \n",
    "<function_name>()"
   ]
  },
  {
   "cell_type": "code",
   "execution_count": 1,
   "id": "f012358f",
   "metadata": {},
   "outputs": [
    {
     "name": "stdout",
     "output_type": "stream",
     "text": [
      "Hello World\n"
     ]
    }
   ],
   "source": [
    "def hello():\n",
    "    print(\"Hello World\")\n",
    "    \n",
    "hello()"
   ]
  },
  {
   "cell_type": "code",
   "execution_count": 3,
   "id": "415968b5",
   "metadata": {},
   "outputs": [
    {
     "name": "stdout",
     "output_type": "stream",
     "text": [
      "Enter l=100\n",
      "Enter b=43\n",
      "Enter h=4\n",
      "4300\n",
      "17200\n"
     ]
    }
   ],
   "source": [
    "def cal():\n",
    "    l=int(input(\"Enter l=\"))  #Local variable\n",
    "    b=int(input(\"Enter b=\"))  #Local variable\n",
    "    h=int(input(\"Enter h=\"))  #Local variable\n",
    "    a=l*b\n",
    "    v=a*h\n",
    "    print(a)\n",
    "    print(v)\n",
    "    \n",
    "cal()"
   ]
  },
  {
   "cell_type": "markdown",
   "id": "26b1de56",
   "metadata": {},
   "source": [
    "### Local variable lai global variable banauna pauchha as given below process In [5] ma"
   ]
  },
  {
   "cell_type": "code",
   "execution_count": 5,
   "id": "0e39ad74",
   "metadata": {},
   "outputs": [
    {
     "name": "stdout",
     "output_type": "stream",
     "text": [
      "Enter l=100\n",
      "Enter b=2\n",
      "Enter h=3\n",
      "200\n",
      "600\n",
      "200 600\n"
     ]
    }
   ],
   "source": [
    "def cal():\n",
    "    l=int(input(\"Enter l=\"))  #Local variable\n",
    "    b=int(input(\"Enter b=\"))  #Local variable\n",
    "    h=int(input(\"Enter h=\"))  #Local variable\n",
    "    global a,v\n",
    "    a=l*b\n",
    "    v=a*h\n",
    "    print(a)\n",
    "    print(v)\n",
    "    \n",
    "cal()\n",
    "print(a,v)"
   ]
  },
  {
   "cell_type": "code",
   "execution_count": 6,
   "id": "4f920e17",
   "metadata": {},
   "outputs": [
    {
     "name": "stdout",
     "output_type": "stream",
     "text": [
      "Enter l=100\n",
      "Enter b=34\n",
      "Enter h=4\n",
      "3400\n",
      "13600\n"
     ]
    }
   ],
   "source": [
    "l=int(input(\"Enter l=\"))  #global variable\n",
    "b=int(input(\"Enter b=\"))  #global variable\n",
    "h=int(input(\"Enter h=\"))  #global variable\n",
    "def cal():\n",
    "    a=l*b\n",
    "    v=a*h\n",
    "    print(a)\n",
    "    print(v)\n",
    "    \n",
    "cal()"
   ]
  },
  {
   "cell_type": "markdown",
   "id": "d4aed17a",
   "metadata": {},
   "source": [
    "### Types"
   ]
  },
  {
   "cell_type": "code",
   "execution_count": null,
   "id": "de11dcba",
   "metadata": {},
   "outputs": [],
   "source": [
    "# funtion without argument and without return type\n",
    "# function with argument and  without return type\n",
    "# function without argument and with return type\n",
    "# function with argument and with return type"
   ]
  },
  {
   "cell_type": "code",
   "execution_count": 7,
   "id": "97a2c80e",
   "metadata": {},
   "outputs": [
    {
     "name": "stdout",
     "output_type": "stream",
     "text": [
      "Hello World\n"
     ]
    }
   ],
   "source": [
    "def hello(x):            # parameter\n",
    "    print(x)\n",
    "\n",
    "hello(\"Hello World\")     #argument"
   ]
  },
  {
   "cell_type": "markdown",
   "id": "e090a20a",
   "metadata": {},
   "source": [
    "### Example: Function with argument and return type"
   ]
  },
  {
   "cell_type": "code",
   "execution_count": null,
   "id": "0bcfe516",
   "metadata": {},
   "outputs": [],
   "source": [
    "def cal(l,b,h):\n",
    "    a=l*b\n",
    "    v=a*h\n",
    "    print(a)\n",
    "    print(v)\n",
    "    \n",
    "l=int(input(\"Enter l=\"))     #Local variable\n",
    "b=int(input(\"Enter b=\"))     #Local variable\n",
    "h=int(input(\"Enter h=\"))     #Local variable\n",
    "cal(l,b,h)"
   ]
  },
  {
   "cell_type": "markdown",
   "id": "1bf64352",
   "metadata": {},
   "source": [
    "### Example: Function"
   ]
  },
  {
   "cell_type": "code",
   "execution_count": null,
   "id": "5eefb509",
   "metadata": {},
   "outputs": [],
   "source": [
    "def cal(x):\n",
    "    a=l*b\n",
    "    v=a*h\n",
    "    print(a)\n",
    "    print(v)\n",
    "    \n",
    "l=int(input(\"Enter l=\"))     #Local variable\n",
    "b=int(input(\"Enter b=\"))     #Local variable\n",
    "h=int(input(\"Enter h=\"))     #Local variable\n",
    "x=[l,b,h]\n",
    "cal(x)"
   ]
  },
  {
   "cell_type": "markdown",
   "id": "215e6511",
   "metadata": {},
   "source": [
    "### x ko thauma y rakhda pani huncha"
   ]
  },
  {
   "cell_type": "code",
   "execution_count": null,
   "id": "6f7f6bf9",
   "metadata": {},
   "outputs": [],
   "source": [
    "def cal(y):\n",
    "    l,b,h=y\n",
    "    a=l*b\n",
    "    v=a*h\n",
    "    print(a)\n",
    "    print(v)\n",
    "    \n",
    "l=int(input(\"Enter l=\"))     #Local variable\n",
    "b=int(input(\"Enter b=\"))     #Local variable\n",
    "h=int(input(\"Enter h=\"))     #Local variable\n",
    "x=[l,b,h]\n",
    "cal(x)"
   ]
  },
  {
   "cell_type": "markdown",
   "id": "65259041",
   "metadata": {},
   "source": [
    "### funtion with argument and no return type \n",
    "(example)"
   ]
  },
  {
   "cell_type": "code",
   "execution_count": 10,
   "id": "16d8b01a",
   "metadata": {},
   "outputs": [
    {
     "name": "stdout",
     "output_type": "stream",
     "text": [
      "C\n",
      "C++\n",
      "Java\n",
      "Python\n"
     ]
    }
   ],
   "source": [
    "def lan(language=\"Python\"):\n",
    "    print(language)\n",
    "    \n",
    "lan(\"C\")\n",
    "lan(\"C++\")\n",
    "lan(\"Java\")\n",
    "lan()"
   ]
  },
  {
   "cell_type": "markdown",
   "id": "27f042c3",
   "metadata": {},
   "source": [
    "### return type function"
   ]
  },
  {
   "cell_type": "code",
   "execution_count": 11,
   "id": "58efe14d",
   "metadata": {},
   "outputs": [
    {
     "data": {
      "text/plain": [
       "'Hello World'"
      ]
     },
     "execution_count": 11,
     "metadata": {},
     "output_type": "execute_result"
    }
   ],
   "source": [
    "# return type function\n",
    "def hello():\n",
    "    return\"Hello World\"\n",
    "\n",
    "hello()"
   ]
  },
  {
   "cell_type": "code",
   "execution_count": 12,
   "id": "a41b616c",
   "metadata": {},
   "outputs": [
    {
     "name": "stdout",
     "output_type": "stream",
     "text": [
      "Hello World\n"
     ]
    }
   ],
   "source": [
    "def hello():\n",
    "    return\"Hello World\"\n",
    "\n",
    "print (hello())"
   ]
  },
  {
   "cell_type": "markdown",
   "id": "4276ed29",
   "metadata": {},
   "source": [
    "### Variable ma pani return function use garna sakinchha"
   ]
  },
  {
   "cell_type": "code",
   "execution_count": 13,
   "id": "3e937da2",
   "metadata": {},
   "outputs": [
    {
     "name": "stdout",
     "output_type": "stream",
     "text": [
      "Hello World\n"
     ]
    }
   ],
   "source": [
    "def hello():\n",
    "    return\"Hello World\"\n",
    "\n",
    "x=hello()\n",
    "print(x)"
   ]
  },
  {
   "cell_type": "markdown",
   "id": "85bbb4ce",
   "metadata": {},
   "source": [
    "### function without argument but return type"
   ]
  },
  {
   "cell_type": "code",
   "execution_count": 15,
   "id": "d6ad8d50",
   "metadata": {},
   "outputs": [
    {
     "name": "stdout",
     "output_type": "stream",
     "text": [
      "Enter l=100\n",
      "Enter b=34\n",
      "Enter h=4\n",
      "13600\n"
     ]
    }
   ],
   "source": [
    "def cal():\n",
    "    l=int(input(\"Enter l=\"))     #Local variable\n",
    "    b=int(input(\"Enter b=\"))     #Local variable\n",
    "    a=l*b\n",
    "    return a \n",
    "\n",
    "area=cal()\n",
    "h=int(input(\"Enter h=\"))\n",
    "volume=area*h\n",
    "print(volume)\n"
   ]
  },
  {
   "cell_type": "markdown",
   "id": "62072e74",
   "metadata": {},
   "source": [
    "### function with argument and return type(with return type and argument) "
   ]
  },
  {
   "cell_type": "code",
   "execution_count": 17,
   "id": "807d1618",
   "metadata": {},
   "outputs": [
    {
     "name": "stdout",
     "output_type": "stream",
     "text": [
      "HelloWorld\n"
     ]
    }
   ],
   "source": [
    "# function with return type and argument\n",
    "# return type function\n",
    "def hello(a,b):\n",
    "    return a+b\n",
    "   \n",
    "x=hello(\"Hello\", \"World\")\n",
    "print(x)\n"
   ]
  },
  {
   "cell_type": "code",
   "execution_count": null,
   "id": "5c91be38",
   "metadata": {},
   "outputs": [],
   "source": [
    "def cal(x,y):\n",
    "    a=x*y\n",
    "    return a\n",
    "\n",
    "l=int(input(\"Enter l=\"))     \n",
    "b=int(input(\"Enter b=\"))     \n",
    "area=cal(l,b)\n",
    "h=int(input(\"Enter h=\"))\n",
    "volume=area*h\n",
    "print(volume)"
   ]
  }
 ],
 "metadata": {
  "kernelspec": {
   "display_name": "Python 3 (ipykernel)",
   "language": "python",
   "name": "python3"
  },
  "language_info": {
   "codemirror_mode": {
    "name": "ipython",
    "version": 3
   },
   "file_extension": ".py",
   "mimetype": "text/x-python",
   "name": "python",
   "nbconvert_exporter": "python",
   "pygments_lexer": "ipython3",
   "version": "3.10.7"
  }
 },
 "nbformat": 4,
 "nbformat_minor": 5
}
