{
 "cells": [
  {
   "cell_type": "markdown",
   "id": "35588938",
   "metadata": {},
   "source": [
    "# List"
   ]
  },
  {
   "cell_type": "code",
   "execution_count": null,
   "id": "c2437be3",
   "metadata": {},
   "outputs": [],
   "source": [
    "Python collection\n",
    "# -List\n",
    "# -Tuple\n",
    "# -Dict\n",
    "# -Set"
   ]
  },
  {
   "cell_type": "code",
   "execution_count": null,
   "id": "4d2e4ae3",
   "metadata": {},
   "outputs": [],
   "source": [
    "# # -List\n",
    "# -Indexing\n",
    "# -Ordered\n",
    "# -Duplicate and multiple Values\n",
    "# -Mutable"
   ]
  },
  {
   "cell_type": "code",
   "execution_count": 1,
   "id": "4bd4f67d",
   "metadata": {},
   "outputs": [
    {
     "name": "stdout",
     "output_type": "stream",
     "text": [
      "<class 'list'>\n"
     ]
    }
   ],
   "source": [
    "a=[\"Apple\",\"Ball\",\"Cat\",\"Dog\",\"Fish\"]\n",
    "print(type(a))"
   ]
  },
  {
   "cell_type": "code",
   "execution_count": 2,
   "id": "4b1fac1e",
   "metadata": {},
   "outputs": [
    {
     "name": "stdout",
     "output_type": "stream",
     "text": [
      "<class 'list'>\n",
      "['Apple', 'Ball', 'Cat', 'Dog', 'Fish']\n"
     ]
    }
   ],
   "source": [
    "a=[\"Apple\",\"Ball\",\"Cat\",\"Dog\",\"Fish\"]\n",
    "print(type(a))\n",
    "print(a)"
   ]
  },
  {
   "cell_type": "code",
   "execution_count": 3,
   "id": "61d2c3e2",
   "metadata": {},
   "outputs": [
    {
     "name": "stdout",
     "output_type": "stream",
     "text": [
      "<class 'list'>\n",
      "['Apple', 'Ball', 'Cat', 'Dog', 'Fish']\n"
     ]
    }
   ],
   "source": [
    "a=[\"Apple\",\"Ball\",\"Cat\",\"Dog\",\"Fish\"]\n",
    "b=[1,2,3,4,5,6,7,8,9,0]\n",
    "print(type(a))\n",
    "print(a)"
   ]
  },
  {
   "cell_type": "code",
   "execution_count": 4,
   "id": "c0ef8e5b",
   "metadata": {},
   "outputs": [
    {
     "name": "stdout",
     "output_type": "stream",
     "text": [
      "5\n"
     ]
    }
   ],
   "source": [
    "print(len(a))"
   ]
  },
  {
   "cell_type": "code",
   "execution_count": 5,
   "id": "5c9711c5",
   "metadata": {},
   "outputs": [
    {
     "name": "stdout",
     "output_type": "stream",
     "text": [
      "Apple\n",
      "Fish\n"
     ]
    }
   ],
   "source": [
    "a=[\"Apple\",\"Ball\",\"Cat\",\"Dog\",\"Fish\"]\n",
    "print(a[0])\n",
    "print(a[-1])"
   ]
  },
  {
   "cell_type": "code",
   "execution_count": 6,
   "id": "e8a43223",
   "metadata": {},
   "outputs": [
    {
     "name": "stdout",
     "output_type": "stream",
     "text": [
      "['Apple', 'Ball', 'Cat', 'Dog']\n"
     ]
    }
   ],
   "source": [
    "a=[\"Apple\",\"Ball\",\"Cat\",\"Dog\",\"Fish\"]\n",
    "print(a[0:4])"
   ]
  },
  {
   "cell_type": "code",
   "execution_count": 7,
   "id": "44a78117",
   "metadata": {},
   "outputs": [
    {
     "data": {
      "text/plain": [
       "['Apple', 'Cat', 'Fish']"
      ]
     },
     "execution_count": 7,
     "metadata": {},
     "output_type": "execute_result"
    }
   ],
   "source": [
    "a=[\"Apple\",\"Ball\",\"Cat\",\"Dog\",\"Fish\"]\n",
    "a[0:5:2]"
   ]
  },
  {
   "cell_type": "code",
   "execution_count": 8,
   "id": "f584e954",
   "metadata": {},
   "outputs": [
    {
     "data": {
      "text/plain": [
       "['Apple', 'Cat']"
      ]
     },
     "execution_count": 8,
     "metadata": {},
     "output_type": "execute_result"
    }
   ],
   "source": [
    "a=[\"Apple\",\"Ball\",\"Cat\",\"Dog\",\"Fish\"]\n",
    "a[0:4:2]"
   ]
  },
  {
   "cell_type": "markdown",
   "id": "2da37212",
   "metadata": {},
   "source": [
    "# While List is Ordered"
   ]
  },
  {
   "cell_type": "code",
   "execution_count": 9,
   "id": "b939be85",
   "metadata": {},
   "outputs": [
    {
     "name": "stdout",
     "output_type": "stream",
     "text": [
      "['Apple', 'Ball', 'Cat', 'Dog', 'Fish', 'Goat', 'Fist']\n"
     ]
    }
   ],
   "source": [
    "a=[\"Apple\",\"Ball\",\"Cat\",\"Dog\",\"Fish\"]\n",
    "b=[\"Goat\", \"Fist\"]\n",
    "c=a+b\n",
    "print(c)"
   ]
  },
  {
   "cell_type": "markdown",
   "id": "199d89d0",
   "metadata": {},
   "source": [
    "# Mutable Value"
   ]
  },
  {
   "cell_type": "code",
   "execution_count": 12,
   "id": "b4996a54",
   "metadata": {},
   "outputs": [
    {
     "data": {
      "text/plain": [
       "['Apple', 'Ball', 'Cat', 'Dog', 'Fish', 'Goat', 'Fish', 'Apple']"
      ]
     },
     "execution_count": 12,
     "metadata": {},
     "output_type": "execute_result"
    }
   ],
   "source": [
    "a=['Apple', 'Ball', 'Cat', 'Dog', 'Fish', 'Goat', 'Fish']\n",
    "a.append('Apple')\n",
    "a"
   ]
  },
  {
   "cell_type": "markdown",
   "id": "b2fc408b",
   "metadata": {},
   "source": [
    "# \n",
    "append()\n",
    "insert()\n",
    "extend()"
   ]
  },
  {
   "cell_type": "code",
   "execution_count": null,
   "id": "d4056972",
   "metadata": {},
   "outputs": [],
   "source": [
    "# append() insert() extend()"
   ]
  },
  {
   "cell_type": "code",
   "execution_count": 1,
   "id": "14f9c5e8",
   "metadata": {},
   "outputs": [
    {
     "name": "stdout",
     "output_type": "stream",
     "text": [
      "['Apple', 'apple', 'Ball', 'Cat', 'Dog', 'Fish', 'Goat', 'Fish']\n"
     ]
    }
   ],
   "source": [
    "a=['Apple', 'Ball', 'Cat', 'Dog', 'Fish', 'Goat', 'Fish']\n",
    "a.insert(1,'apple')\n",
    "print(a)\n"
   ]
  },
  {
   "cell_type": "code",
   "execution_count": 5,
   "id": "84c3ae58",
   "metadata": {},
   "outputs": [
    {
     "name": "stdout",
     "output_type": "stream",
     "text": [
      "['Apple', 'Ball', 'Cat', 'Dog', 'Fish', 'Goat', 'Fish', 1, 2, 3, 4]\n"
     ]
    }
   ],
   "source": [
    "a=['Apple', 'Ball', 'Cat', 'Dog', 'Fish', 'Goat', 'Fish']\n",
    "b=[1,2,3,4]\n",
    "a.extend(b)\n",
    "print(a)"
   ]
  },
  {
   "cell_type": "code",
   "execution_count": 1,
   "id": "58b9b68e",
   "metadata": {},
   "outputs": [
    {
     "name": "stdout",
     "output_type": "stream",
     "text": [
      "Enter n=5\n",
      "Enter x=23\n",
      "Enter x=45\n",
      "Enter x=678\n",
      "Enter x=890\n",
      "Enter x=234\n",
      "[23, 45, 678, 890, 234]\n"
     ]
    }
   ],
   "source": [
    "a=list()\n",
    "n=int(input(\"Enter n=\"))\n",
    "for i in range (n):\n",
    "    x=int(input(\"Enter x=\"))\n",
    "    a.append(x)\n",
    "print(a)"
   ]
  },
  {
   "cell_type": "code",
   "execution_count": 4,
   "id": "9b2e3cbc",
   "metadata": {},
   "outputs": [
    {
     "name": "stdout",
     "output_type": "stream",
     "text": [
      "Sum=  1870\n",
      "Max=  890\n",
      "Min=  23\n"
     ]
    }
   ],
   "source": [
    "print(\"Sum= \",sum(a))\n",
    "print(\"Max= \",max(a))\n",
    "print(\"Min= \",min(a))"
   ]
  },
  {
   "cell_type": "markdown",
   "id": "64ac3926",
   "metadata": {},
   "source": [
    "# Sort"
   ]
  },
  {
   "cell_type": "code",
   "execution_count": 5,
   "id": "86a6b5cf",
   "metadata": {},
   "outputs": [
    {
     "name": "stdout",
     "output_type": "stream",
     "text": [
      "Sum=  1870\n",
      "Max=  890\n",
      "Min=  23\n",
      "[23, 45, 234, 678, 890]\n"
     ]
    }
   ],
   "source": [
    "print(\"Sum= \",sum(a))\n",
    "print(\"Max= \",max(a))\n",
    "print(\"Min= \",min(a))\n",
    "a.sort()\n",
    "print(a)"
   ]
  },
  {
   "cell_type": "markdown",
   "id": "e17a58da",
   "metadata": {},
   "source": [
    "# Reverse (acending decending order)"
   ]
  },
  {
   "cell_type": "code",
   "execution_count": 7,
   "id": "36472a0d",
   "metadata": {},
   "outputs": [
    {
     "name": "stdout",
     "output_type": "stream",
     "text": [
      "Sum=  1870\n",
      "Max=  890\n",
      "Min=  23\n",
      "[23, 45, 234, 678, 890]\n",
      "[890, 678, 234, 45, 23]\n"
     ]
    }
   ],
   "source": [
    "print(\"Sum= \",sum(a))\n",
    "print(\"Max= \",max(a))\n",
    "print(\"Min= \",min(a))\n",
    "a.sort()\n",
    "print(a)\n",
    "a.reverse()\n",
    "print(a)"
   ]
  },
  {
   "cell_type": "markdown",
   "id": "8a29a84c",
   "metadata": {},
   "source": [
    "# List sort garda alphabetical order ma aauchaa (A,B,C....)"
   ]
  },
  {
   "cell_type": "code",
   "execution_count": 8,
   "id": "c7c17829",
   "metadata": {},
   "outputs": [
    {
     "name": "stdout",
     "output_type": "stream",
     "text": [
      "['Apple', 'Ball', 'Xray', 'Zebra', 'apple']\n"
     ]
    }
   ],
   "source": [
    "a=['Zebra', 'Apple', 'Ball', 'Xray', 'apple']\n",
    "a.sort()\n",
    "print(a)"
   ]
  },
  {
   "cell_type": "markdown",
   "id": "8c3d4121",
   "metadata": {},
   "source": []
  },
  {
   "cell_type": "code",
   "execution_count": 9,
   "id": "fb443f03",
   "metadata": {},
   "outputs": [
    {
     "name": "stdout",
     "output_type": "stream",
     "text": [
      "Zebra\n",
      "Apple\n",
      "Ball\n",
      "Xray\n",
      "apple\n"
     ]
    }
   ],
   "source": [
    "a=['Zebra', 'Apple', 'Ball', 'Xray', 'apple']\n",
    "for i in a:\n",
    "    print(i)"
   ]
  },
  {
   "cell_type": "code",
   "execution_count": 11,
   "id": "34101c6e",
   "metadata": {},
   "outputs": [
    {
     "name": "stdout",
     "output_type": "stream",
     "text": [
      "Zebra\n",
      "Apple\n",
      "Xray\n",
      "apple\n"
     ]
    }
   ],
   "source": [
    "a=['Zebra', 'Apple', 'Ball', 'Xray', 'apple']\n",
    "for i in a:\n",
    "    if i !='Ball':\n",
    "        print(i)"
   ]
  },
  {
   "cell_type": "code",
   "execution_count": 13,
   "id": "3ed69ca6",
   "metadata": {},
   "outputs": [
    {
     "name": "stdout",
     "output_type": "stream",
     "text": [
      "Enter a=Apple\n",
      "Yes\n"
     ]
    }
   ],
   "source": [
    "a=['Zebra', 'Apple', 'Ball', 'Xray', 'apple']\n",
    "value=input(\"Enter a=\")\n",
    "if value in a:\n",
    "    print(\"Yes\")\n",
    "else:\n",
    "    print(\"No\")"
   ]
  },
  {
   "cell_type": "code",
   "execution_count": 14,
   "id": "420b73b6",
   "metadata": {},
   "outputs": [
    {
     "name": "stdout",
     "output_type": "stream",
     "text": [
      "Enter a=ball\n",
      "No\n"
     ]
    }
   ],
   "source": [
    "a=['Zebra', 'Apple', 'Ball', 'Xray', 'apple']\n",
    "value=input(\"Enter a=\")\n",
    "if value in a:\n",
    "    print(\"Yes\")\n",
    "else:\n",
    "    print(\"No\")"
   ]
  },
  {
   "cell_type": "code",
   "execution_count": 16,
   "id": "6b6a4e7f",
   "metadata": {},
   "outputs": [
    {
     "name": "stdout",
     "output_type": "stream",
     "text": [
      "Zebra\n",
      "Apple\n",
      "Ball\n",
      "Xray\n",
      "apple\n"
     ]
    }
   ],
   "source": [
    "a=['Zebra', 'Apple', 'Ball', 'Xray', 'apple']\n",
    "l=len(a)\n",
    "for i in range(l):\n",
    "    print(a[i])\n"
   ]
  },
  {
   "cell_type": "code",
   "execution_count": 17,
   "id": "2f0d309c",
   "metadata": {},
   "outputs": [
    {
     "name": "stdout",
     "output_type": "stream",
     "text": [
      "Enter value=ball\n",
      "Yes\n"
     ]
    }
   ],
   "source": [
    "a=['Zebra', 'Apple', 'Ball', 'Xray', 'apple']\n",
    "l=len(a)\n",
    "value=input(\"Enter value=\")\n",
    "for i in range(l):\n",
    "    if a[i].lower()==value.lower():\n",
    "        print(\"Yes\")"
   ]
  },
  {
   "cell_type": "code",
   "execution_count": 20,
   "id": "06a23d99",
   "metadata": {},
   "outputs": [
    {
     "name": "stdout",
     "output_type": "stream",
     "text": [
      "Enter value=Apple\n",
      "Yes\n"
     ]
    }
   ],
   "source": [
    "a=['Zebra', 'Apple', 'Ball', 'Xray', 'apple']\n",
    "l=len(a)\n",
    "value=input(\"Enter value=\")\n",
    "for i in range(l):\n",
    "    if a[i].lower()==value.lower():\n",
    "        print(\"Yes\")\n",
    "        break\n",
    "else:\n",
    "    print(\"No\")\n"
   ]
  },
  {
   "cell_type": "markdown",
   "id": "a6173541",
   "metadata": {},
   "source": [
    "# Index search garne"
   ]
  },
  {
   "cell_type": "code",
   "execution_count": 21,
   "id": "6a8cf92b",
   "metadata": {},
   "outputs": [
    {
     "data": {
      "text/plain": [
       "0"
      ]
     },
     "execution_count": 21,
     "metadata": {},
     "output_type": "execute_result"
    }
   ],
   "source": [
    "a=['Zebra', 'Apple', 'Ball', 'Xray', 'Apple']\n",
    "a.index('Zebra')"
   ]
  },
  {
   "cell_type": "code",
   "execution_count": 2,
   "id": "4a77fd83",
   "metadata": {},
   "outputs": [
    {
     "name": "stdout",
     "output_type": "stream",
     "text": [
      "0 Zebra\n",
      "1 Apple\n",
      "2 Ball\n",
      "3 Xray\n",
      "4 Apple\n"
     ]
    }
   ],
   "source": [
    "a=['Zebra', 'Apple', 'Ball', 'Xray', 'Apple']\n",
    "for i in range(len(a)):\n",
    "    print(i,a[i])"
   ]
  },
  {
   "cell_type": "code",
   "execution_count": 3,
   "id": "9edd70f1",
   "metadata": {},
   "outputs": [
    {
     "name": "stdout",
     "output_type": "stream",
     "text": [
      "1\n",
      "4\n"
     ]
    }
   ],
   "source": [
    "a=['Zebra', 'Apple', 'Ball', 'Xray', 'Apple']\n",
    "for i in range(len(a)):\n",
    "    if a[i]=='Apple':\n",
    "        print(i)"
   ]
  },
  {
   "cell_type": "code",
   "execution_count": 2,
   "id": "d30c5296",
   "metadata": {},
   "outputs": [
    {
     "name": "stdout",
     "output_type": "stream",
     "text": [
      "['a', ['bb', 0], 'd']\n"
     ]
    }
   ],
   "source": [
    "L = ['a', ['bb', 'cc'], 'd']\n",
    "L[1][1] = 0\n",
    "print(L)\n",
    "# Prints ['a', ['bb', 0], 'd']"
   ]
  },
  {
   "cell_type": "code",
   "execution_count": null,
   "id": "6b74991e",
   "metadata": {},
   "outputs": [],
   "source": []
  }
 ],
 "metadata": {
  "kernelspec": {
   "display_name": "Python 3 (ipykernel)",
   "language": "python",
   "name": "python3"
  },
  "language_info": {
   "codemirror_mode": {
    "name": "ipython",
    "version": 3
   },
   "file_extension": ".py",
   "mimetype": "text/x-python",
   "name": "python",
   "nbconvert_exporter": "python",
   "pygments_lexer": "ipython3",
   "version": "3.10.7"
  }
 },
 "nbformat": 4,
 "nbformat_minor": 5
}
