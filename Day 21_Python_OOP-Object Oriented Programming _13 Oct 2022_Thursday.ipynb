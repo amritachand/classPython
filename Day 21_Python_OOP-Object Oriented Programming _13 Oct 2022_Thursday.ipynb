{
 "cells": [
  {
   "cell_type": "markdown",
   "id": "110cfe6e",
   "metadata": {},
   "source": [
    "### __Str__method\n",
    "This method returns the string representation of the object. This method is called when print() or str()"
   ]
  },
  {
   "cell_type": "code",
   "execution_count": 2,
   "id": "3565637c",
   "metadata": {},
   "outputs": [
    {
     "name": "stdout",
     "output_type": "stream",
     "text": [
      "Ram\n",
      "<class '__main__.Student'>\n"
     ]
    }
   ],
   "source": [
    "class Student:\n",
    "    def __init__(self,name,age,add):\n",
    "        self.name=name\n",
    "        self.age=age\n",
    "        self.add=add\n",
    "        \n",
    "    def __str__(self):\n",
    "        return self.name\n",
    "    \n",
    "obj=Student(\"Ram\",34,\"Kathmandu\")\n",
    "print(obj)\n",
    "print(type(obj))"
   ]
  },
  {
   "cell_type": "code",
   "execution_count": 4,
   "id": "ee041fb8",
   "metadata": {},
   "outputs": [
    {
     "name": "stdout",
     "output_type": "stream",
     "text": [
      "Ram\n",
      "Ram\n",
      "Ram\n"
     ]
    }
   ],
   "source": [
    "class Student:\n",
    "    def __init__(self,name,age,add):\n",
    "        self.name=name\n",
    "        self.age=age\n",
    "        self.add=add\n",
    "        \n",
    "    def __str__(self):\n",
    "        return self.name\n",
    "    \n",
    "obj=Student(\"Ram\",34,\"Kathmandu\")\n",
    "print(obj)\n",
    "print(str(obj))\n",
    "print(obj.__str__())"
   ]
  },
  {
   "cell_type": "code",
   "execution_count": 5,
   "id": "830266ea",
   "metadata": {},
   "outputs": [
    {
     "name": "stdout",
     "output_type": "stream",
     "text": [
      "This is init method 2 3\n",
      "This is init method -1 2\n",
      "This is add method 1 5\n",
      "This is init method 1 5\n",
      "This is str method 1 5\n",
      "(1,5)\n"
     ]
    }
   ],
   "source": [
    "class Point:\n",
    "    def __init__(self,x=0,y=0):\n",
    "        self.x=x\n",
    "        self.y=y\n",
    "        print(\"This is init method\",self.x,self.y)\n",
    "        \n",
    "    def __str__(self):\n",
    "        print(\"This is str method\",self.x,self.y)\n",
    "        return f\"({self.x},{self.y})\"\n",
    "    \n",
    "    def __add__(self,other):\n",
    "        x=self.x+other.x\n",
    "        y=self.y+other.y\n",
    "        print(\"This is add method\",x,y)\n",
    "        return Point(x,y)\n",
    "    \n",
    "p1=Point(2,3)\n",
    "p2=Point(-1,2)\n",
    "print(p1+p2)"
   ]
  },
  {
   "cell_type": "code",
   "execution_count": 6,
   "id": "1082a637",
   "metadata": {},
   "outputs": [
    {
     "name": "stdout",
     "output_type": "stream",
     "text": [
      "This is init method 1000\n",
      "This is init method 1500\n",
      "This is init method 2000\n",
      "This is add method 2500\n",
      "This is init method 2500\n",
      "This is add method 4500\n",
      "This is init method 4500\n",
      "This is str method 4500\n",
      "(4500)\n"
     ]
    }
   ],
   "source": [
    "class Point:\n",
    "    def __init__(self,x=0):\n",
    "        self.x=x\n",
    "        print(\"This is init method\",self.x)\n",
    "        \n",
    "    def __str__(self):\n",
    "        print(\"This is str method\",self.x)\n",
    "        return f\"({self.x})\"\n",
    "    \n",
    "    def __add__(self,other):\n",
    "        x=self.x+other.x\n",
    "        print(\"This is add method\",x)\n",
    "        return Point(x)\n",
    "    \n",
    "p1=Point(1000)\n",
    "p2=Point(1500)\n",
    "p3=Point(2000)\n",
    "print(p1+p2+p3)"
   ]
  },
  {
   "cell_type": "markdown",
   "id": "dd3dc210",
   "metadata": {},
   "source": [
    "### Inheritance\n",
    "\n",
    "* Inheritance is the capability of one class to derive or inherit the properties from some another class\n",
    "\n",
    "* It provides reusability of a code. We dont' have to write the same code again and again. Also, it allows us to add more features to a class without modifying it.\n",
    "* If class B inherits from another class A, then all the subclasses of B would automatically inherit from class A.\n",
    "* Parent class is the class being inheited form, also callsed base class.\n",
    "* Child class is the class that inherits from another class, also called derived class."
   ]
  }
 ],
 "metadata": {
  "kernelspec": {
   "display_name": "Python 3 (ipykernel)",
   "language": "python",
   "name": "python3"
  },
  "language_info": {
   "codemirror_mode": {
    "name": "ipython",
    "version": 3
   },
   "file_extension": ".py",
   "mimetype": "text/x-python",
   "name": "python",
   "nbconvert_exporter": "python",
   "pygments_lexer": "ipython3",
   "version": "3.10.7"
  }
 },
 "nbformat": 4,
 "nbformat_minor": 5
}
