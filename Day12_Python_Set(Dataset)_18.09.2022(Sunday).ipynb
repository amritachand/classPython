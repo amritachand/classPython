{
 "cells": [
  {
   "cell_type": "code",
   "execution_count": null,
   "id": "3d1c726c",
   "metadata": {},
   "outputs": [],
   "source": [
    "# Set\n",
    "# -No indexing\n",
    "# -Unordered\n",
    "# -No Duplicate data\n",
    "# -Mutable"
   ]
  },
  {
   "cell_type": "code",
   "execution_count": 1,
   "id": "bf0391cb",
   "metadata": {},
   "outputs": [
    {
     "name": "stdout",
     "output_type": "stream",
     "text": [
      "<class 'set'>\n",
      "<class 'set'>\n"
     ]
    }
   ],
   "source": [
    "s={1,2,3,4}\n",
    "t={\"Apple\", 'Ball','Cat'}\n",
    "print(type(s))\n",
    "print(type(t))"
   ]
  },
  {
   "cell_type": "code",
   "execution_count": 2,
   "id": "fbfc50c6",
   "metadata": {},
   "outputs": [
    {
     "name": "stdout",
     "output_type": "stream",
     "text": [
      "{'Apple', 'Cat', 'Ball'}\n",
      "{1, 2, 3, 4}\n"
     ]
    }
   ],
   "source": [
    "t={\"Apple\", 'Ball','Cat'}\n",
    "print(t)\n",
    "print(s)"
   ]
  },
  {
   "cell_type": "code",
   "execution_count": 3,
   "id": "c384b9b5",
   "metadata": {},
   "outputs": [
    {
     "ename": "TypeError",
     "evalue": "'set' object is not subscriptable",
     "output_type": "error",
     "traceback": [
      "\u001b[1;31m---------------------------------------------------------------------------\u001b[0m",
      "\u001b[1;31mTypeError\u001b[0m                                 Traceback (most recent call last)",
      "Cell \u001b[1;32mIn [3], line 2\u001b[0m\n\u001b[0;32m      1\u001b[0m t\u001b[38;5;241m=\u001b[39m{\u001b[38;5;124m\"\u001b[39m\u001b[38;5;124mApple\u001b[39m\u001b[38;5;124m\"\u001b[39m, \u001b[38;5;124m'\u001b[39m\u001b[38;5;124mBall\u001b[39m\u001b[38;5;124m'\u001b[39m,\u001b[38;5;124m'\u001b[39m\u001b[38;5;124mCat\u001b[39m\u001b[38;5;124m'\u001b[39m}\n\u001b[1;32m----> 2\u001b[0m \u001b[43mt\u001b[49m\u001b[43m[\u001b[49m\u001b[38;5;241;43m0\u001b[39;49m\u001b[43m]\u001b[49m\n",
      "\u001b[1;31mTypeError\u001b[0m: 'set' object is not subscriptable"
     ]
    }
   ],
   "source": [
    "t={\"Apple\", 'Ball','Cat'}\n",
    "t[0]"
   ]
  },
  {
   "cell_type": "code",
   "execution_count": 4,
   "id": "1f392e48",
   "metadata": {},
   "outputs": [
    {
     "name": "stdout",
     "output_type": "stream",
     "text": [
      "{1, 2, 3, 4, 5, 6, 7, 8}\n"
     ]
    }
   ],
   "source": [
    "s={1,2,1,3,4,5,6,4,5,7,8}\n",
    "print(s)"
   ]
  },
  {
   "cell_type": "code",
   "execution_count": null,
   "id": "5466a8fe",
   "metadata": {},
   "outputs": [],
   "source": [
    "add() update()\n",
    "union()intersection() difference()\n",
    "remove()"
   ]
  },
  {
   "cell_type": "code",
   "execution_count": 12,
   "id": "e17d515f",
   "metadata": {},
   "outputs": [
    {
     "name": "stdout",
     "output_type": "stream",
     "text": [
      "{'Ram'}\n"
     ]
    }
   ],
   "source": [
    "s=set()\n",
    "s.add(\"Ram\")\n",
    "print(s)"
   ]
  },
  {
   "cell_type": "markdown",
   "id": "b24f40be",
   "metadata": {},
   "source": [
    "# value update garne"
   ]
  },
  {
   "cell_type": "code",
   "execution_count": 15,
   "id": "28ef34c0",
   "metadata": {},
   "outputs": [
    {
     "name": "stdout",
     "output_type": "stream",
     "text": [
      "{1, 2, 3, 4, 'Apple', 'Ball'}\n"
     ]
    }
   ],
   "source": [
    "a={1,2,3,4}\n",
    "b={'Apple','Ball'}\n",
    "a.update(b)\n",
    "print(a)"
   ]
  },
  {
   "cell_type": "markdown",
   "id": "21afcfde",
   "metadata": {},
   "source": [
    "# values haru remove garne"
   ]
  },
  {
   "cell_type": "code",
   "execution_count": 16,
   "id": "c748a51b",
   "metadata": {},
   "outputs": [
    {
     "name": "stdout",
     "output_type": "stream",
     "text": [
      "{1, 2, 3, 4, 'Ball'}\n"
     ]
    }
   ],
   "source": [
    "a.remove('Apple')\n",
    "print(a)"
   ]
  },
  {
   "cell_type": "markdown",
   "id": "79b4e102",
   "metadata": {},
   "source": [
    "# Data analysis garne kaam/ Venn diagram"
   ]
  },
  {
   "cell_type": "code",
   "execution_count": 18,
   "id": "75e7f40b",
   "metadata": {},
   "outputs": [
    {
     "name": "stdout",
     "output_type": "stream",
     "text": [
      "{'Sameer'}\n"
     ]
    }
   ],
   "source": [
    "#union() intersection() difference()\n",
    "apple={'Ram','Shyam','Jobs','Jack','Sameer'}\n",
    "ms={'Gates','Sushil','Sabin','Sameer'}\n",
    "\n",
    "intr=apple.intersection(ms)\n",
    "print(intr)"
   ]
  },
  {
   "cell_type": "markdown",
   "id": "9529e148",
   "metadata": {},
   "source": [
    "# union"
   ]
  },
  {
   "cell_type": "code",
   "execution_count": 19,
   "id": "44932484",
   "metadata": {},
   "outputs": [
    {
     "data": {
      "text/plain": [
       "{'Gates', 'Jack', 'Jobs', 'Ram', 'Sabin', 'Sameer', 'Shyam', 'Sushil'}"
      ]
     },
     "execution_count": 19,
     "metadata": {},
     "output_type": "execute_result"
    }
   ],
   "source": [
    "apple.union(ms)"
   ]
  },
  {
   "cell_type": "code",
   "execution_count": 20,
   "id": "e8921adb",
   "metadata": {},
   "outputs": [
    {
     "data": {
      "text/plain": [
       "['Sushil', 'Ram', 'Jack', 'Sameer', 'Sabin', 'Jobs', 'Shyam', 'Gates']"
      ]
     },
     "execution_count": 20,
     "metadata": {},
     "output_type": "execute_result"
    }
   ],
   "source": [
    "x={'Gates', 'Jack', 'Jobs', 'Ram', 'Sabin', 'Sameer', 'Shyam', 'Sushil'}\n",
    "list(x)"
   ]
  },
  {
   "cell_type": "markdown",
   "id": "80a0dcad",
   "metadata": {},
   "source": [
    "# difference"
   ]
  },
  {
   "cell_type": "code",
   "execution_count": 21,
   "id": "14d35015",
   "metadata": {},
   "outputs": [
    {
     "data": {
      "text/plain": [
       "{'Jack', 'Jobs', 'Ram', 'Shyam'}"
      ]
     },
     "execution_count": 21,
     "metadata": {},
     "output_type": "execute_result"
    }
   ],
   "source": [
    "apple.difference(ms)"
   ]
  },
  {
   "cell_type": "code",
   "execution_count": 22,
   "id": "1acb348a",
   "metadata": {},
   "outputs": [
    {
     "data": {
      "text/plain": [
       "{'Gates', 'Sabin', 'Sushil'}"
      ]
     },
     "execution_count": 22,
     "metadata": {},
     "output_type": "execute_result"
    }
   ],
   "source": [
    "ms.difference(apple)"
   ]
  },
  {
   "cell_type": "markdown",
   "id": "1c5fa7a5",
   "metadata": {},
   "source": [
    "# no mutable datatype inside set"
   ]
  },
  {
   "cell_type": "code",
   "execution_count": 23,
   "id": "86843709",
   "metadata": {},
   "outputs": [
    {
     "ename": "TypeError",
     "evalue": "unhashable type: 'list'",
     "output_type": "error",
     "traceback": [
      "\u001b[1;31m---------------------------------------------------------------------------\u001b[0m",
      "\u001b[1;31mTypeError\u001b[0m                                 Traceback (most recent call last)",
      "Cell \u001b[1;32mIn [23], line 2\u001b[0m\n\u001b[0;32m      1\u001b[0m \u001b[38;5;66;03m# no mutable datatype inside set\u001b[39;00m\n\u001b[1;32m----> 2\u001b[0m s\u001b[38;5;241m=\u001b[39m{[\u001b[38;5;241m1\u001b[39m,\u001b[38;5;241m2\u001b[39m,\u001b[38;5;241m3\u001b[39m,]}\n\u001b[0;32m      3\u001b[0m \u001b[38;5;28mprint\u001b[39m(s)\n",
      "\u001b[1;31mTypeError\u001b[0m: unhashable type: 'list'"
     ]
    }
   ],
   "source": [
    "# no mutable datatype inside set\n",
    "s={[1,2,3,]}\n",
    "print(s)"
   ]
  },
  {
   "cell_type": "code",
   "execution_count": 1,
   "id": "1d777c31",
   "metadata": {},
   "outputs": [
    {
     "name": "stdout",
     "output_type": "stream",
     "text": [
      "{(1, 2, 3)}\n"
     ]
    }
   ],
   "source": [
    "# no mutable datatype inside set but tuple exists\n",
    "s={(1,2,3,)}\n",
    "print(s)"
   ]
  },
  {
   "cell_type": "code",
   "execution_count": 2,
   "id": "aa18b8a9",
   "metadata": {},
   "outputs": [
    {
     "data": {
      "text/plain": [
       "{(4, 5, 6, 7)}"
      ]
     },
     "execution_count": 2,
     "metadata": {},
     "output_type": "execute_result"
    }
   ],
   "source": [
    "s={(4,5,6,7)}\n",
    "s"
   ]
  },
  {
   "cell_type": "code",
   "execution_count": null,
   "id": "da415c0b",
   "metadata": {},
   "outputs": [],
   "source": []
  }
 ],
 "metadata": {
  "kernelspec": {
   "display_name": "Python 3 (ipykernel)",
   "language": "python",
   "name": "python3"
  },
  "language_info": {
   "codemirror_mode": {
    "name": "ipython",
    "version": 3
   },
   "file_extension": ".py",
   "mimetype": "text/x-python",
   "name": "python",
   "nbconvert_exporter": "python",
   "pygments_lexer": "ipython3",
   "version": "3.10.7"
  }
 },
 "nbformat": 4,
 "nbformat_minor": 5
}
