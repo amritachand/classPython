{
 "cells": [
  {
   "cell_type": "markdown",
   "id": "d542a03d",
   "metadata": {},
   "source": [
    "# Tuple\n",
    "-Indexing\n",
    "-Ordered\n",
    "-Duplicate and multiple data\n",
    "-Imutable"
   ]
  },
  {
   "cell_type": "code",
   "execution_count": null,
   "id": "12738085",
   "metadata": {},
   "outputs": [],
   "source": [
    "# Tuple\n",
    "# -Indexing\n",
    "# -Ordered\n",
    "# -Duplicate and multiple data\n",
    "# -Imutable"
   ]
  },
  {
   "cell_type": "markdown",
   "id": "70c84c62",
   "metadata": {},
   "source": [
    "# Indexing"
   ]
  },
  {
   "cell_type": "code",
   "execution_count": 1,
   "id": "d8571718",
   "metadata": {},
   "outputs": [
    {
     "name": "stdout",
     "output_type": "stream",
     "text": [
      "<class 'tuple'>\n",
      "<class 'tuple'>\n"
     ]
    }
   ],
   "source": [
    "a=(1,2,3,4,5)\n",
    "b=tuple()\n",
    "print(type(a))\n",
    "print(type(b))"
   ]
  },
  {
   "cell_type": "code",
   "execution_count": 2,
   "id": "e425c1bd",
   "metadata": {},
   "outputs": [
    {
     "name": "stdout",
     "output_type": "stream",
     "text": [
      "Apple\n",
      "Ball\n",
      "Cat\n"
     ]
    }
   ],
   "source": [
    "a=(\"Apple\", \"Ball\", \"Cat\",\"Dog\",\"Fish\")\n",
    "print(a[0])\n",
    "print(a[1])\n",
    "print(a[2])"
   ]
  },
  {
   "cell_type": "code",
   "execution_count": 4,
   "id": "ae818c78",
   "metadata": {},
   "outputs": [
    {
     "name": "stdout",
     "output_type": "stream",
     "text": [
      "('Apple', 'Ball', 'Cat', 'Dog')\n"
     ]
    }
   ],
   "source": [
    "a=(\"Apple\", \"Ball\", \"Cat\",\"Dog\",\"Fish\")\n",
    "print(a[0:4])"
   ]
  },
  {
   "cell_type": "code",
   "execution_count": 5,
   "id": "c838ac9c",
   "metadata": {},
   "outputs": [
    {
     "name": "stdout",
     "output_type": "stream",
     "text": [
      "('Apple', 'Cat', 'Fish')\n"
     ]
    }
   ],
   "source": [
    "a=(\"Apple\", \"Ball\", \"Cat\",\"Dog\",\"Fish\")\n",
    "print(a[0:6:2])"
   ]
  },
  {
   "cell_type": "code",
   "execution_count": 6,
   "id": "b2d888bb",
   "metadata": {},
   "outputs": [
    {
     "name": "stdout",
     "output_type": "stream",
     "text": [
      "('Apple', 'Cat', 'Fish')\n"
     ]
    }
   ],
   "source": [
    "a=(\"Apple\", \"Ball\", \"Cat\",\"Dog\",\"Fish\")\n",
    "print(a[0::2])"
   ]
  },
  {
   "cell_type": "code",
   "execution_count": 7,
   "id": "e7911157",
   "metadata": {},
   "outputs": [
    {
     "name": "stdout",
     "output_type": "stream",
     "text": [
      "('Apple', 'Cat', 'Fish')\n"
     ]
    }
   ],
   "source": [
    "a=(\"Apple\", \"Ball\", \"Cat\",\"Dog\",\"Fish\")\n",
    "print(a[::2])"
   ]
  },
  {
   "cell_type": "code",
   "execution_count": 8,
   "id": "7008607b",
   "metadata": {},
   "outputs": [
    {
     "name": "stdout",
     "output_type": "stream",
     "text": [
      "('Apple', 'Dog')\n"
     ]
    }
   ],
   "source": [
    "a=(\"Apple\", \"Ball\", \"Cat\",\"Dog\",\"Fish\")\n",
    "print(a[::3])"
   ]
  },
  {
   "cell_type": "code",
   "execution_count": 14,
   "id": "c224096c",
   "metadata": {},
   "outputs": [
    {
     "name": "stdout",
     "output_type": "stream",
     "text": [
      "('Apple', 'Fish')\n"
     ]
    }
   ],
   "source": [
    "a=(\"Apple\", \"Ball\", \"Cat\",\"Dog\",\"Fish\")\n",
    "print(a[::4])"
   ]
  },
  {
   "cell_type": "code",
   "execution_count": 13,
   "id": "fe046837",
   "metadata": {},
   "outputs": [
    {
     "data": {
      "text/plain": [
       "'nohtyP'"
      ]
     },
     "execution_count": 13,
     "metadata": {},
     "output_type": "execute_result"
    }
   ],
   "source": [
    "a=\"Python\"\n",
    "a[::-1]"
   ]
  },
  {
   "cell_type": "code",
   "execution_count": 10,
   "id": "6cd84081",
   "metadata": {},
   "outputs": [
    {
     "name": "stdout",
     "output_type": "stream",
     "text": [
      "('Fish', 'Dog', 'Cat', 'Ball', 'Apple')\n"
     ]
    }
   ],
   "source": [
    "a=(\"Apple\", \"Ball\", \"Cat\",\"Dog\",\"Fish\")\n",
    "print(a[::-1])"
   ]
  },
  {
   "cell_type": "markdown",
   "id": "b6f37103",
   "metadata": {},
   "source": [
    "# Ordered"
   ]
  },
  {
   "cell_type": "code",
   "execution_count": 12,
   "id": "ac179832",
   "metadata": {},
   "outputs": [
    {
     "name": "stdout",
     "output_type": "stream",
     "text": [
      "('Apple', 'Ball', 'Cat', 'Dog', 'Fish', 'Goat', 'Apple')\n"
     ]
    }
   ],
   "source": [
    "a=(\"Apple\", \"Ball\", \"Cat\",\"Dog\",\"Fish\")\n",
    "b=(\"Goat\", \"Apple\")\n",
    "c=a+b\n",
    "print(c)"
   ]
  },
  {
   "cell_type": "code",
   "execution_count": 16,
   "id": "08b5e9da",
   "metadata": {},
   "outputs": [
    {
     "data": {
      "text/plain": [
       "str"
      ]
     },
     "execution_count": 16,
     "metadata": {},
     "output_type": "execute_result"
    }
   ],
   "source": [
    "a=(\"Apple\")\n",
    "type(a)"
   ]
  },
  {
   "cell_type": "code",
   "execution_count": 17,
   "id": "4a7fe786",
   "metadata": {},
   "outputs": [
    {
     "data": {
      "text/plain": [
       "tuple"
      ]
     },
     "execution_count": 17,
     "metadata": {},
     "output_type": "execute_result"
    }
   ],
   "source": [
    "a=(\"Apple\", \"Ball\")\n",
    "type(a)"
   ]
  },
  {
   "cell_type": "code",
   "execution_count": 18,
   "id": "cc227639",
   "metadata": {},
   "outputs": [
    {
     "data": {
      "text/plain": [
       "tuple"
      ]
     },
     "execution_count": 18,
     "metadata": {},
     "output_type": "execute_result"
    }
   ],
   "source": [
    "a=(\"Apple\",)\n",
    "type(a)"
   ]
  },
  {
   "cell_type": "markdown",
   "id": "50195f4d",
   "metadata": {},
   "source": [
    "# Not possible in Tuple"
   ]
  },
  {
   "cell_type": "code",
   "execution_count": null,
   "id": "c25a66ab",
   "metadata": {},
   "outputs": [],
   "source": [
    "# No append insert extend\n",
    "# No update or edit\n",
    "# No del remove pop"
   ]
  },
  {
   "cell_type": "code",
   "execution_count": 19,
   "id": "e93e7eb8",
   "metadata": {},
   "outputs": [
    {
     "name": "stdout",
     "output_type": "stream",
     "text": [
      "[1, 2, 3, 4]\n"
     ]
    }
   ],
   "source": [
    "a=(1,2,3,4)\n",
    "b=list(a)\n",
    "print(b)"
   ]
  },
  {
   "cell_type": "code",
   "execution_count": 2,
   "id": "eeb774a9",
   "metadata": {},
   "outputs": [
    {
     "name": "stdout",
     "output_type": "stream",
     "text": [
      "(2, 3, 4)\n"
     ]
    }
   ],
   "source": [
    "a=(1,2,3,4)\n",
    "b=list(a)\n",
    "del b[0]\n",
    "a=tuple(b)\n",
    "print(a)"
   ]
  },
  {
   "cell_type": "code",
   "execution_count": 3,
   "id": "47493178",
   "metadata": {},
   "outputs": [
    {
     "name": "stdout",
     "output_type": "stream",
     "text": [
      "(1, 3, 4)\n"
     ]
    }
   ],
   "source": [
    "a=(1,2,3,4)\n",
    "b=list(a)\n",
    "del b[1]\n",
    "a=tuple(b)\n",
    "print(a)"
   ]
  },
  {
   "cell_type": "code",
   "execution_count": 4,
   "id": "73811f67",
   "metadata": {},
   "outputs": [
    {
     "name": "stdout",
     "output_type": "stream",
     "text": [
      "(1, 2, 4)\n"
     ]
    }
   ],
   "source": [
    "a=(1,2,3,4)\n",
    "b=list(a)\n",
    "del b[2]\n",
    "a=tuple(b)\n",
    "print(a)"
   ]
  },
  {
   "cell_type": "code",
   "execution_count": 1,
   "id": "0d287088",
   "metadata": {},
   "outputs": [
    {
     "name": "stdout",
     "output_type": "stream",
     "text": [
      "Enter n=4\n",
      "Enter x=5\n",
      "Enter x=6\n",
      "Enter x=2\n",
      "Enter x=8\n",
      "(5, 6, 2, 8)\n"
     ]
    }
   ],
   "source": [
    "t=()\n",
    "n=int(input(\"Enter n=\"))\n",
    "for i in range(n):\n",
    "    x=int(input(\"Enter x=\"))\n",
    "    t=t+(x,)\n",
    "print(t)"
   ]
  },
  {
   "cell_type": "code",
   "execution_count": 2,
   "id": "f97db333",
   "metadata": {},
   "outputs": [
    {
     "name": "stdout",
     "output_type": "stream",
     "text": [
      "Sum= 21\n",
      "max= 8\n",
      "min= 2\n",
      "[2, 5, 6, 8]\n",
      "(5, 6, 2, 8)\n"
     ]
    }
   ],
   "source": [
    "print(\"Sum=\",sum(t))\n",
    "print(\"max=\", max(t))\n",
    "print(\"min=\", min(t))\n",
    "print(sorted(t))\n",
    "print(t)"
   ]
  },
  {
   "cell_type": "code",
   "execution_count": null,
   "id": "5d3a040d",
   "metadata": {},
   "outputs": [],
   "source": [
    "x=((1,2,3),\n",
    "   (4,5,6),\n",
    "   (7,8,9))"
   ]
  },
  {
   "cell_type": "code",
   "execution_count": 1,
   "id": "49bf7fd4",
   "metadata": {},
   "outputs": [
    {
     "name": "stdout",
     "output_type": "stream",
     "text": [
      "Enter n=2\n",
      "Enter name=Ram\n",
      "Enter age=67\n",
      "Enter add=Kathmandu\n",
      "Enter name=Shyam\n",
      "Enter age=34\n",
      "Enter add=Bhaktapur\n",
      "(('Ram', 67, 'Kathmandu'), ('Shyam', 34, 'Bhaktapur'))\n"
     ]
    }
   ],
   "source": [
    "t=()\n",
    "n=int(input(\"Enter n=\")\n",
    "for i in range(n):\n",
    "    name=input(\"Enter name=\")\n",
    "    age=int(input(\"Enter age=\"))\n",
    "    add=input(\"Enter add=\")\n",
    "    t=t+((name,age,add),)\n",
    "    \n",
    "print(t)"
   ]
  },
  {
   "cell_type": "code",
   "execution_count": null,
   "id": "2ba55f3a",
   "metadata": {},
   "outputs": [],
   "source": [
    "y=list(t)\n",
    "y"
   ]
  },
  {
   "cell_type": "code",
   "execution_count": null,
   "id": "a4bdd4f4",
   "metadata": {},
   "outputs": [],
   "source": [
    "[('Ram', 67, 'Kathmandu'), ('Shyam', 34, 'Bhaktapur')]"
   ]
  },
  {
   "cell_type": "code",
   "execution_count": 6,
   "id": "fd52b683",
   "metadata": {},
   "outputs": [],
   "source": [
    "# tuple inside list\n",
    "a=[('Ram', 67, 'Kathmandu'), ('Shyam', 34, 'Bhaktapur')]"
   ]
  },
  {
   "cell_type": "code",
   "execution_count": 7,
   "id": "095535ef",
   "metadata": {},
   "outputs": [
    {
     "name": "stdout",
     "output_type": "stream",
     "text": [
      "[('Ram', 67, 'Kathmandu'), ('Shyam', 34, 'Bhaktapur'), ('Shyam', 34, 'Bhaktapur')]\n"
     ]
    }
   ],
   "source": [
    "a.append (('Shyam', 34, 'Bhaktapur'))\n",
    "print(a)"
   ]
  },
  {
   "cell_type": "code",
   "execution_count": 11,
   "id": "47d520af",
   "metadata": {},
   "outputs": [
    {
     "name": "stdout",
     "output_type": "stream",
     "text": [
      "[('Rama', 34, 'Bara'), ('Shyam', 34, 'Bhaktapur'), ('Shyam', 34, 'Bhaktapur')]\n"
     ]
    }
   ],
   "source": [
    "a[0]=('Rama', 34,'Bara')\n",
    "print(a)"
   ]
  },
  {
   "cell_type": "code",
   "execution_count": 12,
   "id": "3e5e03b6",
   "metadata": {},
   "outputs": [
    {
     "ename": "TypeError",
     "evalue": "'tuple' object does not support item assignment",
     "output_type": "error",
     "traceback": [
      "\u001b[1;31m---------------------------------------------------------------------------\u001b[0m",
      "\u001b[1;31mTypeError\u001b[0m                                 Traceback (most recent call last)",
      "Cell \u001b[1;32mIn [12], line 1\u001b[0m\n\u001b[1;32m----> 1\u001b[0m \u001b[43ma\u001b[49m\u001b[43m[\u001b[49m\u001b[38;5;241;43m0\u001b[39;49m\u001b[43m]\u001b[49m\u001b[43m[\u001b[49m\u001b[38;5;241;43m0\u001b[39;49m\u001b[43m]\u001b[49m\u001b[38;5;241m=\u001b[39m\u001b[38;5;124m\"\u001b[39m\u001b[38;5;124mRam\u001b[39m\u001b[38;5;124m\"\u001b[39m\n\u001b[0;32m      2\u001b[0m \u001b[38;5;28mprint\u001b[39m(a)\n",
      "\u001b[1;31mTypeError\u001b[0m: 'tuple' object does not support item assignment"
     ]
    }
   ],
   "source": [
    "a[0][0]=\"Ram\"\n",
    "print(a)"
   ]
  },
  {
   "cell_type": "code",
   "execution_count": 16,
   "id": "6af362b2",
   "metadata": {},
   "outputs": [
    {
     "name": "stdout",
     "output_type": "stream",
     "text": [
      "[['Ram', 67, 'Kathmandu'], ['Shyam', 34, 'Bhaktapur']]\n"
     ]
    }
   ],
   "source": [
    "a=(('Ram', 67, 'Kathmandu'), ('Shyam', 34, 'Bhaktapur'))\n",
    "l=[]\n",
    "for i in a:\n",
    "    l.append(list(i))\n",
    "print(l)"
   ]
  },
  {
   "cell_type": "code",
   "execution_count": 17,
   "id": "955b101a",
   "metadata": {},
   "outputs": [
    {
     "name": "stdout",
     "output_type": "stream",
     "text": [
      "[['Ram', 67, 'Kathmandu']]\n",
      "[['Ram', 67, 'Kathmandu'], ['Shyam', 34, 'Bhaktapur']]\n"
     ]
    }
   ],
   "source": [
    "a=(('Ram', 67, 'Kathmandu'), ('Shyam', 34, 'Bhaktapur'))\n",
    "l=[]\n",
    "for i in a:\n",
    "    l.append(list(i))\n",
    "    print(l)"
   ]
  },
  {
   "cell_type": "code",
   "execution_count": 18,
   "id": "923a3752",
   "metadata": {},
   "outputs": [
    {
     "name": "stdout",
     "output_type": "stream",
     "text": [
      "(('Ram', 67, 'Kathmandu'), ('Shyam', 34, 'Bhaktapur'))\n"
     ]
    }
   ],
   "source": [
    "a=[['Ram', 67, 'Kathmandu'], ['Shyam', 34, 'Bhaktapur']]\n",
    "l=()\n",
    "for i in a:\n",
    "    l=l+(tuple(i),)\n",
    "print(l)"
   ]
  },
  {
   "cell_type": "code",
   "execution_count": 19,
   "id": "4fe9929c",
   "metadata": {},
   "outputs": [
    {
     "name": "stdout",
     "output_type": "stream",
     "text": [
      "('Ram', 67, 'Kathmandu', 'Shyam', 34, 'Bhaktapur')\n"
     ]
    }
   ],
   "source": [
    "a=[['Ram', 67, 'Kathmandu'], ['Shyam', 34, 'Bhaktapur']]\n",
    "l=()\n",
    "for i in a:\n",
    "    l=l+tuple(i)\n",
    "print(l)"
   ]
  },
  {
   "cell_type": "code",
   "execution_count": null,
   "id": "6b9814bb",
   "metadata": {},
   "outputs": [],
   "source": [
    "# r=?\n",
    "# c=?\n",
    "# input x=?\n",
    "# matrix=[[1,2,3],\n",
    "#        [4,5,6],\n",
    "#        7,8,9]]\n",
    "\n",
    "and\n",
    "\n",
    "# matrix = ((1,2,3),\n",
    "#          (4,5,6,),\n",
    "#          (7,8,9))"
   ]
  },
  {
   "cell_type": "code",
   "execution_count": null,
   "id": "695d9e06",
   "metadata": {},
   "outputs": [],
   "source": []
  }
 ],
 "metadata": {
  "kernelspec": {
   "display_name": "Python 3 (ipykernel)",
   "language": "python",
   "name": "python3"
  },
  "language_info": {
   "codemirror_mode": {
    "name": "ipython",
    "version": 3
   },
   "file_extension": ".py",
   "mimetype": "text/x-python",
   "name": "python",
   "nbconvert_exporter": "python",
   "pygments_lexer": "ipython3",
   "version": "3.10.7"
  }
 },
 "nbformat": 4,
 "nbformat_minor": 5
}
