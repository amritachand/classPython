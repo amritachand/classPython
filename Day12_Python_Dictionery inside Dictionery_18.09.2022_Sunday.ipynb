{
 "cells": [
  {
   "cell_type": "code",
   "execution_count": 4,
   "id": "3e602331",
   "metadata": {},
   "outputs": [
    {
     "ename": "SyntaxError",
     "evalue": "':' expected after dictionary key (3314926093.py, line 2)",
     "output_type": "error",
     "traceback": [
      "\u001b[1;36m  Cell \u001b[1;32mIn [4], line 2\u001b[1;36m\u001b[0m\n\u001b[1;33m    d={1:{'name':'Ram','age: 78','add':'Kathmandu'},\u001b[0m\n\u001b[1;37m                               ^\u001b[0m\n\u001b[1;31mSyntaxError\u001b[0m\u001b[1;31m:\u001b[0m ':' expected after dictionary key\n"
     ]
    }
   ],
   "source": [
    "#dict inside dict\n",
    "d={1:{'name':'Ram','age: 78','add':'Kathmandu'},\n",
    "   2:{'name':'Shyam','age: 78','add':'Bara'},\n",
    "   3:{'name':'Sita','age: 65','add':'Kathmandu'},\n",
    "   4:{'name':'Sabin','age: 35','add':'Kathmandu'}}"
   ]
  },
  {
   "cell_type": "code",
   "execution_count": null,
   "id": "a5c802b7",
   "metadata": {},
   "outputs": [],
   "source": []
  },
  {
   "cell_type": "code",
   "execution_count": 5,
   "id": "e4b64d80",
   "metadata": {},
   "outputs": [
    {
     "name": "stdout",
     "output_type": "stream",
     "text": [
      "Enter n=3\n",
      "Enter name=Ram\n",
      "Enter age=78\n",
      "Enter add=Kathmandu\n",
      "Enter name=Shyam\n",
      "Enter age=98\n",
      "Enter add=Lalitpur\n",
      "Enter name=Hari\n",
      "Enter age=68\n",
      "Enter add=Kathmandu\n",
      "{1: {'name': 'Ram', 'age': 78, 'add': 'Kathmandu'}, 2: {'name': 'Shyam', 'age': 98, 'add': 'Lalitpur'}, 3: {'name': 'Hari', 'age': 68, 'add': 'Kathmandu'}}\n"
     ]
    }
   ],
   "source": [
    "d={}\n",
    "n=int(input(\"Enter n=\"))\n",
    "for i in range(1,n+1):\n",
    "    name=input(\"Enter name=\")\n",
    "    age=int(input(\"Enter age=\"))\n",
    "    add=input(\"Enter add=\")\n",
    "    d[i]={'name':name, 'age':age,'add':add}\n",
    "\n",
    "print(d)\n",
    "            "
   ]
  },
  {
   "cell_type": "code",
   "execution_count": 6,
   "id": "6b635b49",
   "metadata": {},
   "outputs": [
    {
     "name": "stdout",
     "output_type": "stream",
     "text": [
      "{1: {'name': 'Ram', 'age': 78, 'add': 'Kathmandu'}, 2: {'name': 'Shyam', 'age': 98, 'add': 'Lalitpur'}, 3: {'name': 'Hari', 'age': 68, 'add': 'Kathmandu'}}\n"
     ]
    }
   ],
   "source": [
    "print(d)"
   ]
  },
  {
   "cell_type": "code",
   "execution_count": 7,
   "id": "1f5e30d8",
   "metadata": {},
   "outputs": [
    {
     "data": {
      "text/plain": [
       "{1: {'name': 'Ram', 'age': 78, 'add': 'Kathmandu'},\n",
       " 2: {'name': 'Shyam', 'age': 98, 'add': 'Lalitpur'},\n",
       " 3: {'name': 'Hari', 'age': 68, 'add': 'Kathmandu'}}"
      ]
     },
     "execution_count": 7,
     "metadata": {},
     "output_type": "execute_result"
    }
   ],
   "source": [
    "d"
   ]
  },
  {
   "cell_type": "code",
   "execution_count": 8,
   "id": "510e1402",
   "metadata": {},
   "outputs": [
    {
     "data": {
      "text/plain": [
       "{'name': 'Ram', 'age': 78, 'add': 'Kathmandu'}"
      ]
     },
     "execution_count": 8,
     "metadata": {},
     "output_type": "execute_result"
    }
   ],
   "source": [
    "d[1]"
   ]
  },
  {
   "cell_type": "code",
   "execution_count": 9,
   "id": "93af93a2",
   "metadata": {},
   "outputs": [
    {
     "data": {
      "text/plain": [
       "{1: {'name': 'Rama', 'age': 78, 'add': 'Kathmandu'},\n",
       " 2: {'name': 'Shyam', 'age': 98, 'add': 'Lalitpur'},\n",
       " 3: {'name': 'Hari', 'age': 68, 'add': 'Kathmandu'}}"
      ]
     },
     "execution_count": 9,
     "metadata": {},
     "output_type": "execute_result"
    }
   ],
   "source": [
    "d[1]['name']='Rama'\n",
    "d"
   ]
  },
  {
   "cell_type": "code",
   "execution_count": 15,
   "id": "15cc2d89",
   "metadata": {},
   "outputs": [
    {
     "data": {
      "text/plain": [
       "{1: {'name': 'Rama', 'age': 45, 'add': 'Bara'},\n",
       " 2: {'name': 'Sameer', 'age': 75, 'add': 'Lalitpur'},\n",
       " 3: {'name': 'Hari', 'age': 68, 'add': 'Kathmandu'}}"
      ]
     },
     "execution_count": 15,
     "metadata": {},
     "output_type": "execute_result"
    }
   ],
   "source": [
    "d[1]['name']='Rama'\n",
    "d[1]['age']=45\n",
    "d"
   ]
  },
  {
   "cell_type": "code",
   "execution_count": 16,
   "id": "d82a24c6",
   "metadata": {},
   "outputs": [
    {
     "name": "stdout",
     "output_type": "stream",
     "text": [
      "{1: {'name': 'Rama', 'age': 45, 'add': 'Bara'}, 2: {'name': 'Sameer', 'age': 75, 'add': 'Lalitpur'}, 3: {'name': 'Hari', 'age': 68, 'add': 'Kathmandu'}}\n"
     ]
    }
   ],
   "source": [
    "d[1]['name']='Rama'\n",
    "d[1]['age']=45\n",
    "print(d)"
   ]
  },
  {
   "cell_type": "code",
   "execution_count": 17,
   "id": "67333326",
   "metadata": {},
   "outputs": [
    {
     "data": {
      "text/plain": [
       "{1: {'name': 'Rama', 'age': 45, 'add': 'Bara'},\n",
       " 2: {'name': 'Sameer', 'age': 75, 'add': 'Lalitpur'},\n",
       " 3: {'name': 'Hari', 'age': 68, 'add': 'Kathmandu'}}"
      ]
     },
     "execution_count": 17,
     "metadata": {},
     "output_type": "execute_result"
    }
   ],
   "source": [
    "d[1]['name']='Rama'\n",
    "d[1]['age']=45\n",
    "d"
   ]
  },
  {
   "cell_type": "code",
   "execution_count": 18,
   "id": "dc5f6649",
   "metadata": {},
   "outputs": [
    {
     "name": "stdout",
     "output_type": "stream",
     "text": [
      "{1: {'name': 'Rama', 'age': 45, 'add': 'Bara'}, 2: {'name': 'Sameer', 'age': 75, 'add': 'Lalitpur'}, 3: {'name': 'Hari', 'age': 68, 'add': 'Kathmandu'}}\n"
     ]
    }
   ],
   "source": [
    "d[1]['name']='Rama'\n",
    "d[1]['add']='Bara'\n",
    "print(d)"
   ]
  },
  {
   "cell_type": "code",
   "execution_count": 11,
   "id": "128c5f24",
   "metadata": {},
   "outputs": [
    {
     "data": {
      "text/plain": [
       "{1: {'name': 'Rama', 'age': 45, 'add': 'Bara'},\n",
       " 2: {'name': 'Shyam', 'age': 98, 'add': 'Lalitpur'},\n",
       " 3: {'name': 'Hari', 'age': 68, 'add': 'Kathmandu'}}"
      ]
     },
     "execution_count": 11,
     "metadata": {},
     "output_type": "execute_result"
    }
   ],
   "source": [
    "d[1]['name']='Rama'\n",
    "d[1]['add']='Bara'\n",
    "d"
   ]
  },
  {
   "cell_type": "markdown",
   "id": "b333970c",
   "metadata": {},
   "source": [
    "# yesai gari d2 and d3 ko name age ra add change garne H@\\W"
   ]
  },
  {
   "cell_type": "code",
   "execution_count": 12,
   "id": "8422796c",
   "metadata": {},
   "outputs": [
    {
     "data": {
      "text/plain": [
       "{'name': 'Shyam', 'age': 98, 'add': 'Lalitpur'}"
      ]
     },
     "execution_count": 12,
     "metadata": {},
     "output_type": "execute_result"
    }
   ],
   "source": [
    "d[2]"
   ]
  },
  {
   "cell_type": "code",
   "execution_count": 19,
   "id": "0ebf8685",
   "metadata": {},
   "outputs": [
    {
     "name": "stdout",
     "output_type": "stream",
     "text": [
      "{1: {'name': 'Rama', 'age': 45, 'add': 'Bara'}, 2: {'name': 'Sameer', 'age': 75, 'add': 'Lalitpur'}, 3: {'name': 'Hari', 'age': 68, 'add': 'Kathmandu'}}\n"
     ]
    }
   ],
   "source": [
    "d[2]['name']='Sameer'\n",
    "d[2]['age']=75\n",
    "print(d)"
   ]
  },
  {
   "cell_type": "code",
   "execution_count": 14,
   "id": "0b66c120",
   "metadata": {},
   "outputs": [
    {
     "data": {
      "text/plain": [
       "{1: {'name': 'Rama', 'age': 45, 'add': 'Bara'},\n",
       " 2: {'name': 'Sameer', 'age': 75, 'add': 'Lalitpur'},\n",
       " 3: {'name': 'Hari', 'age': 68, 'add': 'Kathmandu'}}"
      ]
     },
     "execution_count": 14,
     "metadata": {},
     "output_type": "execute_result"
    }
   ],
   "source": [
    "d[2]['name']='Sameer'\n",
    "d[2]['age']=75\n",
    "d"
   ]
  },
  {
   "cell_type": "code",
   "execution_count": 20,
   "id": "821b869b",
   "metadata": {},
   "outputs": [
    {
     "name": "stdout",
     "output_type": "stream",
     "text": [
      "{1: {'name': 'Rama', 'age': 45, 'add': 'Bara'}, 2: {'name': 'Sameer', 'age': 75, 'add': 'Mahendranagar'}, 3: {'name': 'Hari', 'age': 68, 'add': 'Kathmandu'}}\n"
     ]
    }
   ],
   "source": [
    "d[2]['name']='Sameer'\n",
    "d[2]['add']='Mahendranagar'\n",
    "print(d)"
   ]
  },
  {
   "cell_type": "code",
   "execution_count": 21,
   "id": "7b3ea262",
   "metadata": {},
   "outputs": [
    {
     "data": {
      "text/plain": [
       "{1: {'name': 'Rama', 'age': 45, 'add': 'Bara'},\n",
       " 2: {'name': 'Sameer', 'age': 75, 'add': 'Mahendranagar'},\n",
       " 3: {'name': 'Hari', 'age': 68, 'add': 'Kathmandu'}}"
      ]
     },
     "execution_count": 21,
     "metadata": {},
     "output_type": "execute_result"
    }
   ],
   "source": [
    "d[2]['name']='Sameer'\n",
    "d[2]['add']='Mahendranagar'\n",
    "d"
   ]
  },
  {
   "cell_type": "code",
   "execution_count": 22,
   "id": "b8932690",
   "metadata": {},
   "outputs": [
    {
     "data": {
      "text/plain": [
       "{'name': 'Hari', 'age': 68, 'add': 'Kathmandu'}"
      ]
     },
     "execution_count": 22,
     "metadata": {},
     "output_type": "execute_result"
    }
   ],
   "source": [
    "d[3]"
   ]
  },
  {
   "cell_type": "code",
   "execution_count": 23,
   "id": "5d79c0d2",
   "metadata": {},
   "outputs": [
    {
     "name": "stdout",
     "output_type": "stream",
     "text": [
      "{1: {'name': 'Rama', 'age': 45, 'add': 'Bara'}, 2: {'name': 'Sameer', 'age': 75, 'add': 'Mahendranagar'}, 3: {'name': 'Amrita', 'age': 35, 'add': 'Kathmandu'}}\n"
     ]
    }
   ],
   "source": [
    "d[3]['name']='Amrita'\n",
    "d[3]['age']=35\n",
    "print(d)"
   ]
  },
  {
   "cell_type": "code",
   "execution_count": 24,
   "id": "b2fb7eea",
   "metadata": {},
   "outputs": [
    {
     "data": {
      "text/plain": [
       "{1: {'name': 'Rama', 'age': 45, 'add': 'Bara'},\n",
       " 2: {'name': 'Sameer', 'age': 75, 'add': 'Mahendranagar'},\n",
       " 3: {'name': 'Amrita', 'age': 35, 'add': 'Kathmandu'}}"
      ]
     },
     "execution_count": 24,
     "metadata": {},
     "output_type": "execute_result"
    }
   ],
   "source": [
    "d[3]['name']='Amrita'\n",
    "d[3]['age']=35\n",
    "d"
   ]
  },
  {
   "cell_type": "code",
   "execution_count": 25,
   "id": "bcb85031",
   "metadata": {},
   "outputs": [
    {
     "name": "stdout",
     "output_type": "stream",
     "text": [
      "{1: {'name': 'Rama', 'age': 45, 'add': 'Bara'}, 2: {'name': 'Sameer', 'age': 75, 'add': 'Mahendranagar'}, 3: {'name': 'Amrita', 'age': 35, 'add': 'Baitadi'}}\n"
     ]
    }
   ],
   "source": [
    "d[3]['name']='Amrita'\n",
    "d[3]['add']='Baitadi'\n",
    "print(d)"
   ]
  },
  {
   "cell_type": "code",
   "execution_count": 26,
   "id": "42a2f4ee",
   "metadata": {},
   "outputs": [
    {
     "data": {
      "text/plain": [
       "{1: {'name': 'Rama', 'age': 45, 'add': 'Bara'},\n",
       " 2: {'name': 'Sameer', 'age': 75, 'add': 'Mahendranagar'},\n",
       " 3: {'name': 'Amrita', 'age': 35, 'add': 'Baitadi'}}"
      ]
     },
     "execution_count": 26,
     "metadata": {},
     "output_type": "execute_result"
    }
   ],
   "source": [
    "d[3]['name']='Amrita'\n",
    "d[3]['add']='Baitadi'\n",
    "d"
   ]
  },
  {
   "cell_type": "code",
   "execution_count": null,
   "id": "252aebd8",
   "metadata": {},
   "outputs": [],
   "source": []
  }
 ],
 "metadata": {
  "kernelspec": {
   "display_name": "Python 3 (ipykernel)",
   "language": "python",
   "name": "python3"
  },
  "language_info": {
   "codemirror_mode": {
    "name": "ipython",
    "version": 3
   },
   "file_extension": ".py",
   "mimetype": "text/x-python",
   "name": "python",
   "nbconvert_exporter": "python",
   "pygments_lexer": "ipython3",
   "version": "3.10.7"
  }
 },
 "nbformat": 4,
 "nbformat_minor": 5
}
