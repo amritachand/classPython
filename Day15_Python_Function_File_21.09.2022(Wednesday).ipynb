{
 "cells": [
  {
   "cell_type": "markdown",
   "id": "71a0d327",
   "metadata": {},
   "source": [
    "### file handling"
   ]
  },
  {
   "cell_type": "code",
   "execution_count": null,
   "id": "66c02438",
   "metadata": {},
   "outputs": [],
   "source": [
    "# file=open('<file_name>','<mode>')\n",
    "# file.close()\n",
    "\n",
    "# with open('<file>', '<mode>') as file:\n",
    "#     <operation>"
   ]
  },
  {
   "cell_type": "code",
   "execution_count": null,
   "id": "1fb838c1",
   "metadata": {},
   "outputs": [],
   "source": [
    "# modes\n",
    "# r->read\n",
    "# x->create\n",
    "# w->write\n",
    "# a->append      # already bhairakheko data ma kehi add garne"
   ]
  },
  {
   "cell_type": "markdown",
   "id": "99a83ce2",
   "metadata": {},
   "source": [
    "### read mode "
   ]
  },
  {
   "cell_type": "code",
   "execution_count": 2,
   "id": "8642ca31",
   "metadata": {},
   "outputs": [
    {
     "ename": "FileExistsError",
     "evalue": "[Errno 17] File exists: 'data.txt'",
     "output_type": "error",
     "traceback": [
      "\u001b[1;31m---------------------------------------------------------------------------\u001b[0m",
      "\u001b[1;31mFileExistsError\u001b[0m                           Traceback (most recent call last)",
      "Cell \u001b[1;32mIn [2], line 1\u001b[0m\n\u001b[1;32m----> 1\u001b[0m file\u001b[38;5;241m=\u001b[39m\u001b[38;5;28;43mopen\u001b[39;49m\u001b[43m(\u001b[49m\u001b[38;5;124;43m'\u001b[39;49m\u001b[38;5;124;43mdata.txt\u001b[39;49m\u001b[38;5;124;43m'\u001b[39;49m\u001b[43m,\u001b[49m\u001b[43m \u001b[49m\u001b[38;5;124;43m'\u001b[39;49m\u001b[38;5;124;43mx\u001b[39;49m\u001b[38;5;124;43m'\u001b[39;49m\u001b[43m)\u001b[49m\n\u001b[0;32m      2\u001b[0m file\u001b[38;5;241m.\u001b[39mclose()\n",
      "\u001b[1;31mFileExistsError\u001b[0m: [Errno 17] File exists: 'data.txt'"
     ]
    }
   ],
   "source": [
    "file=open('data.txt', 'x')\n",
    "file.close()"
   ]
  },
  {
   "cell_type": "code",
   "execution_count": 3,
   "id": "ee823ba4",
   "metadata": {},
   "outputs": [
    {
     "name": "stdout",
     "output_type": "stream",
     "text": [
      "File exists:'data.txt'\n"
     ]
    }
   ],
   "source": [
    "try:\n",
    "    file=open('data.txt', 'x')\n",
    "    file.close()\n",
    "except:\n",
    "    print(\"File exists:'data.txt'\")"
   ]
  },
  {
   "cell_type": "code",
   "execution_count": 11,
   "id": "cae52731",
   "metadata": {},
   "outputs": [
    {
     "name": "stdout",
     "output_type": "stream",
     "text": [
      "1. Hello World\n",
      "2. Hello World\n",
      "3. Hello World\n",
      "4. Hello World\n",
      "5. Hello World\n",
      "6. Hello World\n"
     ]
    }
   ],
   "source": [
    "file=open('data.txt', 'r')\n",
    "x= file.read()\n",
    "print(x)\n",
    "file.close()"
   ]
  },
  {
   "cell_type": "code",
   "execution_count": 15,
   "id": "e19ebb34",
   "metadata": {},
   "outputs": [
    {
     "name": "stdout",
     "output_type": "stream",
     "text": [
      "<class 'str'>\n",
      "Apple 300 3 300\n",
      "Banana 100 2 200\n"
     ]
    }
   ],
   "source": [
    "file=open('data.txt', 'r')\n",
    "x= file.read()\n",
    "print(type(x))\n",
    "print(x)\n",
    "file.close()"
   ]
  },
  {
   "cell_type": "code",
   "execution_count": 16,
   "id": "87709cf5",
   "metadata": {},
   "outputs": [
    {
     "name": "stdout",
     "output_type": "stream",
     "text": [
      "['Apple 300 3 300', 'Banana 100 2 200']\n",
      "<class 'str'>\n",
      "Apple 300 3 300\n",
      "Banana 100 2 200\n"
     ]
    }
   ],
   "source": [
    "file=open('data.txt', 'r')\n",
    "x= file.read()\n",
    "print(x.split('\\n'))\n",
    "print(type(x))\n",
    "print(x)\n",
    "file.close()"
   ]
  },
  {
   "cell_type": "code",
   "execution_count": 17,
   "id": "45b2f0f1",
   "metadata": {},
   "outputs": [
    {
     "data": {
      "text/plain": [
       "'Apple 300 3 300\\nBanana 100 2 200'"
      ]
     },
     "execution_count": 17,
     "metadata": {},
     "output_type": "execute_result"
    }
   ],
   "source": [
    "x"
   ]
  },
  {
   "cell_type": "code",
   "execution_count": 19,
   "id": "f8c795b5",
   "metadata": {},
   "outputs": [
    {
     "data": {
      "text/plain": [
       "[['Apple', '300', '3', '300'], ['Banana', '100', '2', '200']]"
      ]
     },
     "execution_count": 19,
     "metadata": {},
     "output_type": "execute_result"
    }
   ],
   "source": [
    "all_data=[]\n",
    "file=open('data.txt','r')\n",
    "x=file.read().split('\\n')\n",
    "for i in x:\n",
    "    all_data.append(i.split())\n",
    "file.close()\n",
    "all_data"
   ]
  },
  {
   "cell_type": "code",
   "execution_count": 25,
   "id": "5485dcbc",
   "metadata": {},
   "outputs": [
    {
     "data": {
      "text/plain": [
       "[['Apple', 300, 3, 300], ['Banana', 100, 2, 200]]"
      ]
     },
     "execution_count": 25,
     "metadata": {},
     "output_type": "execute_result"
    }
   ],
   "source": [
    "all_data=[]\n",
    "file=open('data.txt','r')\n",
    "x=file.read().split('\\n')\n",
    "for i in x:\n",
    "    y=i.split()\n",
    "    y[1]=int(y[1])\n",
    "    y[2]=int(y[2])\n",
    "    y[3]=int(y[3])\n",
    "    all_data.append(y)\n",
    "file.close()\n",
    "all_data"
   ]
  },
  {
   "cell_type": "markdown",
   "id": "460dc90d",
   "metadata": {},
   "source": [
    "### how to work in write mode (with open)"
   ]
  },
  {
   "cell_type": "code",
   "execution_count": 29,
   "id": "7e342669",
   "metadata": {},
   "outputs": [],
   "source": [
    "with open ('data. txt','w') as file:\n",
    "    file.write('Hello World')"
   ]
  },
  {
   "cell_type": "code",
   "execution_count": 1,
   "id": "c2dabc84",
   "metadata": {},
   "outputs": [
    {
     "name": "stdout",
     "output_type": "stream",
     "text": [
      "Enter n=2\n",
      "Enter name=Apple\n",
      "Enter product price=200\n",
      "Enter quantity=3\n",
      "Enter name=Banana\n",
      "Enter product price=100\n",
      "Enter quantity=4\n",
      "Apple 200 3 600\n",
      "Banana 100 4 400\n",
      "\n"
     ]
    }
   ],
   "source": [
    "s=str()\n",
    "i=0\n",
    "all_total=0\n",
    "n=int(input(\"Enter n=\"))\n",
    "while i<n:\n",
    "    product=input(\"Enter name=\")\n",
    "    price=int(input(\"Enter product price=\"))\n",
    "    quantity=int(input(\"Enter quantity=\"))\n",
    "    total=price*quantity\n",
    "    all_total=all_total+total\n",
    "    s=s+f\"{product} {price} {quantity} {total}\\n\"\n",
    "    i=i+1\n",
    "print(s)\n",
    "\n",
    "with open('bill.txt', 'w') as file:\n",
    "    file.write(s)"
   ]
  },
  {
   "cell_type": "code",
   "execution_count": 4,
   "id": "32ec092c",
   "metadata": {},
   "outputs": [
    {
     "name": "stdout",
     "output_type": "stream",
     "text": [
      "Enter n=2\n",
      "Enter name=Apple\n",
      "Enter product price=200\n",
      "Enter quantity=3\n",
      "Enter name=Banana\n",
      "Enter product price=200\n",
      "Enter quantity=1\n",
      "Apple, 200, 3, 600\n",
      "Banana, 200, 1, 200\n",
      "\n"
     ]
    }
   ],
   "source": [
    "s=str()\n",
    "i=0\n",
    "all_total=0\n",
    "n=int(input(\"Enter n=\"))\n",
    "while i<n:\n",
    "    product=input(\"Enter name=\")\n",
    "    price=int(input(\"Enter product price=\"))\n",
    "    quantity=int(input(\"Enter quantity=\"))\n",
    "    total=price*quantity\n",
    "    all_total=all_total+total\n",
    "    s=s+f\"{product}, {price}, {quantity}, {total}\\n\"\n",
    "    i=i+1\n",
    "print(s)\n",
    "\n",
    "with open('bill.csv', 'w') as file:\n",
    "    file.write('Name,Price,Quantity,Total\\n')\n",
    "    file.write(s)"
   ]
  },
  {
   "cell_type": "code",
   "execution_count": null,
   "id": "d0e6fd47",
   "metadata": {},
   "outputs": [],
   "source": [
    "!pip install pandas"
   ]
  },
  {
   "cell_type": "code",
   "execution_count": 5,
   "id": "11733046",
   "metadata": {},
   "outputs": [
    {
     "data": {
      "text/html": [
       "<div>\n",
       "<style scoped>\n",
       "    .dataframe tbody tr th:only-of-type {\n",
       "        vertical-align: middle;\n",
       "    }\n",
       "\n",
       "    .dataframe tbody tr th {\n",
       "        vertical-align: top;\n",
       "    }\n",
       "\n",
       "    .dataframe thead th {\n",
       "        text-align: right;\n",
       "    }\n",
       "</style>\n",
       "<table border=\"1\" class=\"dataframe\">\n",
       "  <thead>\n",
       "    <tr style=\"text-align: right;\">\n",
       "      <th></th>\n",
       "      <th>Name</th>\n",
       "      <th>Price</th>\n",
       "      <th>Quantity</th>\n",
       "      <th>Total</th>\n",
       "    </tr>\n",
       "  </thead>\n",
       "  <tbody>\n",
       "    <tr>\n",
       "      <th>0</th>\n",
       "      <td>Apple</td>\n",
       "      <td>200</td>\n",
       "      <td>3</td>\n",
       "      <td>600</td>\n",
       "    </tr>\n",
       "    <tr>\n",
       "      <th>1</th>\n",
       "      <td>Banana</td>\n",
       "      <td>200</td>\n",
       "      <td>1</td>\n",
       "      <td>200</td>\n",
       "    </tr>\n",
       "  </tbody>\n",
       "</table>\n",
       "</div>"
      ],
      "text/plain": [
       "     Name  Price  Quantity  Total\n",
       "0   Apple    200         3    600\n",
       "1  Banana    200         1    200"
      ]
     },
     "execution_count": 5,
     "metadata": {},
     "output_type": "execute_result"
    }
   ],
   "source": [
    "import pandas as pd\n",
    "df=pd.read_csv('bill.csv')\n",
    "df"
   ]
  },
  {
   "cell_type": "code",
   "execution_count": 3,
   "id": "4916bc5f",
   "metadata": {},
   "outputs": [
    {
     "data": {
      "text/plain": [
       "'F:\\\\Python_6.30-8am_Aayush Adhikari sir'"
      ]
     },
     "execution_count": 3,
     "metadata": {},
     "output_type": "execute_result"
    }
   ],
   "source": [
    "pwd"
   ]
  },
  {
   "cell_type": "code",
   "execution_count": null,
   "id": "b789a0c5",
   "metadata": {},
   "outputs": [],
   "source": []
  },
  {
   "cell_type": "code",
   "execution_count": null,
   "id": "2b87f2b7",
   "metadata": {},
   "outputs": [],
   "source": []
  }
 ],
 "metadata": {
  "kernelspec": {
   "display_name": "Python 3 (ipykernel)",
   "language": "python",
   "name": "python3"
  },
  "language_info": {
   "codemirror_mode": {
    "name": "ipython",
    "version": 3
   },
   "file_extension": ".py",
   "mimetype": "text/x-python",
   "name": "python",
   "nbconvert_exporter": "python",
   "pygments_lexer": "ipython3",
   "version": "3.10.7"
  }
 },
 "nbformat": 4,
 "nbformat_minor": 5
}
