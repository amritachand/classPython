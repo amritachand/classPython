{
 "cells": [
  {
   "cell_type": "markdown",
   "id": "f1d2df0d",
   "metadata": {},
   "source": [
    "# Python Basic (Part -I) - Exercises, Practice, Solution"
   ]
  },
  {
   "cell_type": "code",
   "execution_count": null,
   "id": "32b83a29",
   "metadata": {},
   "outputs": [],
   "source": [
    "https://www.w3resource.com/python-exercises/python-basic-exercises.php"
   ]
  },
  {
   "cell_type": "markdown",
   "id": "d7cd12d8",
   "metadata": {},
   "source": [
    "print(\"Twinkle, twinkle, little star,\")\n",
    "print(\" How I wonder what you are!\") \n",
    "print(\"  Up above the world so high\")\n",
    "print(\"  Like a diamond in the sky.\") \n",
    "print(\"Twinkle, twinkle, little star,\")\n",
    "print( \" How I wonder what you are\")"
   ]
  },
  {
   "cell_type": "code",
   "execution_count": 6,
   "id": "24c082f1",
   "metadata": {},
   "outputs": [
    {
     "name": "stdout",
     "output_type": "stream",
     "text": [
      "3.7994000000000008\n"
     ]
    }
   ],
   "source": [
    "r=1.1\n",
    "area=3.14*(r**2)\n",
    "print(area)"
   ]
  },
  {
   "cell_type": "code",
   "execution_count": 3,
   "id": "2f03a063",
   "metadata": {},
   "outputs": [
    {
     "name": "stdout",
     "output_type": "stream",
     "text": [
      "Your first nameRam\n",
      "Your last nameSharma\n",
      "Hello Sharma Ram\n"
     ]
    }
   ],
   "source": [
    "fname=input('Your first name')\n",
    "lname=input('Your last name')\n",
    "print('Hello '+lname+' '+fname)"
   ]
  },
  {
   "cell_type": "code",
   "execution_count": 5,
   "id": "2434a778",
   "metadata": {},
   "outputs": [
    {
     "name": "stdout",
     "output_type": "stream",
     "text": [
      "Enter any number: 5\n",
      "120\n"
     ]
    }
   ],
   "source": [
    "n = int(input(\"Enter any number: \"))\n",
    "fact = 1\n",
    "for i in range(1 , n+1):\n",
    "    fact = fact * i\n",
    "\n",
    "print(fact)"
   ]
  },
  {
   "cell_type": "code",
   "execution_count": null,
   "id": "8d21f702",
   "metadata": {},
   "outputs": [],
   "source": []
  }
 ],
 "metadata": {
  "kernelspec": {
   "display_name": "Python 3 (ipykernel)",
   "language": "python",
   "name": "python3"
  },
  "language_info": {
   "codemirror_mode": {
    "name": "ipython",
    "version": 3
   },
   "file_extension": ".py",
   "mimetype": "text/x-python",
   "name": "python",
   "nbconvert_exporter": "python",
   "pygments_lexer": "ipython3",
   "version": "3.10.7"
  }
 },
 "nbformat": 4,
 "nbformat_minor": 5
}
