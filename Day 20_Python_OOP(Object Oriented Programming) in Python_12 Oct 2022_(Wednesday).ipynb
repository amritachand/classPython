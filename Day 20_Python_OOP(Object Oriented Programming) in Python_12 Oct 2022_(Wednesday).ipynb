{
 "cells": [
  {
   "cell_type": "markdown",
   "id": "7510b2b5",
   "metadata": {},
   "source": [
    "### Class, Object,Methods\n",
    "\n",
    "Class\"\n",
    "* A class is a blueprint for the object\n",
    "\n",
    "Class Python:\n",
    "* Pass\n",
    "\n",
    "Object:\n",
    "\n",
    "An Object (Instance) is an instantiation of a class. When class is defined, only the description for the object is defined. Therefore, no memory or storage is allocated.\n",
    "\n",
    "Methods:\n",
    "Methods are functions defined inside the body of a class. They are used to define\n",
    "\n",
    "    "
   ]
  },
  {
   "cell_type": "code",
   "execution_count": 1,
   "id": "98fb46f3",
   "metadata": {},
   "outputs": [
    {
     "name": "stdout",
     "output_type": "stream",
     "text": [
      "Hello World\n"
     ]
    }
   ],
   "source": [
    "class Hello:\n",
    "    print(\"Hello World\")"
   ]
  },
  {
   "cell_type": "code",
   "execution_count": 3,
   "id": "7f754b2e",
   "metadata": {},
   "outputs": [
    {
     "name": "stdout",
     "output_type": "stream",
     "text": [
      "Hello World\n"
     ]
    },
    {
     "data": {
      "text/plain": [
       "<__main__.Hello at 0x1c79c68fc40>"
      ]
     },
     "execution_count": 3,
     "metadata": {},
     "output_type": "execute_result"
    }
   ],
   "source": [
    "class Hello:\n",
    "    print(\"Hello World\")\n",
    "        \n",
    "obj=Hello()\n",
    "obj"
   ]
  },
  {
   "cell_type": "markdown",
   "id": "9283a7d0",
   "metadata": {},
   "source": [
    "### def hello ()without (self) & @ staticmethod narakhda error aaucha"
   ]
  },
  {
   "cell_type": "code",
   "execution_count": 4,
   "id": "44417520",
   "metadata": {},
   "outputs": [
    {
     "ename": "TypeError",
     "evalue": "Hello.hello() takes 0 positional arguments but 1 was given",
     "output_type": "error",
     "traceback": [
      "\u001b[1;31m---------------------------------------------------------------------------\u001b[0m",
      "\u001b[1;31mTypeError\u001b[0m                                 Traceback (most recent call last)",
      "Cell \u001b[1;32mIn [4], line 6\u001b[0m\n\u001b[0;32m      3\u001b[0m         \u001b[38;5;28mprint\u001b[39m(\u001b[38;5;124m\"\u001b[39m\u001b[38;5;124mHello World\u001b[39m\u001b[38;5;124m\"\u001b[39m)\n\u001b[0;32m      5\u001b[0m obj\u001b[38;5;241m=\u001b[39mHello()\n\u001b[1;32m----> 6\u001b[0m \u001b[43mobj\u001b[49m\u001b[38;5;241;43m.\u001b[39;49m\u001b[43mhello\u001b[49m\u001b[43m(\u001b[49m\u001b[43m)\u001b[49m\n",
      "\u001b[1;31mTypeError\u001b[0m: Hello.hello() takes 0 positional arguments but 1 was given"
     ]
    }
   ],
   "source": [
    "class Hello:\n",
    "    def hello():\n",
    "        print(\"Hello World\")\n",
    "    \n",
    "obj=Hello()\n",
    "obj.hello()"
   ]
  },
  {
   "cell_type": "markdown",
   "id": "79d55c19",
   "metadata": {},
   "source": [
    "### def hello(self) rakhera /No error"
   ]
  },
  {
   "cell_type": "code",
   "execution_count": 5,
   "id": "aa762dec",
   "metadata": {},
   "outputs": [
    {
     "name": "stdout",
     "output_type": "stream",
     "text": [
      "Hello World\n"
     ]
    }
   ],
   "source": [
    "class Hello:                          #class\n",
    "    def hello(self):                  #method\n",
    "        print(\"Hello World\")\n",
    "    \n",
    "obj=Hello()                           #object\n",
    "obj.hello()"
   ]
  },
  {
   "cell_type": "markdown",
   "id": "e724627a",
   "metadata": {},
   "source": [
    "### @staticmethod(as a decorator)"
   ]
  },
  {
   "cell_type": "code",
   "execution_count": 7,
   "id": "e1b858e3",
   "metadata": {},
   "outputs": [
    {
     "name": "stdout",
     "output_type": "stream",
     "text": [
      "Hello World\n"
     ]
    }
   ],
   "source": [
    "class Hello:\n",
    "    @staticmethod\n",
    "    def hello():\n",
    "        print(\"Hello World\")\n",
    "    \n",
    "obj=Hello()\n",
    "obj.hello()"
   ]
  },
  {
   "cell_type": "markdown",
   "id": "64191010",
   "metadata": {},
   "source": [
    "### Self parameter\n",
    "*It is "
   ]
  },
  {
   "cell_type": "code",
   "execution_count": 2,
   "id": "e1017c94",
   "metadata": {},
   "outputs": [
    {
     "name": "stdout",
     "output_type": "stream",
     "text": [
      "50\n"
     ]
    }
   ],
   "source": [
    "class Area:\n",
    "    def cal(self,l,b):\n",
    "        print(l*b)\n",
    "    \n",
    "obj=Area()\n",
    "obj.cal(10,5)"
   ]
  },
  {
   "cell_type": "code",
   "execution_count": 10,
   "id": "e1a41e89",
   "metadata": {},
   "outputs": [
    {
     "name": "stdout",
     "output_type": "stream",
     "text": [
      "50\n"
     ]
    }
   ],
   "source": [
    "class Area:\n",
    "    @staticmethod\n",
    "    def cal(l,b):\n",
    "        print(l*b)\n",
    "    \n",
    "obj=Area()\n",
    "obj.cal(10,5)"
   ]
  },
  {
   "cell_type": "code",
   "execution_count": 12,
   "id": "1b7e07c3",
   "metadata": {},
   "outputs": [
    {
     "name": "stdout",
     "output_type": "stream",
     "text": [
      "50\n",
      "100\n"
     ]
    }
   ],
   "source": [
    "class Cal:\n",
    "    def area(self,l,b):\n",
    "        print(l*b)\n",
    "    def volume(self,l,b,h):\n",
    "        print(l*b*h)\n",
    "    \n",
    "obj=Cal()\n",
    "obj.area(10,5)\n",
    "obj.volume(10,5,2)"
   ]
  },
  {
   "cell_type": "code",
   "execution_count": 14,
   "id": "7eec6439",
   "metadata": {},
   "outputs": [
    {
     "name": "stdout",
     "output_type": "stream",
     "text": [
      "50\n",
      "100\n"
     ]
    }
   ],
   "source": [
    "class Area:\n",
    "    def area(self,l,b):\n",
    "        print(l*b)\n",
    "        \n",
    "class Volume:\n",
    "    def volume(self,l,b,h):\n",
    "        print(l*b*h)\n",
    "        \n",
    "obj=Area()\n",
    "obj.area(10,5)\n",
    "obj1=Volume()\n",
    "obj1.volume(10,5,2)"
   ]
  },
  {
   "cell_type": "markdown",
   "id": "0cc09027",
   "metadata": {},
   "source": [
    "### _init_() Function \n",
    "(Value Initialize)\n",
    "\n",
    "self use gareko"
   ]
  },
  {
   "cell_type": "code",
   "execution_count": 18,
   "id": "c715f4e6",
   "metadata": {},
   "outputs": [
    {
     "name": "stdout",
     "output_type": "stream",
     "text": [
      "50\n",
      "100\n"
     ]
    }
   ],
   "source": [
    "class Cal:\n",
    "    def __init__(self,l,b,h):\n",
    "        self.l=l\n",
    "        self.b=b\n",
    "        self.h=h\n",
    "        \n",
    "    def area(self):\n",
    "        print(self.l*self.b)\n",
    "    def volume(self):\n",
    "        print(self.l*self.b*self.h)\n",
    "    \n",
    "obj=Cal(10,5,2)\n",
    "obj.area()\n",
    "obj.volume()"
   ]
  },
  {
   "cell_type": "markdown",
   "id": "f2f2d66b",
   "metadata": {},
   "source": [
    "### this use gareko"
   ]
  },
  {
   "cell_type": "code",
   "execution_count": 20,
   "id": "ea5b1fd1",
   "metadata": {},
   "outputs": [
    {
     "name": "stdout",
     "output_type": "stream",
     "text": [
      "50\n",
      "100\n"
     ]
    }
   ],
   "source": [
    "class Cal:\n",
    "    def __init__(self,l,b,h):\n",
    "        self.l=l\n",
    "        self.b=b\n",
    "        self.h=h\n",
    "        \n",
    "    def area(this):\n",
    "        print(this.l*this.b)\n",
    "    def volume(this):\n",
    "        print(this.l*this.b*this.h)\n",
    "    \n",
    "obj=Cal(10,5,2)\n",
    "obj.area()\n",
    "obj.volume()"
   ]
  },
  {
   "cell_type": "markdown",
   "id": "d2a98a97",
   "metadata": {},
   "source": [
    "### obj print out garda"
   ]
  },
  {
   "cell_type": "code",
   "execution_count": 22,
   "id": "0adcabdf",
   "metadata": {},
   "outputs": [
    {
     "name": "stdout",
     "output_type": "stream",
     "text": [
      "50\n",
      "100\n",
      "10 5 2\n"
     ]
    }
   ],
   "source": [
    "class Cal:\n",
    "    def __init__(self,l,b,h):\n",
    "        self.l=l\n",
    "        self.b=b\n",
    "        self.h=h\n",
    "        \n",
    "    def area(this):\n",
    "        print(this.l*this.b)\n",
    "    def volume(this):\n",
    "        print(this.l*this.b*this.h)\n",
    "    \n",
    "obj=Cal(10,5,2)\n",
    "obj.area()\n",
    "obj.volume()\n",
    "print(obj.l,obj.b, obj.h)"
   ]
  }
 ],
 "metadata": {
  "kernelspec": {
   "display_name": "Python 3 (ipykernel)",
   "language": "python",
   "name": "python3"
  },
  "language_info": {
   "codemirror_mode": {
    "name": "ipython",
    "version": 3
   },
   "file_extension": ".py",
   "mimetype": "text/x-python",
   "name": "python",
   "nbconvert_exporter": "python",
   "pygments_lexer": "ipython3",
   "version": "3.10.7"
  }
 },
 "nbformat": 4,
 "nbformat_minor": 5
}
