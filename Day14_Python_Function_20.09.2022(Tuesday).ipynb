{
 "cells": [
  {
   "cell_type": "markdown",
   "id": "e2be14c2",
   "metadata": {},
   "source": [
    "### recursive function, math function, labmda function, filter function, map function"
   ]
  },
  {
   "cell_type": "code",
   "execution_count": 1,
   "id": "1b368f41",
   "metadata": {},
   "outputs": [],
   "source": [
    "# recursive, math, Labmda function, filter, map"
   ]
  },
  {
   "cell_type": "markdown",
   "id": "0fa1a5c9",
   "metadata": {},
   "source": [
    "### recursive function"
   ]
  },
  {
   "cell_type": "code",
   "execution_count": 2,
   "id": "29b57ff1",
   "metadata": {},
   "outputs": [
    {
     "name": "stdout",
     "output_type": "stream",
     "text": [
      "Hello World\n"
     ]
    }
   ],
   "source": [
    "#recursive\n",
    "def hello():\n",
    "    print(\"Hello World\")\n",
    "       \n",
    "hello()"
   ]
  },
  {
   "cell_type": "code",
   "execution_count": null,
   "id": "7ea42a02",
   "metadata": {},
   "outputs": [],
   "source": [
    "#recursive\n",
    "def hello():\n",
    "    print(\"Hello World\")\n",
    "    hello()\n",
    "    \n",
    "hello()"
   ]
  },
  {
   "cell_type": "code",
   "execution_count": 2,
   "id": "05acb1c1",
   "metadata": {},
   "outputs": [
    {
     "name": "stdout",
     "output_type": "stream",
     "text": [
      "Hello World\n",
      "Enter y for more print=y\n",
      "Hello World\n",
      "Enter y for more print=y\n",
      "Hello World\n",
      "Enter y for more print=Namaskar\n"
     ]
    }
   ],
   "source": [
    "def hello():\n",
    "    print(\"Hello World\")\n",
    "    x=input(\"Enter y for more print=\")\n",
    "    if x=='y':\n",
    "        hello()\n",
    "        \n",
    "hello()"
   ]
  },
  {
   "cell_type": "code",
   "execution_count": 9,
   "id": "b0e46dd9",
   "metadata": {},
   "outputs": [
    {
     "name": "stdout",
     "output_type": "stream",
     "text": [
      "Enter p=1000\n",
      "Enter t=3\n",
      "Enter r=4\n",
      "120.0\n",
      "Enter y for more cal23434\n"
     ]
    }
   ],
   "source": [
    "def cal():\n",
    "    p=int(input(\"Enter p=\"))\n",
    "    t=float(input(\"Enter t=\"))\n",
    "    r=float(input(\"Enter r=\"))\n",
    "    i=p*t*r/100\n",
    "    print(i)\n",
    "    x=input(\"Enter y for more cal\")\n",
    "    if x=='y':\n",
    "        cal()\n",
    "    \n",
    "            \n",
    "cal()"
   ]
  },
  {
   "cell_type": "markdown",
   "id": "16b62efd",
   "metadata": {},
   "source": [
    "### Math function (docspython.org/3/library/math.html"
   ]
  },
  {
   "cell_type": "code",
   "execution_count": null,
   "id": "91fb1432",
   "metadata": {},
   "outputs": [],
   "source": [
    "# math function"
   ]
  },
  {
   "cell_type": "code",
   "execution_count": 10,
   "id": "9e132080",
   "metadata": {},
   "outputs": [
    {
     "data": {
      "text/plain": [
       "120"
      ]
     },
     "execution_count": 10,
     "metadata": {},
     "output_type": "execute_result"
    }
   ],
   "source": [
    "import math as m\n",
    "n=5\n",
    "m.factorial(n)"
   ]
  },
  {
   "cell_type": "markdown",
   "id": "c0a7305e",
   "metadata": {},
   "source": [
    "### circle ko area nikalunu paryo bhane below process"
   ]
  },
  {
   "cell_type": "code",
   "execution_count": 11,
   "id": "9d2273f6",
   "metadata": {},
   "outputs": [
    {
     "name": "stdout",
     "output_type": "stream",
     "text": [
      "153.93804002589985\n"
     ]
    }
   ],
   "source": [
    "import math as m\n",
    "r=7\n",
    "a=m.pi*m.pow(r,2)\n",
    "print(a)"
   ]
  },
  {
   "cell_type": "markdown",
   "id": "9c0d1cca",
   "metadata": {},
   "source": [
    "### angle haruma kaam garnu paryo bhane below process"
   ]
  },
  {
   "cell_type": "code",
   "execution_count": 14,
   "id": "ae47b2bb",
   "metadata": {},
   "outputs": [
    {
     "data": {
      "text/plain": [
       "1.0"
      ]
     },
     "execution_count": 14,
     "metadata": {},
     "output_type": "execute_result"
    }
   ],
   "source": [
    "import math as m\n",
    "m.sin(m.pi/2)"
   ]
  },
  {
   "cell_type": "code",
   "execution_count": 17,
   "id": "9c871648",
   "metadata": {},
   "outputs": [
    {
     "data": {
      "text/plain": [
       "1.0"
      ]
     },
     "execution_count": 17,
     "metadata": {},
     "output_type": "execute_result"
    }
   ],
   "source": [
    "import math as m\n",
    "x=m.sin(m.pi/2)\n",
    "y=m.cos(m.pi/2)\n",
    "m.pow(x,2)+m.pow(y,2)"
   ]
  },
  {
   "cell_type": "markdown",
   "id": "dca3025e",
   "metadata": {},
   "source": [
    "### Python Lambda function"
   ]
  },
  {
   "cell_type": "code",
   "execution_count": 25,
   "id": "629fc81e",
   "metadata": {},
   "outputs": [
    {
     "data": {
      "text/plain": [
       "4"
      ]
     },
     "execution_count": 25,
     "metadata": {},
     "output_type": "execute_result"
    }
   ],
   "source": [
    "lambda x:x**2\n",
    "x(2)"
   ]
  },
  {
   "cell_type": "code",
   "execution_count": 26,
   "id": "f8ccdcf2",
   "metadata": {},
   "outputs": [
    {
     "data": {
      "text/plain": [
       "36"
      ]
     },
     "execution_count": 26,
     "metadata": {},
     "output_type": "execute_result"
    }
   ],
   "source": [
    "y=lambda x:x**2\n",
    "y(6)"
   ]
  },
  {
   "cell_type": "code",
   "execution_count": 28,
   "id": "549ee092",
   "metadata": {},
   "outputs": [
    {
     "data": {
      "text/plain": [
       "6"
      ]
     },
     "execution_count": 28,
     "metadata": {},
     "output_type": "execute_result"
    }
   ],
   "source": [
    "x=lambda l,b:l*b\n",
    "x(2,3)"
   ]
  },
  {
   "cell_type": "markdown",
   "id": "e9ee5bd5",
   "metadata": {},
   "source": [
    "### difference"
   ]
  },
  {
   "cell_type": "code",
   "execution_count": null,
   "id": "6159ae80",
   "metadata": {},
   "outputs": [],
   "source": []
  },
  {
   "cell_type": "markdown",
   "id": "ec545485",
   "metadata": {},
   "source": [
    "### Function filtering (lambda function and fix function)"
   ]
  },
  {
   "cell_type": "markdown",
   "id": "403c2c1e",
   "metadata": {},
   "source": [
    "### list use garda ko example below"
   ]
  },
  {
   "cell_type": "code",
   "execution_count": 31,
   "id": "6b0cc1d6",
   "metadata": {},
   "outputs": [
    {
     "data": {
      "text/plain": [
       "[2, 2, 4, 6, 4, 8, 10]"
      ]
     },
     "execution_count": 31,
     "metadata": {},
     "output_type": "execute_result"
    }
   ],
   "source": [
    "y=[1,2,3,1,2,4,5,6,3,4,5,8,10]\n",
    "list(filter(lambda x:x%2==0,y))"
   ]
  },
  {
   "cell_type": "markdown",
   "id": "03040416",
   "metadata": {},
   "source": [
    "### tuple ma ko example below"
   ]
  },
  {
   "cell_type": "code",
   "execution_count": 32,
   "id": "743c75bf",
   "metadata": {},
   "outputs": [
    {
     "data": {
      "text/plain": [
       "(2, 2, 4, 6, 4, 8, 10)"
      ]
     },
     "execution_count": 32,
     "metadata": {},
     "output_type": "execute_result"
    }
   ],
   "source": [
    "y=[1,2,3,1,2,4,5,6,3,4,5,8,10]\n",
    "tuple(filter(lambda x:x%2==0,y))"
   ]
  },
  {
   "cell_type": "code",
   "execution_count": 33,
   "id": "42ebdf13",
   "metadata": {},
   "outputs": [
    {
     "data": {
      "text/plain": [
       "('Apple', 'Cat', 'Dog')"
      ]
     },
     "execution_count": 33,
     "metadata": {},
     "output_type": "execute_result"
    }
   ],
   "source": [
    "a=['Apple', 'ball', 'Cat', 'Dog']           # yeha suruko capital letter bhayeko lai matra liyeko\n",
    "tuple(filter(lambda x:x[0].isupper(),a))"
   ]
  },
  {
   "cell_type": "markdown",
   "id": "fce51654",
   "metadata": {},
   "source": [
    "### comprihension list example as given below"
   ]
  },
  {
   "cell_type": "code",
   "execution_count": 34,
   "id": "2eee978b",
   "metadata": {},
   "outputs": [
    {
     "data": {
      "text/plain": [
       "['Apple', 'Cat', 'Dog']"
      ]
     },
     "execution_count": 34,
     "metadata": {},
     "output_type": "execute_result"
    }
   ],
   "source": [
    "a=['Apple', 'ball', 'Cat', 'Dog']     \n",
    "b=[i for i in a if i[0].isupper()]\n",
    "b"
   ]
  },
  {
   "cell_type": "markdown",
   "id": "13aca8bb",
   "metadata": {},
   "source": [
    "### map function"
   ]
  },
  {
   "cell_type": "code",
   "execution_count": 36,
   "id": "e026c39c",
   "metadata": {},
   "outputs": [
    {
     "data": {
      "text/plain": [
       "[1, 4, 9, 16, 25, 36]"
      ]
     },
     "execution_count": 36,
     "metadata": {},
     "output_type": "execute_result"
    }
   ],
   "source": [
    "a=[1,2,3,4,5,6]\n",
    "list(map(lambda x:x**2,a))"
   ]
  },
  {
   "cell_type": "code",
   "execution_count": null,
   "id": "c3623fb8",
   "metadata": {},
   "outputs": [],
   "source": [
    "a=[1,2,3,4,5,6]\n",
    "list(map(lambda x:x**3,a))"
   ]
  },
  {
   "cell_type": "code",
   "execution_count": 37,
   "id": "672d4ad6",
   "metadata": {},
   "outputs": [
    {
     "data": {
      "text/plain": [
       "['APPLE', 'BALL', 'CAT', 'DOG']"
      ]
     },
     "execution_count": 37,
     "metadata": {},
     "output_type": "execute_result"
    }
   ],
   "source": [
    "a=['apple', 'ball', 'cat', 'dog'] \n",
    "list(map(lambda x:x.upper(),a))"
   ]
  },
  {
   "cell_type": "code",
   "execution_count": 38,
   "id": "283d98a1",
   "metadata": {},
   "outputs": [
    {
     "data": {
      "text/plain": [
       "['Apple', 'Ball', 'Cat', 'Dog']"
      ]
     },
     "execution_count": 38,
     "metadata": {},
     "output_type": "execute_result"
    }
   ],
   "source": [
    "a=['apple', 'ball', 'cat', 'dog'] \n",
    "list(map(lambda x:x.title(),a))"
   ]
  },
  {
   "cell_type": "code",
   "execution_count": null,
   "id": "1f5de20b",
   "metadata": {},
   "outputs": [],
   "source": []
  }
 ],
 "metadata": {
  "kernelspec": {
   "display_name": "Python 3 (ipykernel)",
   "language": "python",
   "name": "python3"
  },
  "language_info": {
   "codemirror_mode": {
    "name": "ipython",
    "version": 3
   },
   "file_extension": ".py",
   "mimetype": "text/x-python",
   "name": "python",
   "nbconvert_exporter": "python",
   "pygments_lexer": "ipython3",
   "version": "3.10.7"
  }
 },
 "nbformat": 4,
 "nbformat_minor": 5
}
