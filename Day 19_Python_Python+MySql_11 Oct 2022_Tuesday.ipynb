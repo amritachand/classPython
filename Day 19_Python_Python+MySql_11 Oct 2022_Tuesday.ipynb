{
 "cells": [
  {
   "cell_type": "code",
   "execution_count": 5,
   "id": "ed175754",
   "metadata": {},
   "outputs": [
    {
     "name": "stdout",
     "output_type": "stream",
     "text": [
      "Requirement already satisfied: mysql-connector in c:\\users\\aadsf\\appdata\\local\\programs\\python\\python310\\lib\\site-packages (2.2.9)\n"
     ]
    }
   ],
   "source": [
    "!pip install mysql-connector"
   ]
  },
  {
   "cell_type": "code",
   "execution_count": 1,
   "id": "3b6b9c49",
   "metadata": {},
   "outputs": [],
   "source": [
    "import mysql.connector  #importing database\n",
    "database = mysql.connector.connect(\n",
    "  host=\"localhost\",\n",
    "  user=\"root\",\n",
    "  password=\"\"\n",
    ")\n",
    "db = database.cursor() \n",
    "\n",
    "\n",
    "db.execute(\"CREATE DATABASE amrita\")"
   ]
  },
  {
   "cell_type": "code",
   "execution_count": 2,
   "id": "d9e58d62",
   "metadata": {},
   "outputs": [],
   "source": [
    "import mysql.connector  #importing database\n",
    "database = mysql.connector.connect(\n",
    "  host=\"localhost\",\n",
    "  user=\"root\",\n",
    "  password=\"\",\n",
    "  database='python630'\n",
    ")\n",
    "\n",
    "db = database.cursor()"
   ]
  },
  {
   "cell_type": "code",
   "execution_count": 4,
   "id": "f86914e3",
   "metadata": {},
   "outputs": [
    {
     "data": {
      "text/plain": [
       "[(10, 'Sanian', 78, 90, 67, 87, 412, 82.0, 'A'),\n",
       " (10, 'Ram', 76, 98, 45, 88, 433, 85.5, 'A'),\n",
       " (11, 'Sushant', 76, 98, 45, 88, 433, 85.5, 'A'),\n",
       " (14, 'Sushma', 76, 68, 98, 88, 433, 80.5, 'A'),\n",
       " (18, 'Radha', 76, 98, 45, 59, 467, 85.5, 'A'),\n",
       " (13, '', 89, 76, 89, 56, 423, 89.5, 'A'),\n",
       " (13, '', 89, 76, 89, 56, 423, 89.5, 'A'),\n",
       " (0, '45', 67, 89, 90, 12, 348, 69.6, 'B'),\n",
       " (0, '34', 67, 89, 0, 97, 309, 61.8, 'B'),\n",
       " (13, '', 89, 76, 89, 56, 423, 89.5, 'A'),\n",
       " (0, 'Rama', 67, 68, 99, 87, 396, 79.2, 'B')]"
      ]
     },
     "execution_count": 4,
     "metadata": {},
     "output_type": "execute_result"
    }
   ],
   "source": [
    "db.execute(\"SELECT * FROM student\")\n",
    "result =db.fetchall()\n",
    "result"
   ]
  },
  {
   "cell_type": "code",
   "execution_count": 5,
   "id": "07a75676",
   "metadata": {},
   "outputs": [
    {
     "data": {
      "text/plain": [
       "[(10, 'Ram', 76, 98, 45, 88, 433, 85.5, 'A')]"
      ]
     },
     "execution_count": 5,
     "metadata": {},
     "output_type": "execute_result"
    }
   ],
   "source": [
    "db.execute(\"SELECT * From student where name='Ram'\")\n",
    "result=db.fetchall()\n",
    "result"
   ]
  },
  {
   "cell_type": "code",
   "execution_count": 9,
   "id": "704c25c9",
   "metadata": {},
   "outputs": [
    {
     "data": {
      "text/plain": [
       "[(10, 'Sanian', 412, 82.0, 'A'),\n",
       " (10, 'Ram', 433, 85.5, 'A'),\n",
       " (11, 'Sushant', 433, 85.5, 'A'),\n",
       " (14, 'Sushma', 433, 80.5, 'A'),\n",
       " (18, 'Radha', 467, 85.5, 'A'),\n",
       " (13, '', 423, 89.5, 'A'),\n",
       " (13, '', 423, 89.5, 'A'),\n",
       " (0, '45', 348, 69.6, 'B'),\n",
       " (0, '34', 309, 61.8, 'B')]"
      ]
     },
     "execution_count": 9,
     "metadata": {},
     "output_type": "execute_result"
    }
   ],
   "source": [
    "db.execute(\"SELECT sn, name,total,per,grade From student\")\n",
    "result=db.fetchall()\n",
    "result"
   ]
  },
  {
   "cell_type": "code",
   "execution_count": 10,
   "id": "3cdb6afd",
   "metadata": {},
   "outputs": [
    {
     "data": {
      "text/plain": [
       "[(10, 'Sanian', 78, 90, 67, 87, 412, 82.0, 'A'),\n",
       " (10, 'Ram', 76, 98, 45, 88, 433, 85.5, 'A'),\n",
       " (11, 'Sushant', 76, 98, 45, 88, 433, 85.5, 'A'),\n",
       " (14, 'Sushma', 76, 68, 98, 88, 433, 80.5, 'A'),\n",
       " (18, 'Radha', 76, 98, 45, 59, 467, 85.5, 'A'),\n",
       " (13, '', 89, 76, 89, 56, 423, 89.5, 'A'),\n",
       " (13, '', 89, 76, 89, 56, 423, 89.5, 'A')]"
      ]
     },
     "execution_count": 10,
     "metadata": {},
     "output_type": "execute_result"
    }
   ],
   "source": [
    "db.execute(\"SELECT * FROM student WHERE grade='A'\")\n",
    "result =db.fetchall()\n",
    "result"
   ]
  },
  {
   "cell_type": "code",
   "execution_count": 11,
   "id": "5f894389",
   "metadata": {},
   "outputs": [
    {
     "data": {
      "text/plain": [
       "[(10, 'Sanian', 78, 90, 67, 87, 412, 82.0, 'A'),\n",
       " (10, 'Ram', 76, 98, 45, 88, 433, 85.5, 'A'),\n",
       " (11, 'Sushant', 76, 98, 45, 88, 433, 85.5, 'A'),\n",
       " (14, 'Sushma', 76, 68, 98, 88, 433, 80.5, 'A'),\n",
       " (18, 'Radha', 76, 98, 45, 59, 467, 85.5, 'A'),\n",
       " (13, '', 89, 76, 89, 56, 423, 89.5, 'A'),\n",
       " (13, '', 89, 76, 89, 56, 423, 89.5, 'A')]"
      ]
     },
     "execution_count": 11,
     "metadata": {},
     "output_type": "execute_result"
    }
   ],
   "source": [
    "db.execute(\"SELECT * FROM student WHERE per > 80.0\")\n",
    "result =db.fetchall()\n",
    "result"
   ]
  },
  {
   "cell_type": "code",
   "execution_count": 12,
   "id": "4f16dbc6",
   "metadata": {},
   "outputs": [],
   "source": [
    "sql = ''' INSERT INTO `student` (`sn`, `name`, `physics`, `chemistry`, `math`, `english`, `total`, `per`, `grade`) VALUES ('13', '', '89', '76', '89', '56', '423', '89.5', 'A'); '''\n",
    "db.execute(sql)\n",
    "database.commit()"
   ]
  },
  {
   "cell_type": "code",
   "execution_count": 6,
   "id": "0ae59c5b",
   "metadata": {},
   "outputs": [
    {
     "name": "stdout",
     "output_type": "stream",
     "text": [
      "Enter n= 2\n",
      "Enter name= pokhrel\n",
      "Enter physics marks= 56\n",
      "Enter chemistry marks= 45\n",
      "Enter math marks= 54\n",
      "Enter english marks= 45\n",
      "Enter nepali marks= 46\n",
      "Enter name= prakash\n",
      "Enter physics marks= 32\n",
      "Enter chemistry marks= 23\n",
      "Enter math marks= 32\n",
      "Enter english marks= 13\n",
      "Enter nepali marks= 32\n"
     ]
    }
   ],
   "source": [
    "n=int(input(\"Enter n= \"))\n",
    "for i in range(n):\n",
    "    name=input(\"Enter name= \")\n",
    "    physics=int(input(\"Enter physics marks= \"))\n",
    "    chemistry=int(input(\"Enter chemistry marks= \"))\n",
    "    math=int(input(\"Enter math marks= \"))\n",
    "    english=int(input(\"Enter english marks= \"))\n",
    "    nepali=int(input(\"Enter nepali marks= \"))\n",
    "    total=physics+chemistry+math+english+nepali\n",
    "    per=total/5\n",
    "    if per >= 80:\n",
    "        grade ='A'\n",
    "    elif per > 60:\n",
    "        grade = 'B'\n",
    "    elif per > 45:\n",
    "        grade ='C'\n",
    "    else:\n",
    "        grade = 'F'\n",
    "        \n",
    "        \n",
    "    sql = f'''INSERT INTO student (name, physics, chemistry, math, english,\n",
    "    total, per, grade) VALUES ('{name}', {physics}, {chemistry}, {math}, {english},\n",
    "    {total}, {per}, '{grade}')'''\n",
    "    db.execute(sql)\n",
    "    database.commit()\n",
    "        \n",
    "    "
   ]
  },
  {
   "cell_type": "code",
   "execution_count": null,
   "id": "bb413b32",
   "metadata": {},
   "outputs": [],
   "source": []
  },
  {
   "cell_type": "code",
   "execution_count": null,
   "id": "3cc6b72d",
   "metadata": {},
   "outputs": [],
   "source": [
    "p"
   ]
  }
 ],
 "metadata": {
  "kernelspec": {
   "display_name": "Python 3 (ipykernel)",
   "language": "python",
   "name": "python3"
  },
  "language_info": {
   "codemirror_mode": {
    "name": "ipython",
    "version": 3
   },
   "file_extension": ".py",
   "mimetype": "text/x-python",
   "name": "python",
   "nbconvert_exporter": "python",
   "pygments_lexer": "ipython3",
   "version": "3.10.7"
  }
 },
 "nbformat": 4,
 "nbformat_minor": 5
}
