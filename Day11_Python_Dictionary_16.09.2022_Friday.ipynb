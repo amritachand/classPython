{
 "cells": [
  {
   "cell_type": "markdown",
   "id": "2b45cd7f",
   "metadata": {},
   "source": [
    "# Dictionary"
   ]
  },
  {
   "cell_type": "code",
   "execution_count": null,
   "id": "57add85c",
   "metadata": {},
   "outputs": [],
   "source": [
    "# Dictionary\n",
    "# -Indexed\n",
    "# -Duplicate or multiple data\n",
    "# -Ordered\n",
    "# -Mutable"
   ]
  },
  {
   "cell_type": "code",
   "execution_count": null,
   "id": "4c95c1f0",
   "metadata": {},
   "outputs": [],
   "source": [
    "#d={<key>:<value>,<key>:<value>,.....}"
   ]
  },
  {
   "cell_type": "markdown",
   "id": "624d8a42",
   "metadata": {},
   "source": [
    "# Ordered"
   ]
  },
  {
   "cell_type": "code",
   "execution_count": 1,
   "id": "3956a3f0",
   "metadata": {},
   "outputs": [
    {
     "name": "stdout",
     "output_type": "stream",
     "text": [
      "<class 'dict'>\n",
      "{'a': 'apple', 'b': 'ball', 'c': 'cat'}\n"
     ]
    }
   ],
   "source": [
    "d={'a':'apple','b':'ball','c':'cat'}\n",
    "print(type(d))\n",
    "print(d)"
   ]
  },
  {
   "cell_type": "code",
   "execution_count": 5,
   "id": "cabcb31d",
   "metadata": {},
   "outputs": [
    {
     "name": "stdout",
     "output_type": "stream",
     "text": [
      "<class 'dict'>\n",
      "{'a': 'apple', 'b': 'ball', 'c': 'cat'}\n"
     ]
    }
   ],
   "source": [
    "d={'a':'apple','b':'ball','c':'cat'}\n",
    "print(type(d))\n",
    "print(d)"
   ]
  },
  {
   "cell_type": "markdown",
   "id": "55c44e42",
   "metadata": {},
   "source": [
    "# Indexed"
   ]
  },
  {
   "cell_type": "code",
   "execution_count": 2,
   "id": "7bb334ca",
   "metadata": {},
   "outputs": [
    {
     "name": "stdout",
     "output_type": "stream",
     "text": [
      "apple\n",
      "ball\n"
     ]
    }
   ],
   "source": [
    "print(d['a'])\n",
    "print(d['b'])"
   ]
  },
  {
   "cell_type": "code",
   "execution_count": 7,
   "id": "5f9026f9",
   "metadata": {},
   "outputs": [
    {
     "name": "stdout",
     "output_type": "stream",
     "text": [
      "apple\n",
      "ball\n"
     ]
    }
   ],
   "source": [
    "print(d['a'])\n",
    "print(d['b'])"
   ]
  },
  {
   "cell_type": "markdown",
   "id": "35433791",
   "metadata": {},
   "source": [
    "# Duplicate or Multiple Data"
   ]
  },
  {
   "cell_type": "code",
   "execution_count": 8,
   "id": "4530ad89",
   "metadata": {},
   "outputs": [
    {
     "name": "stdout",
     "output_type": "stream",
     "text": [
      "{'a': 'apple', 'b': 'ball', 'c': 'cat', 'A': 'apple'}\n"
     ]
    }
   ],
   "source": [
    "d={'a':'apple','b':'ball','c':'cat','A':'apple'}\n",
    "print(d)"
   ]
  },
  {
   "cell_type": "code",
   "execution_count": 6,
   "id": "b8b560ab",
   "metadata": {},
   "outputs": [
    {
     "data": {
      "text/plain": [
       "{'a': 'Apple', 'b': 'ball', 'c': 'cat'}"
      ]
     },
     "execution_count": 6,
     "metadata": {},
     "output_type": "execute_result"
    }
   ],
   "source": [
    "d={'a':'apple','b':'ball','c':'cat','a':'Apple'}\n",
    "d"
   ]
  },
  {
   "cell_type": "code",
   "execution_count": 9,
   "id": "081a49ff",
   "metadata": {},
   "outputs": [
    {
     "name": "stdout",
     "output_type": "stream",
     "text": [
      "{'a': 'Apple', 'b': 'ball,', 'c': 'Cat'}\n"
     ]
    }
   ],
   "source": [
    "d={'a':'apple','b':'ball,','c':'Cat', 'a':'Apple'}\n",
    "print(d)"
   ]
  },
  {
   "cell_type": "code",
   "execution_count": 10,
   "id": "a198651b",
   "metadata": {},
   "outputs": [
    {
     "data": {
      "text/plain": [
       "{'a': 'Apple', 'b': 'Ball', 'c': 'Cat'}"
      ]
     },
     "execution_count": 10,
     "metadata": {},
     "output_type": "execute_result"
    }
   ],
   "source": [
    "#d=dict{}\n",
    "d={}\n",
    "d['a']='Apple'\n",
    "d['b']='Ball'\n",
    "d['c']='Cat'\n",
    "d"
   ]
  },
  {
   "cell_type": "code",
   "execution_count": 10,
   "id": "411b1d3b",
   "metadata": {},
   "outputs": [
    {
     "name": "stdout",
     "output_type": "stream",
     "text": [
      "{'a': 'Apple', 'b': 'Ball', 'c': 'Cat'}\n"
     ]
    }
   ],
   "source": [
    "# d=dict{}\n",
    "d={}\n",
    "d['a']='Apple'\n",
    "d['b']='Ball'\n",
    "d['c']='Cat'\n",
    "print(d)"
   ]
  },
  {
   "cell_type": "code",
   "execution_count": 19,
   "id": "9592a4a5",
   "metadata": {},
   "outputs": [
    {
     "name": "stdout",
     "output_type": "stream",
     "text": [
      "Enter n=2\n",
      "Enter name=Ram\n",
      "Enter phone=9851014274\n",
      "Enter name=Shyam\n",
      "Enter phone=9851076232\n",
      "{'Ram': 9851014274, 'Shyam': 9851076232}\n"
     ]
    }
   ],
   "source": [
    "d={}\n",
    "n=int(input(\"Enter n=\"))\n",
    "for i in range(n):\n",
    "    name=input(\"Enter name=\")\n",
    "    phone=int(input(\"Enter phone=\"))\n",
    "    d[name]=phone\n",
    "\n",
    "print(d)"
   ]
  },
  {
   "cell_type": "code",
   "execution_count": null,
   "id": "4e22ad48",
   "metadata": {},
   "outputs": [],
   "source": []
  },
  {
   "cell_type": "code",
   "execution_count": 20,
   "id": "85c85c2c",
   "metadata": {},
   "outputs": [],
   "source": [
    "#for loop lagayera "
   ]
  },
  {
   "cell_type": "code",
   "execution_count": 23,
   "id": "1be80806",
   "metadata": {},
   "outputs": [
    {
     "name": "stdout",
     "output_type": "stream",
     "text": [
      "{'Ram': 9851014274, 'Shyam': 9851076232}\n",
      "{'Ram': 9851014274, 'Shyam': 9851076232}\n"
     ]
    }
   ],
   "source": [
    "for i in d:\n",
    "    print(d)"
   ]
  },
  {
   "cell_type": "code",
   "execution_count": 24,
   "id": "c24a79f8",
   "metadata": {},
   "outputs": [
    {
     "name": "stdout",
     "output_type": "stream",
     "text": [
      "Ram\n",
      "Shyam\n"
     ]
    }
   ],
   "source": [
    "for i in d:\n",
    "    print(i)"
   ]
  },
  {
   "cell_type": "markdown",
   "id": "f3c58f77",
   "metadata": {},
   "source": [
    "# for loop ma values print out garnu pareko awasthama below process"
   ]
  },
  {
   "cell_type": "code",
   "execution_count": 25,
   "id": "80a69415",
   "metadata": {},
   "outputs": [
    {
     "name": "stdout",
     "output_type": "stream",
     "text": [
      "9851014274\n",
      "9851076232\n"
     ]
    }
   ],
   "source": [
    "for i in d.values():\n",
    "    print(i)"
   ]
  },
  {
   "cell_type": "code",
   "execution_count": 26,
   "id": "1202a6c6",
   "metadata": {},
   "outputs": [
    {
     "name": "stdout",
     "output_type": "stream",
     "text": [
      "('Ram', 9851014274)\n",
      "('Shyam', 9851076232)\n"
     ]
    }
   ],
   "source": [
    "for i in d.items():\n",
    "    print(i)"
   ]
  },
  {
   "cell_type": "markdown",
   "id": "817cdf96",
   "metadata": {},
   "source": [
    "# List ma append gareko awasthama below process"
   ]
  },
  {
   "cell_type": "code",
   "execution_count": 3,
   "id": "8ed6aa0f",
   "metadata": {},
   "outputs": [
    {
     "ename": "SyntaxError",
     "evalue": "expected ':' (588285511.py, line 2)",
     "output_type": "error",
     "traceback": [
      "\u001b[1;36m  Cell \u001b[1;32mIn [3], line 2\u001b[1;36m\u001b[0m\n\u001b[1;33m    for i in d.items()\u001b[0m\n\u001b[1;37m                      ^\u001b[0m\n\u001b[1;31mSyntaxError\u001b[0m\u001b[1;31m:\u001b[0m expected ':'\n"
     ]
    }
   ],
   "source": [
    "l=[]\n",
    "for i in d.items()\n",
    "    l.append(i):\n",
    "    \n",
    "print(l)"
   ]
  },
  {
   "cell_type": "code",
   "execution_count": 4,
   "id": "10e4cbe6",
   "metadata": {},
   "outputs": [
    {
     "data": {
      "text/plain": [
       "{}"
      ]
     },
     "execution_count": 4,
     "metadata": {},
     "output_type": "execute_result"
    }
   ],
   "source": [
    "dict(l)"
   ]
  },
  {
   "cell_type": "code",
   "execution_count": 5,
   "id": "93243543",
   "metadata": {},
   "outputs": [
    {
     "name": "stdout",
     "output_type": "stream",
     "text": [
      "{'ram': 9851014274, 'shyam': 987709}\n"
     ]
    }
   ],
   "source": [
    "d={'ram': 9876554, 'shyam': 987709}\n",
    "d['ram']=9851014274\n",
    "print(d)"
   ]
  },
  {
   "cell_type": "code",
   "execution_count": 6,
   "id": "147dae0b",
   "metadata": {},
   "outputs": [
    {
     "name": "stdout",
     "output_type": "stream",
     "text": [
      "{'ram': 9876554, 'shyam': 987709, 'Ram': 9851014274}\n"
     ]
    }
   ],
   "source": [
    "d={'ram': 9876554, 'shyam': 987709}\n",
    "d['Ram']=9851014274\n",
    "print(d)"
   ]
  },
  {
   "cell_type": "markdown",
   "id": "783fbc15",
   "metadata": {},
   "source": [
    "# Delete, Pop (remove garnu pareko awasthama)"
   ]
  },
  {
   "cell_type": "code",
   "execution_count": 7,
   "id": "6b1e625d",
   "metadata": {},
   "outputs": [
    {
     "name": "stdout",
     "output_type": "stream",
     "text": [
      "{'shyam': 987709}\n"
     ]
    }
   ],
   "source": [
    "#del pop()\n",
    "d={'ram': 9851014274, 'shyam': 987709}\n",
    "del d['ram']\n",
    "print(d)"
   ]
  },
  {
   "cell_type": "code",
   "execution_count": 8,
   "id": "c854ffcc",
   "metadata": {},
   "outputs": [
    {
     "name": "stdout",
     "output_type": "stream",
     "text": [
      "{'shyam': 987709}\n",
      "9851014274\n"
     ]
    }
   ],
   "source": [
    "d={'ram': 9851014274, 'shyam': 987709}\n",
    "x=d.pop('ram')\n",
    "print(d)\n",
    "print(x)"
   ]
  },
  {
   "cell_type": "markdown",
   "id": "fbce6cc0",
   "metadata": {},
   "source": [
    "# Dictionery ma kunari multiply , plus, ... garna ( No multiply *, Plus+,.......)"
   ]
  },
  {
   "cell_type": "code",
   "execution_count": 18,
   "id": "fa3b26bb",
   "metadata": {},
   "outputs": [
    {
     "ename": "TypeError",
     "evalue": "unsupported operand type(s) for +: 'dict' and 'dict'",
     "output_type": "error",
     "traceback": [
      "\u001b[1;31m---------------------------------------------------------------------------\u001b[0m",
      "\u001b[1;31mTypeError\u001b[0m                                 Traceback (most recent call last)",
      "Cell \u001b[1;32mIn [18], line 3\u001b[0m\n\u001b[0;32m      1\u001b[0m d\u001b[38;5;241m=\u001b[39m{\u001b[38;5;124m'\u001b[39m\u001b[38;5;124mram\u001b[39m\u001b[38;5;124m'\u001b[39m: \u001b[38;5;241m9851014274\u001b[39m, \u001b[38;5;124m'\u001b[39m\u001b[38;5;124mshyam\u001b[39m\u001b[38;5;124m'\u001b[39m: \u001b[38;5;241m987709\u001b[39m}\n\u001b[0;32m      2\u001b[0m a\u001b[38;5;241m=\u001b[39m{\u001b[38;5;124m'\u001b[39m\u001b[38;5;124mhari\u001b[39m\u001b[38;5;124m'\u001b[39m:\u001b[38;5;241m765098\u001b[39m}\n\u001b[1;32m----> 3\u001b[0m c\u001b[38;5;241m=\u001b[39m\u001b[43ma\u001b[49m\u001b[38;5;241;43m+\u001b[39;49m\u001b[43md\u001b[49m\n\u001b[0;32m      4\u001b[0m \u001b[38;5;28mprint\u001b[39m(c)\n",
      "\u001b[1;31mTypeError\u001b[0m: unsupported operand type(s) for +: 'dict' and 'dict'"
     ]
    }
   ],
   "source": [
    "d={'ram': 9851014274, 'shyam': 987709}\n",
    "a={'hari':765098}\n",
    "c=a+d\n",
    "print(c)"
   ]
  },
  {
   "cell_type": "code",
   "execution_count": 19,
   "id": "4441993c",
   "metadata": {},
   "outputs": [
    {
     "name": "stdout",
     "output_type": "stream",
     "text": [
      "{'ram': 9851014274, 'shyam': 987709, 'hari': 765098}\n"
     ]
    }
   ],
   "source": [
    "d.update(a)\n",
    "print(d)\n"
   ]
  },
  {
   "cell_type": "markdown",
   "id": "81e3421e",
   "metadata": {},
   "source": [
    "# ram ko two value bhayeko awasthmama"
   ]
  },
  {
   "cell_type": "code",
   "execution_count": 20,
   "id": "c1835e37",
   "metadata": {},
   "outputs": [
    {
     "name": "stdout",
     "output_type": "stream",
     "text": [
      "{'ram': [9851014274, 9851076232], 'shyam': [987709, 985432098]}\n"
     ]
    }
   ],
   "source": [
    "#list inside dict\n",
    "d={'ram': [9851014274,9851076232], 'shyam': [987709,985432098]} \n",
    "print(d)"
   ]
  },
  {
   "cell_type": "code",
   "execution_count": 21,
   "id": "48edb7fc",
   "metadata": {},
   "outputs": [
    {
     "ename": "SyntaxError",
     "evalue": "closing parenthesis '}' does not match opening parenthesis '[' (3912398552.py, line 1)",
     "output_type": "error",
     "traceback": [
      "\u001b[1;36m  Cell \u001b[1;32mIn [21], line 1\u001b[1;36m\u001b[0m\n\u001b[1;33m    print(d['ram'][0}\u001b[0m\n\u001b[1;37m                    ^\u001b[0m\n\u001b[1;31mSyntaxError\u001b[0m\u001b[1;31m:\u001b[0m closing parenthesis '}' does not match opening parenthesis '['\n"
     ]
    }
   ],
   "source": [
    "print(d['ram'][0}"
   ]
  },
  {
   "cell_type": "code",
   "execution_count": null,
   "id": "6af0273f",
   "metadata": {},
   "outputs": [],
   "source": []
  },
  {
   "cell_type": "code",
   "execution_count": 22,
   "id": "c51ade9c",
   "metadata": {},
   "outputs": [
    {
     "name": "stdout",
     "output_type": "stream",
     "text": [
      "Enter n=2\n",
      "Enter name=Hari\n",
      "Enter phone=9851014275\n",
      "Enter phone=980111222\n",
      "Enter name=Shyam\n",
      "Enter phone=9851076233\n",
      "Enter phone=980133444\n",
      "{'Hari': [9851014275, 980111222], 'Shyam': [9851076233, 980133444]}\n"
     ]
    }
   ],
   "source": [
    "d={}\n",
    "n=int(input(\"Enter n=\"))\n",
    "for i in range(n):\n",
    "    name=input(\"Enter name=\")\n",
    "    ntc_phone=int(input(\"Enter phone=\"))\n",
    "    ncell_phone=int(input(\"Enter phone=\"))\n",
    "    d[name]=[ntc_phone, ncell_phone]\n",
    "print(d)"
   ]
  },
  {
   "cell_type": "code",
   "execution_count": 23,
   "id": "eae9caef",
   "metadata": {},
   "outputs": [
    {
     "data": {
      "text/plain": [
       "{'name': 'Rita', 'age': 65, 'add': 'Lalitpur'}"
      ]
     },
     "execution_count": 23,
     "metadata": {},
     "output_type": "execute_result"
    }
   ],
   "source": [
    "# dict inside List\n",
    "l=[{'name':'Ram','age':45, 'add':'Kathmandu'},\n",
    "  {'name':'Rama','age':35,'add':'Bhaktapur'},\n",
    "  {'name':'Rita','age':65,'add':'Lalitpur'}]\n",
    "l[2]"
   ]
  },
  {
   "cell_type": "markdown",
   "id": "2ad33e56",
   "metadata": {},
   "source": [
    "# l.append({'name':'Sarita','age':55,'add':'Kathmandu'})\n",
    "l"
   ]
  },
  {
   "cell_type": "code",
   "execution_count": 17,
   "id": "ce2118e8",
   "metadata": {},
   "outputs": [
    {
     "name": "stdout",
     "output_type": "stream",
     "text": [
      "Enter n=2\n",
      "Enter name=Hari\n",
      "Enter age=45\n",
      "Enter add=Lalitpur\n",
      "Enter name=Shayam\n",
      "Enter age=55\n",
      "Enter add=Bhaktapur\n",
      "[{'name': 'Hari', 'age': 45, 'add': 'Lalitpur'}, {'name': 'Shayam', 'age': 55, 'add': 'Bhaktapur'}]\n"
     ]
    }
   ],
   "source": [
    "l=[]\n",
    "n=int(input(\"Enter n=\"))\n",
    "for i in range(n):\n",
    "    name=input(\"Enter name=\")\n",
    "    age=int(input(\"Enter age=\"))\n",
    "    add=input(\"Enter add=\")\n",
    "    data={'name':name,'age':age,'add':add}\n",
    "    l.append(data)\n",
    "    \n",
    "print(l)"
   ]
  },
  {
   "cell_type": "code",
   "execution_count": null,
   "id": "b947fe51",
   "metadata": {},
   "outputs": [],
   "source": []
  },
  {
   "cell_type": "code",
   "execution_count": null,
   "id": "4174e31d",
   "metadata": {},
   "outputs": [],
   "source": []
  },
  {
   "cell_type": "code",
   "execution_count": null,
   "id": "015aff36",
   "metadata": {},
   "outputs": [],
   "source": []
  }
 ],
 "metadata": {
  "kernelspec": {
   "display_name": "Python 3 (ipykernel)",
   "language": "python",
   "name": "python3"
  },
  "language_info": {
   "codemirror_mode": {
    "name": "ipython",
    "version": 3
   },
   "file_extension": ".py",
   "mimetype": "text/x-python",
   "name": "python",
   "nbconvert_exporter": "python",
   "pygments_lexer": "ipython3",
   "version": "3.10.7"
  }
 },
 "nbformat": 4,
 "nbformat_minor": 5
}
